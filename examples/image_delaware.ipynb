{
 "cells": [
  {
   "cell_type": "markdown",
   "metadata": {},
   "source": [
    "# Tools for viewing domain\n",
    "\n",
    "This is a simple example used to make some images for a proposal, but shows a few of the ways we can make fancy images."
   ]
  },
  {
   "cell_type": "code",
   "execution_count": 1,
   "metadata": {},
   "outputs": [],
   "source": [
    "%matplotlib osx\n",
    "#%matplotlib inline"
   ]
  },
  {
   "cell_type": "code",
   "execution_count": 2,
   "metadata": {},
   "outputs": [],
   "source": [
    "import logging\n",
    "import numpy as np\n",
    "import fiona.crs\n",
    "from matplotlib import pyplot as plt\n",
    "from matplotlib import patches as pltp\n",
    "from matplotlib import collections as pltc\n",
    "import matplotlib.colors\n",
    "\n",
    "import workflow\n",
    "import workflow.ui\n",
    "import workflow.warp\n",
    "import workflow.plot\n",
    "import workflow.crs\n",
    "\n",
    "workflow.ui.setup_logging(1,None)"
   ]
  },
  {
   "cell_type": "code",
   "execution_count": 3,
   "metadata": {},
   "outputs": [
    {
     "name": "stderr",
     "output_type": "stream",
     "text": [
      "2020-05-14 09:52:52,847 - root - INFO: \n",
      "2020-05-14 09:52:52,852 - root - INFO: Meshing HUC: 0204\n",
      "2020-05-14 09:52:52,854 - root - INFO: ==============================\n",
      "2020-05-14 09:52:52,856 - root - INFO: Target projection: \"pyproj.Proj('+units=m +init=epsg:4269 ', preserve_units=True)\"\n"
     ]
    }
   ],
   "source": [
    "# set the HUC we wish to image, in this case the Delaware River Basin\n",
    "HUC = '0204'\n",
    "crs = workflow.crs.from_epsg('4269')\n",
    "\n",
    "logging.info(\"\")\n",
    "logging.info(\"Meshing HUC: {}\".format(HUC))\n",
    "logging.info(\"=\"*30)\n",
    "logging.info('Target projection: \"{}\"'.format(crs))\n",
    "    "
   ]
  },
  {
   "cell_type": "code",
   "execution_count": 4,
   "metadata": {},
   "outputs": [
    {
     "name": "stderr",
     "output_type": "stream",
     "text": [
      "2020-05-14 09:52:52,871 - root - INFO: Using sources:\n",
      "2020-05-14 09:52:52,873 - root - INFO: --------------\n",
      "2020-05-14 09:52:52,874 - root - INFO: HUC: National Watershed Boundary Dataset (WBD)\n",
      "2020-05-14 09:52:52,876 - root - INFO: hydrography: National Hydrography Dataset Plus High Resolution (NHDPlus HR)\n",
      "2020-05-14 09:52:52,879 - root - INFO: DEM: National Elevation Dataset (NED)\n",
      "2020-05-14 09:52:52,887 - root - INFO: soil type: National Resources Conservation Service Soil Survey (NRCS Soils)\n",
      "2020-05-14 09:52:52,890 - root - INFO: land cover: National Land Cover Database (NLCD) Layer: NLCD_2016_Land_Cover_L48\n",
      "2020-05-14 09:52:52,896 - root - INFO: soil thickness: None\n",
      "2020-05-14 09:52:52,898 - root - INFO: meteorology: DayMet 1km\n"
     ]
    }
   ],
   "source": [
    "# get the sources\n",
    "sources = workflow.source_list.get_default_sources()\n",
    "sources['hydrography'] = workflow.source_list.hydrography_sources['NHD Plus']\n",
    "\n",
    "workflow.source_list.log_sources(sources)"
   ]
  },
  {
   "cell_type": "code",
   "execution_count": 5,
   "metadata": {},
   "outputs": [
    {
     "name": "stderr",
     "output_type": "stream",
     "text": [
      "2020-05-14 09:52:52,907 - root - INFO: \n",
      "2020-05-14 09:52:52,908 - root - INFO: Preprocessing HUC\n",
      "2020-05-14 09:52:52,909 - root - INFO: ------------------------------\n",
      "2020-05-14 09:52:52,910 - root - INFO: Loading level 8 HUCs in 0204.\n",
      "2020-05-14 09:52:52,912 - root - INFO: Using HUC file \"/Users/uec/research/water/data/watershed-workflow/data-master/hydrography/WBD_02_GDB/WBD_02.gdb\"\n",
      "2020-05-14 09:52:53,249 - root - INFO:   found 17 HUCs.\n",
      "2020-05-14 09:52:53,250 - root - INFO:   -- 02040206\n",
      "2020-05-14 09:52:53,251 - root - INFO:   -- 02040301\n",
      "2020-05-14 09:52:53,252 - root - INFO:   -- 02040302\n",
      "2020-05-14 09:52:53,253 - root - INFO:   -- 02040105\n",
      "2020-05-14 09:52:53,258 - root - INFO:   -- 02040201\n",
      "2020-05-14 09:52:53,259 - root - INFO:   -- 02040202\n",
      "2020-05-14 09:52:53,260 - root - INFO:   -- 02040102\n",
      "2020-05-14 09:52:53,261 - root - INFO:   -- 02040103\n",
      "2020-05-14 09:52:53,265 - root - INFO:   -- 02040106\n",
      "2020-05-14 09:52:53,266 - root - INFO:   -- 02040203\n",
      "2020-05-14 09:52:53,274 - root - INFO:   -- 02040104\n",
      "2020-05-14 09:52:53,275 - root - INFO:   -- 02040101\n",
      "2020-05-14 09:52:53,276 - root - INFO:   -- 02040304\n",
      "2020-05-14 09:52:53,277 - root - INFO:   -- 02040207\n",
      "2020-05-14 09:52:53,280 - root - INFO:   -- 02040204\n",
      "2020-05-14 09:52:53,280 - root - INFO:   -- 02040205\n",
      "2020-05-14 09:52:53,281 - root - INFO:   -- 02040303\n"
     ]
    }
   ],
   "source": [
    "# get HUC 8s in the Delaware\n",
    "crs, huc = workflow.get_split_form_hucs(sources['HUC'], HUC, 8, crs=crs)"
   ]
  },
  {
   "cell_type": "code",
   "execution_count": 6,
   "metadata": {},
   "outputs": [
    {
     "name": "stderr",
     "output_type": "stream",
     "text": [
      "2020-05-14 09:52:58,174 - root - INFO: \n",
      "2020-05-14 09:52:58,175 - root - INFO: Preprocessing Shapes\n",
      "2020-05-14 09:52:58,177 - root - INFO: ------------------------------\n",
      "2020-05-14 09:52:58,178 - root - INFO: loading file: \"../data/hydrologic_units/others/Delaware/delriv/delawareriver.shp\"\n",
      "/Users/uec/codes/anaconda/3/envs/ats_meshing_20190719/lib/python3.7/site-packages/fiona/collection.py:336: FionaDeprecationWarning: Collection slicing is deprecated and will be disabled in a future version.\n",
      "  return self.session.__getitem__(item)\n"
     ]
    }
   ],
   "source": [
    "# we want the main channel.  This was available in a shapefile\n",
    "_, delriv = workflow.get_shapes('../data/hydrologic_units/others/Delaware/delriv/delawareriver.shp', -1, crs)\n"
   ]
  },
  {
   "cell_type": "code",
   "execution_count": 7,
   "metadata": {},
   "outputs": [],
   "source": [
    "# bring them all together in a single plot\n",
    "#\n",
    "# Note, we have to manage the layer order in matplotlib to get these to appear correctly.  This uses the zorder\n",
    "# option available in most matplotlib plotting methods.\n",
    "\n",
    "fig = plt.figure(dpi=300, figsize=(3,5.5))\n",
    "ax = workflow.plot.get_ax(crs, fig)\n",
    "\n",
    "workflow.plot.basemap(crs, ax, '10m', land_kwargs={'zorder':0}, \n",
    "                      ocean_kwargs={'zorder':5}, state_kwargs={'linewidth':0.3, 'zorder':1, 'color':'k'})\n",
    "workflow.plot.huc(huc.exterior(), crs, ax=ax, color='darkgray', linewidth=0.4, zorder=2)\n",
    "\n",
    "huc8s_delbay = [h8 for h8 in huc.polygons() if h8.properties['Name'] == 'Delaware Bay']\n",
    "huc8s_not_delbay = [h8 for h8 in huc.polygons() if h8.properties['Name'] != 'Delaware Bay']\n",
    "\n",
    "workflow.plot.shply(huc8s_delbay, crs, ax=ax, edgecolor='k', facecolor='lightsteelblue', \n",
    "                    alpha=0.3, linewidth=0.2, zorder=3)\n",
    "workflow.plot.shply(huc8s_not_delbay, crs, ax=ax, edgecolor='k', facecolor='darkseagreen', \n",
    "                    alpha=0.3, linewidth=0.2, zorder=4)\n",
    "\n",
    "# note too many reaches, the plot is overwhelmed\n",
    "#workflow.plot.shply(reaches, crs, ax=ax, color='cyan', linewidth=0.1, zorder=6) \n",
    "#workflow.plot.shply(delriv, crs, ax=ax, facecolor='b', linewidth=0., zorder=7)\n",
    "plt.savefig('delaware_river_map')\n",
    "plt.show()"
   ]
  },
  {
   "cell_type": "code",
   "execution_count": 8,
   "metadata": {},
   "outputs": [
    {
     "name": "stderr",
     "output_type": "stream",
     "text": [
      "2020-05-14 09:53:06,320 - root - INFO: \n",
      "2020-05-14 09:53:06,321 - root - INFO: Preprocessing HUC\n",
      "2020-05-14 09:53:06,323 - root - INFO: ------------------------------\n",
      "2020-05-14 09:53:06,324 - root - INFO: Loading level 12 HUCs in 0204010403.\n",
      "2020-05-14 09:53:06,326 - root - INFO: Using HUC file \"/Users/uec/research/water/data/watershed-workflow/data-master/hydrography/WBD_02_GDB/WBD_02.gdb\"\n",
      "2020-05-14 09:53:06,899 - root - INFO:   found 8 HUCs.\n",
      "2020-05-14 09:53:06,900 - root - INFO:   -- 020401040301\n",
      "2020-05-14 09:53:06,901 - root - INFO:   -- 020401040302\n",
      "2020-05-14 09:53:06,902 - root - INFO:   -- 020401040303\n",
      "2020-05-14 09:53:06,903 - root - INFO:   -- 020401040304\n",
      "2020-05-14 09:53:06,903 - root - INFO:   -- 020401040305\n",
      "2020-05-14 09:53:06,904 - root - INFO:   -- 020401040306\n",
      "2020-05-14 09:53:06,905 - root - INFO:   -- 020401040307\n",
      "2020-05-14 09:53:06,906 - root - INFO:   -- 020401040308\n"
     ]
    }
   ],
   "source": [
    "# Neversink\n",
    "neversink_huc = '0204010403'\n",
    "crs, neversink = workflow.get_split_form_hucs(sources['HUC'], neversink_huc, 12, crs=crs)"
   ]
  },
  {
   "cell_type": "code",
   "execution_count": 9,
   "metadata": {},
   "outputs": [],
   "source": [
    "# bring them all together in a single plot\n",
    "#\n",
    "# Note, we have to manage the layer order in matplotlib to get these to appear correctly.  This uses the zorder\n",
    "# option available in most matplotlib plotting methods.\n",
    "\n",
    "fig = plt.figure(dpi=300, figsize=(3,5.5))\n",
    "ax = workflow.plot.get_ax(crs, fig)\n",
    "\n",
    "workflow.plot.basemap(crs, ax, '10m', land_kwargs={'zorder':0}, \n",
    "                      ocean_kwargs={'zorder':5}, state_kwargs={'linewidth':0.3, 'zorder':1, 'color':'k'})\n",
    "workflow.plot.huc(huc.exterior(), crs, ax=ax, color='darkgray', linewidth=0.4, zorder=2)\n",
    "\n",
    "huc8s_delbay = [h8 for h8 in huc.polygons() if h8.properties['Name'] == 'Delaware Bay']\n",
    "huc8s_not_delbay = [h8 for h8 in huc.polygons() if h8.properties['Name'] != 'Delaware Bay']\n",
    "\n",
    "workflow.plot.shply(huc8s_delbay, crs, ax=ax, edgecolor='k', facecolor='lightsteelblue', \n",
    "                    alpha=0.3, linewidth=0.2, zorder=3)\n",
    "workflow.plot.shply(huc8s_not_delbay, crs, ax=ax, edgecolor='k', facecolor='darkseagreen', \n",
    "                    alpha=0.3, linewidth=0.2, zorder=4)\n",
    "\n",
    "workflow.plot.shply([neversink.exterior(),], crs, ax=ax, color='r', linewidth=0.3, zorder=5)\n",
    "plt.savefig('delaware_river_map_ns')\n",
    "plt.show()\n",
    "\n"
   ]
  },
  {
   "cell_type": "code",
   "execution_count": 13,
   "metadata": {},
   "outputs": [
    {
     "name": "stderr",
     "output_type": "stream",
     "text": [
      "2020-05-14 09:55:09,399 - root - INFO: \n",
      "2020-05-14 09:55:09,400 - root - INFO: Preprocessing Hydrography\n",
      "2020-05-14 09:55:09,402 - root - INFO: ------------------------------\n",
      "2020-05-14 09:55:09,403 - root - INFO: Loading streams in HUC 0204010403\n",
      "2020-05-14 09:55:09,404 - root - INFO:          and/or bounds (-74.75507860169711, 41.30338049109724, -74.35742150648105, 42.03506939725321)\n",
      "2020-05-14 09:55:09,407 - root - INFO: Using Hydrography file \"/Users/uec/research/water/data/watershed-workflow/data-master/hydrography/NHDPlus_H_0204_GDB/NHDPlus_H_0204.gdb\"\n",
      "2020-05-14 09:55:14,680 - root - INFO:   found 4434 reaches\n",
      "2020-05-14 09:55:15,035 - root - INFO:   filtered 5 of 2432 due to length criteria 0.06\n",
      "2020-05-14 09:55:15,079 - root - INFO:   ...filtering\n"
     ]
    }
   ],
   "source": [
    "# download/collect the river network within that shape's bounds\n",
    "_, reaches = workflow.get_reaches(sources['hydrography'], '0204010403', \n",
    "                                  neversink.exterior().bounds, crs, long=0.06)\n",
    "# simplify and prune rivers not IN the shape, constructing a tree-like data structure\n",
    "# for the river network\n",
    "reaches = workflow.hydrography.filter_rivers_to_shape(neversink.exterior(), reaches, 0.001)\n",
    "#rivers = workflow.simplify_and_prune(neversink, reaches, simplify=10, cut_intersections=True)\n"
   ]
  },
  {
   "cell_type": "code",
   "execution_count": 16,
   "metadata": {},
   "outputs": [
    {
     "name": "stderr",
     "output_type": "stream",
     "text": [
      "2020-05-14 09:56:05,637 - root - INFO: \n",
      "2020-05-14 09:56:05,638 - root - INFO: Preprocessing Raster\n",
      "2020-05-14 09:56:05,640 - root - INFO: ------------------------------\n",
      "2020-05-14 09:56:05,645 - root - INFO: collecting raster\n",
      "2020-05-14 09:56:05,646 - root - INFO: Collecting DEMs to tile bounds: [-74.76507860169711, 41.293380491097246, -74.34742150648104, 42.04506939725321]\n",
      "2020-05-14 09:56:05,648 - root - INFO:   Need:\n",
      "2020-05-14 09:56:05,649 - root - INFO:     /Users/uec/research/water/data/watershed-workflow/data-master/dem/USGS_NED_1as_n42_w075.img\n",
      "2020-05-14 09:56:05,652 - root - INFO:     /Users/uec/research/water/data/watershed-workflow/data-master/dem/USGS_NED_1as_n43_w075.img\n",
      "2020-05-14 09:56:05,939 - root - INFO:  raster bounds = (-74.76507860169711, 42.04506939725321, -74.34730082390547, 41.2931249527838)\n"
     ]
    }
   ],
   "source": [
    "# get DEM\n",
    "p, dem = workflow.get_raster_on_shape(sources['DEM'], neversink.exterior(), crs, mask=True, nodata=np.nan)\n"
   ]
  },
  {
   "cell_type": "code",
   "execution_count": 27,
   "metadata": {},
   "outputs": [
    {
     "name": "stderr",
     "output_type": "stream",
     "text": [
      "2020-05-14 10:15:16,591 - root - INFO: BOUNDS: (-74.76507860169711, 41.2931249527838, -74.34730082390547, 42.04506939725321)\n"
     ]
    },
    {
     "name": "stdout",
     "output_type": "stream",
     "text": [
      "(-74.76507860169711, -74.34730082390547) (41.2931249527838, 42.04506939725321)\n"
     ]
    }
   ],
   "source": [
    "# just the neversink\n",
    "fig = plt.figure(dpi=300, figsize=(3,5.5))\n",
    "ax = workflow.plot.get_ax(crs, fig)\n",
    "#workflow.plot.basemap(crs, ax, '10m', land_kwargs={'zorder':0}, \n",
    "#                      ocean_kwargs={'zorder':5}, state_kwargs={'linewidth':0.3, 'zorder':1, 'color':'k'})\n",
    "workflow.plot.dem(p, dem, ax=ax)\n",
    "workflow.plot.hucs(neversink, crs, ax=ax, color='r', linewidth=0.4, zorder=5)\n",
    "workflow.plot.shply(reaches, crs, ax=ax, color='white', linewidth=0.3, zorder=4)\n",
    "print(ax.get_xlim(), ax.get_ylim())\n",
    "#ax.set_xlim(-77,-74.2)\n",
    "#ax.set_ylim(39,42.4)\n",
    "\n",
    "plt.savefig('neversink')\n",
    "plt.show()"
   ]
  },
  {
   "cell_type": "code",
   "execution_count": null,
   "metadata": {},
   "outputs": [],
   "source": []
  }
 ],
 "metadata": {
  "kernelspec": {
   "display_name": "Python [conda env:ats_meshing_20190719]",
   "language": "python",
   "name": "conda-env-ats_meshing_20190719-py"
  },
  "language_info": {
   "codemirror_mode": {
    "name": "ipython",
    "version": 3
   },
   "file_extension": ".py",
   "mimetype": "text/x-python",
   "name": "python",
   "nbconvert_exporter": "python",
   "pygments_lexer": "ipython3",
   "version": "3.7.3"
  }
 },
 "nbformat": 4,
 "nbformat_minor": 2
}
