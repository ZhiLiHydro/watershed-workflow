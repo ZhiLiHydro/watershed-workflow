{
 "cells": [
  {
   "cell_type": "markdown",
   "metadata": {},
   "source": [
    "# Example: mesh a delineated watershed\n",
    "\n",
    "Here we mesh the [Coweeta Hydrologic Laboratory](https://www.srs.fs.usda.gov/coweeta/) as an example of how to pull data in from default locations and generate a fully functional ATS mesh.\n",
    "\n",
    "This might be the worst example to use to learn how to use Watershed Workflows.  But it is useful to demonstrate the breadth of problems this project was intended to solve.\n",
    "\n",
    "This includes a range of datasets:\n",
    "\n",
    "* NHD Plus for river network\n",
    "* NRCS soils data for soil types\n",
    "* NLCD for land cover/transpiration/rooting depths\n",
    "* NED for elevation"
   ]
  },
  {
   "cell_type": "code",
   "execution_count": 1,
   "metadata": {},
   "outputs": [],
   "source": [
    "%matplotlib inline"
   ]
  },
  {
   "cell_type": "code",
   "execution_count": 2,
   "metadata": {},
   "outputs": [],
   "source": [
    "import os,sys\n",
    "import numpy as np\n",
    "from matplotlib import pyplot as plt\n",
    "from matplotlib import cm as pcm\n",
    "import shapely\n",
    "import logging\n",
    "import pandas\n",
    "pandas.options.display.max_columns = None\n",
    "\n",
    "\n",
    "import watershed_workflow\n",
    "import watershed_workflow.source_list\n",
    "import watershed_workflow.ui\n",
    "import watershed_workflow.colors\n",
    "import watershed_workflow.condition\n",
    "import watershed_workflow.mesh\n",
    "import watershed_workflow.split_hucs\n",
    "\n",
    "watershed_workflow.ui.setup_logging(1,None)\n",
    "figsize = (6,6)\n",
    "figsize_3d = (8,6)\n"
   ]
  },
  {
   "cell_type": "markdown",
   "metadata": {},
   "source": [
    "## Sources and setup\n",
    "\n",
    "Next we set up the source watershed and coordinate system and all data sources for our mesh.  We will use the CRS that is included in the shapefile."
   ]
  },
  {
   "cell_type": "code",
   "execution_count": 3,
   "metadata": {},
   "outputs": [
    {
     "name": "stderr",
     "output_type": "stream",
     "text": [
      "2022-03-14 16:57:26,579 - root - INFO: \n",
      "2022-03-14 16:57:26,581 - root - INFO: Meshing shape: Coweeta/input_data/coweeta_basin.shp\n",
      "2022-03-14 16:57:26,582 - root - INFO: ==============================\n",
      "2022-03-14 16:57:26,583 - root - INFO: \n",
      "2022-03-14 16:57:26,583 - root - INFO: Loading shapes\n",
      "2022-03-14 16:57:26,584 - root - INFO: ------------------------------\n",
      "2022-03-14 16:57:26,584 - root - INFO: Loading file: 'Coweeta/input_data/coweeta_basin.shp'\n",
      "2022-03-14 16:57:26,598 - root - INFO: ... found 1 shapes\n",
      "2022-03-14 16:57:26,599 - root - INFO: Converting to shapely\n"
     ]
    }
   ],
   "source": [
    "# specify the input shapefile and a hint as to what HUC it is in.\n",
    "coweeta_shapefile = 'Coweeta/input_data/coweeta_basin.shp'\n",
    "hint = '0601'  # hint: HUC 4 containing this shape.  \n",
    "               # This is necessary to avoid downloading all HUCs to search for this shape\n",
    "simplify = 30 # length scale to target average edge\n",
    "\n",
    "logging.info(\"\")\n",
    "logging.info(\"Meshing shape: {}\".format(coweeta_shapefile))\n",
    "logging.info(\"=\"*30)\n",
    "\n",
    "# get the shape and crs of the shape\n",
    "crs, coweeta = watershed_workflow.get_split_form_shapes(coweeta_shapefile)"
   ]
  },
  {
   "cell_type": "markdown",
   "metadata": {},
   "source": [
    "A wide range of data sources are available; here we use the defaults except for using NHD Plus for watershed boundaries and hydrography (the default is NHD, which is lower resolution and therefore smaller download sizes)."
   ]
  },
  {
   "cell_type": "code",
   "execution_count": 4,
   "metadata": {},
   "outputs": [
    {
     "name": "stderr",
     "output_type": "stream",
     "text": [
      "2022-03-14 16:57:26,609 - root - INFO: Using sources:\n",
      "2022-03-14 16:57:26,611 - root - INFO: --------------\n",
      "2022-03-14 16:57:26,613 - root - INFO: HUC: National Hydrography Dataset Plus High Resolution (NHDPlus HR)\n",
      "2022-03-14 16:57:26,614 - root - INFO: hydrography: National Hydrography Dataset Plus High Resolution (NHDPlus HR)\n",
      "2022-03-14 16:57:26,615 - root - INFO: DEM: National Elevation Dataset (NED)\n",
      "2022-03-14 16:57:26,616 - root - INFO: soil structure: National Resources Conservation Service Soil Survey (NRCS Soils)\n",
      "2022-03-14 16:57:26,616 - root - INFO: geologic structure: Coweeta/input_data/GLHYMPS/GLHYMPS.shp\n",
      "2022-03-14 16:57:26,617 - root - INFO: land cover: raster\n",
      "2022-03-14 16:57:26,617 - root - INFO: soil thickness: None\n",
      "2022-03-14 16:57:26,618 - root - INFO: meteorology: DayMet 1km\n",
      "2022-03-14 16:57:26,619 - root - INFO: depth to bedrock: raster\n"
     ]
    }
   ],
   "source": [
    "# set up a dictionary of source objects\n",
    "sources = watershed_workflow.source_list.get_default_sources()\n",
    "sources['depth to bedrock'] = watershed_workflow.source_list.FileManagerSoilGrids2017()\n",
    "\n",
    "#\n",
    "# This demo uses a few datasets that have been clipped out of larger, national\n",
    "# datasets and are distributed with the code.  This is simply to save download\n",
    "# time for this simple problem and to lower the barrier for trying out\n",
    "# Watershed Workflow.  A more typical workflow would delete these lines (as \n",
    "# these files would not exist for other watersheds).\n",
    "#\n",
    "# The default versions of these download large raster and shapefile files that\n",
    "# are defined over a very large region (globally or the entire US).\n",
    "#\n",
    "sources['land cover'] = watershed_workflow.source_list.FileManagerRaster('Coweeta/input_data/land_cover/land_cover.tif')\n",
    "sources['geologic structure'] = watershed_workflow.source_list.FileManagerGLHYMPS('Coweeta/input_data/GLHYMPS/GLHYMPS.shp')\n",
    "sources['depth to bedrock'] = watershed_workflow.source_list.FileManagerRaster('Coweeta/input_data/DTB/DTB.tif')\n",
    "watershed_workflow.source_list.log_sources(sources)"
   ]
  },
  {
   "cell_type": "markdown",
   "metadata": {},
   "source": [
    "## Generate the surface mesh\n",
    "\n",
    "First we'll generate the flattened, 2D triangulation, which builds on hydrography data.  Then we download a digital elevation map from the National Elevation Dataset, and extrude that 2D triangulation to a 3D surface mesh based on interpolation between pixels of the DEM."
   ]
  },
  {
   "cell_type": "code",
   "execution_count": 5,
   "metadata": {},
   "outputs": [
    {
     "name": "stderr",
     "output_type": "stream",
     "text": [
      "2022-03-14 16:57:26,631 - root - INFO: \n",
      "2022-03-14 16:57:26,632 - root - INFO: Loading HUC 0601\n",
      "2022-03-14 16:57:26,632 - root - INFO: ------------------------------\n",
      "2022-03-14 16:57:26,633 - root - INFO: \n",
      "2022-03-14 16:57:26,634 - root - INFO: Loading level 4 HUCs in 0601\n",
      "2022-03-14 16:57:26,634 - root - INFO: ------------------------------\n",
      "2022-03-14 16:57:26,637 - root - INFO: Using HUC file \"/Users/uec/code/watershed_workflow/data-library/hydrography/NHDPlus_H_0601_GDB/NHDPlus_H_0601.gdb\"\n",
      "2022-03-14 16:57:26,788 - root - INFO: ... found 1 HUCs\n",
      "2022-03-14 16:57:26,789 - root - INFO:   -- 0601\n",
      "2022-03-14 16:57:26,790 - root - INFO: Converting to out_crs\n",
      "2022-03-14 16:57:26,825 - root - INFO: Converting to shapely\n",
      "2022-03-14 16:57:26,844 - root - INFO: ... found 1\n",
      "2022-03-14 16:57:26,850 - root - INFO: Found Coweeta in HUC: 0601\n"
     ]
    }
   ],
   "source": [
    "# find what HUC our shape is in\n",
    "huc = watershed_workflow.find_huc(sources['HUC'], coweeta.exterior(), crs, hint, shrink_factor=0.1)\n",
    "logging.info(\"Found Coweeta in HUC: {}\".format(huc))"
   ]
  },
  {
   "cell_type": "code",
   "execution_count": 6,
   "metadata": {},
   "outputs": [
    {
     "name": "stderr",
     "output_type": "stream",
     "text": [
      "2022-03-14 16:57:26,857 - root - INFO: \n",
      "2022-03-14 16:57:26,858 - root - INFO: Loading Hydrography\n",
      "2022-03-14 16:57:26,858 - root - INFO: ------------------------------\n",
      "2022-03-14 16:57:26,859 - root - INFO: Loading streams in HUC 0601\n",
      "2022-03-14 16:57:26,861 - root - INFO:          and/or bounds (273971.0911428096, 3878839.6361173145, 279140.9150949494, 3883953.7853134344)\n",
      "2022-03-14 16:57:26,864 - root - INFO:   Using Hydrography file \"/Users/uec/code/watershed_workflow/data-library/hydrography/NHDPlus_H_0601_GDB/NHDPlus_H_0601.gdb\"\n",
      "2022-03-14 16:57:26,864 - root - INFO:   National Hydrography Dataset Plus High Resolution (NHDPlus HR): opening '/Users/uec/code/watershed_workflow/data-library/hydrography/NHDPlus_H_0601_GDB/NHDPlus_H_0601.gdb' layer 'NHDFlowline' for streams in '(273971.0911428096, 3878839.6361173145, 279140.9150949494, 3883953.7853134344)'\n",
      "2022-03-14 16:57:28,220 - root - INFO:   Found total of 36 in bounds.\n",
      "2022-03-14 16:57:28,222 - root - INFO:   Filtering reaches not in-network\n",
      "2022-03-14 16:57:28,222 - root - INFO:   National Hydrography Dataset Plus High Resolution (NHDPlus HR): opening '/Users/uec/code/watershed_workflow/data-library/hydrography/NHDPlus_H_0601_GDB/NHDPlus_H_0601.gdb' layer 'NHDPlusFlowlineVAA' for river network properties in '(-83.47892440365479, 35.02696806552086, -83.42091020142958, 35.07418637013589)'\n",
      "2022-03-14 16:57:32,651 - root - INFO:   National Hydrography Dataset Plus High Resolution (NHDPlus HR): opening '/Users/uec/code/watershed_workflow/data-library/hydrography/NHDPlus_H_0601_GDB/NHDPlus_H_0601.gdb' layer 'NHDPlusEROMMA' for river network properties in '(-83.47892440365479, 35.02696806552086, -83.42091020142958, 35.07418637013589)'\n",
      "2022-03-14 16:57:35,851 - root - INFO: ... found 36 reaches\n",
      "2022-03-14 16:57:35,852 - root - INFO: Converting to shapely\n",
      "2022-03-14 16:57:35,862 - root - INFO: Converting to out_crs\n",
      "2022-03-14 16:57:35,878 - root - INFO: Removed 14 of 36 reaches not in shape\n",
      "2022-03-14 16:57:35,879 - root - INFO: \n",
      "2022-03-14 16:57:35,880 - root - INFO: Constructing river network\n",
      "2022-03-14 16:57:35,881 - root - INFO: ------------------------------\n",
      "2022-03-14 16:57:35,881 - root - INFO: Generating the river tree\n",
      "2022-03-14 16:57:35,882 - root - INFO:  ... generated 1 rivers\n",
      "2022-03-14 16:57:35,883 - root - INFO: \n",
      "2022-03-14 16:57:35,884 - root - INFO: Simplifying\n",
      "2022-03-14 16:57:35,884 - root - INFO: ------------------------------\n",
      "2022-03-14 16:57:35,885 - root - INFO: Simplifying rivers\n",
      "2022-03-14 16:57:35,897 - root - INFO: Simplifying HUCs\n",
      "2022-03-14 16:57:35,900 - root - INFO: Snapping river and HUC (nearly) coincident nodes\n",
      "2022-03-14 16:57:35,904 - root - INFO:   snapping polygon segment boundaries to river endpoints\n",
      "2022-03-14 16:57:35,908 - root - INFO:   snapping river endpoints to the polygon\n",
      "2022-03-14 16:57:35,927 - root - INFO:   cutting at crossings\n",
      "2022-03-14 16:57:35,939 - root - INFO:   filtering rivers to HUC\n",
      "2022-03-14 16:57:35,945 - root - INFO: \n",
      "2022-03-14 16:57:35,946 - root - INFO: Simplification Diagnostics\n",
      "2022-03-14 16:57:35,946 - root - INFO: ------------------------------\n",
      "2022-03-14 16:57:35,951 - root - INFO:   river min seg length: 87.3714287918554\n",
      "2022-03-14 16:57:35,953 - root - INFO:   river median seg length: 163.95287298382345\n",
      "2022-03-14 16:57:35,955 - root - INFO:   HUC min seg length: 42.195003270380795\n",
      "2022-03-14 16:57:35,956 - root - INFO:   HUC median seg length: 55.87002795054712\n"
     ]
    }
   ],
   "source": [
    "rivers = True\n",
    "if rivers:\n",
    "    # download/collect the river network within that shape's bounds\n",
    "    _, reaches = watershed_workflow.get_reaches(sources['hydrography'], huc, \n",
    "                                      coweeta.exterior(), crs, crs, properties=True)\n",
    "    # simplify and prune rivers not IN the shape, constructing a tree-like data structure\n",
    "    # for the river network\n",
    "    rivers = watershed_workflow.construct_rivers(coweeta, reaches, method='hydroseq')\n",
    "    rivers = watershed_workflow.simplify(coweeta, rivers, simplify_hucs=simplify, simplify_rivers=simplify,\n",
    "                               snap=True, cut_intersections=True)\n",
    "\n",
    "else:\n",
    "    rivers = list()\n",
    "    watershed_workflow.split_hucs.simplify(coweeta, simplify)\n",
    "\n"
   ]
  },
  {
   "cell_type": "code",
   "execution_count": 7,
   "metadata": {},
   "outputs": [
    {
     "name": "stderr",
     "output_type": "stream",
     "text": [
      "/Users/Shared/ornldev/code/miniconda3/envs/watershed_workflow_DEV-2021-11-10/lib/python3.9/site-packages/pyproj/crs/crs.py:1256: UserWarning: You will likely lose important projection information when converting to a PROJ string from another format. See: https://proj.org/faq.html#what-is-the-best-format-for-describing-coordinate-reference-systems\n",
      "  return self._crs.to_proj4(version=version)\n"
     ]
    },
    {
     "data": {
      "image/png": "[encoded data removed]",
      "text/plain": [
       "<Figure size 432x432 with 1 Axes>"
      ]
     },
     "metadata": {
      "needs_background": "light"
     },
     "output_type": "display_data"
    }
   ],
   "source": [
    "# plot what we have so far -- an image of the HUC and its stream network\n",
    "fig = plt.figure(figsize=figsize)\n",
    "ax = watershed_workflow.plot.get_ax(crs, fig)\n",
    "\n",
    "watershed_workflow.plot.hucs(coweeta, crs, ax=ax, color='k', linewidth=1)\n",
    "watershed_workflow.plot.rivers(rivers, crs, ax=ax, color='red', linewidth=1)\n",
    "\n",
    "plt.show()"
   ]
  },
  {
   "cell_type": "code",
   "execution_count": null,
   "metadata": {},
   "outputs": [],
   "source": [
    "# form a triangulation on the shape + river network\n",
    "\n",
    "# triangulation refinement:\n",
    "# Refine triangles if their area (in m^2) is greater than A(d), where d is the \n",
    "# distance from the triangle centroid to the nearest stream.\n",
    "# A(d) is a piecewise linear function -- A = A0 if d <= d0, A = A1 if d >= d1, and\n",
    "# linearly interpolates between the two endpoints.\n",
    "d0 = 100; d1 = 500\n",
    "A0 = 1000; A1 = 5000\n",
    "#A0 = 500; A1 = 2500\n",
    "#A0 = 100; A1 = 500\n",
    "\n",
    "# Refine triangles if they get too acute\n",
    "min_angle = 32 # degrees\n",
    "\n",
    "# make 2D mesh\n",
    "mesh_points2, mesh_tris, areas, dists = watershed_workflow.triangulate(coweeta, rivers, \n",
    "                                               refine_distance=[d0,A0,d1,A1],\n",
    "                                               refine_min_angle=min_angle,\n",
    "                                               diagnostics=True)\n"
   ]
  },
  {
   "cell_type": "code",
   "execution_count": null,
   "metadata": {},
   "outputs": [],
   "source": [
    "# get a raster for the elevation map, based on NED\n",
    "dem_profile, dem = watershed_workflow.get_raster_on_shape(sources['DEM'], coweeta.exterior(), crs)\n",
    "\n",
    "# elevate the triangle nodes to the dem\n",
    "mesh_points3 = watershed_workflow.elevate(mesh_points2, crs, dem, dem_profile)"
   ]
  },
  {
   "cell_type": "markdown",
   "metadata": {},
   "source": [
    "Plotting the resulting mesh can be done in a variety of ways, including both 3D plots and mapview.  We show both here, but hereafter use mapview plots as they are a bit clearer (if not so flashy)..."
   ]
  },
  {
   "cell_type": "code",
   "execution_count": null,
   "metadata": {},
   "outputs": [],
   "source": [
    "# plot the resulting surface mesh\n",
    "fig = plt.figure(figsize=figsize_3d)\n",
    "ax = watershed_workflow.plot.get_ax('3d', fig, window=[0.0,0.2,1,0.8])\n",
    "cax = fig.add_axes([0.23,0.18,0.58,0.03])\n",
    "\n",
    "mp = ax.plot_trisurf(mesh_points3[:,0], mesh_points3[:,1], mesh_points3[:,2], \n",
    "                     triangles=mesh_tris, cmap='viridis', \n",
    "                     edgecolor=(0,0,0,.2), linewidth=0.5)\n",
    "cb = fig.colorbar(mp, orientation=\"horizontal\", cax=cax)\n",
    "\n",
    "t = cax.set_title('elevation [m]')\n",
    "ax.view_init(55,0)\n",
    "ax.set_xticklabels(list())\n",
    "ax.set_yticklabels(list())\n"
   ]
  },
  {
   "cell_type": "code",
   "execution_count": null,
   "metadata": {},
   "outputs": [],
   "source": [
    "# plot the resulting surface mesh\n",
    "fig = plt.figure(figsize=figsize)\n",
    "ax = watershed_workflow.plot.get_ax(crs, fig, window=[0.05,0.1,0.9,0.8])\n",
    "#ax2 = watershed_workflow.plot.get_ax(crs,fig, window=[0.65,0.05,0.3,0.5])\n",
    "ax2 = ax.inset_axes([0.65,0.05,0.3,0.5])\n",
    "cbax = fig.add_axes([0.05,0.05,0.9,0.05])\n",
    "\n",
    "xlim = (275900., 276400.)\n",
    "ylim = (3882300., 3883000.)\n",
    "\n",
    "mp = watershed_workflow.plot.triangulation(mesh_points3, mesh_tris, crs, ax=ax, \n",
    "                                 color='elevation', edgecolor='white', linewidth=0.2)\n",
    "cbar = fig.colorbar(mp, orientation=\"horizontal\", cax=cbax)\n",
    "watershed_workflow.plot.hucs(coweeta, crs, ax=ax, color='k', linewidth=1)\n",
    "watershed_workflow.plot.rivers(rivers, crs, ax=ax, color='red', linewidth=1)\n",
    "ax.set_aspect('equal', 'datalim')\n",
    "\n",
    "mp2 = watershed_workflow.plot.triangulation(mesh_points3, mesh_tris, crs, ax=ax2, \n",
    "                                 color='elevation', edgecolor='white', linewidth=0.2)\n",
    "watershed_workflow.plot.hucs(coweeta, crs, ax=ax2, color='k', linewidth=1)\n",
    "watershed_workflow.plot.rivers(rivers, crs, ax=ax2, color='red', linewidth=1.5)\n",
    "ax2.set_xlim(xlim)\n",
    "ax2.set_ylim(ylim)\n",
    "ax2.set_xticks([])\n",
    "ax2.set_yticks([])\n",
    "\n",
    "ax.indicate_inset_zoom(ax2, edgecolor='k')\n",
    "\n",
    "\n",
    "print(ax.get_xlim())\n",
    "print(ax.get_ylim())\n",
    "cbar.ax.set_title('elevation [m]')\n"
   ]
  },
  {
   "cell_type": "code",
   "execution_count": null,
   "metadata": {},
   "outputs": [],
   "source": [
    "# construct the 2D mesh\n",
    "m2 = watershed_workflow.mesh.Mesh2D(mesh_points3.copy(), list(mesh_tris))"
   ]
  },
  {
   "cell_type": "code",
   "execution_count": null,
   "metadata": {},
   "outputs": [],
   "source": [
    "# hydrologically condition the mesh, removing pits\n",
    "watershed_workflow.condition.fill_pits(m2)\n",
    "\n",
    "# plot the change between the two meshes\n",
    "diff = np.copy(mesh_points3)\n",
    "diff[:,2] = m2.points[:,2] - mesh_points3[:,2] \n",
    "print(\"max diff = \", np.abs(diff[:,2]).max())\n",
    "fig, ax = watershed_workflow.plot.get_ax(crs, figsize=figsize)\n",
    "watershed_workflow.plot.triangulation(diff, m2.conn, crs, color='elevation', edgecolors='gray', \n",
    "                            linewidth=0.2, ax=ax)\n",
    "ax.set_title('conditioned dz')\n",
    "plt.show()"
   ]
  },
  {
   "cell_type": "markdown",
   "metadata": {},
   "source": [
    "## Surface properties\n",
    "\n",
    "Meshes interact with data to provide forcing, parameters, and more in the actual simulation.  Specifically, we need vegetation type on the surface to provide information about transpiration and subsurface structure to provide information about water retention curves, etc.\n",
    "\n",
    "We'll start by downloading and collecting land cover from the NLCD dataset, and generate sets for each land cover type that cover the surface.  Likely these will be some combination of grass, deciduous forest, coniferous forest, and mixed."
   ]
  },
  {
   "cell_type": "code",
   "execution_count": null,
   "metadata": {},
   "outputs": [],
   "source": [
    "# download the NLCD raster\n",
    "lc_profile, lc_raster = watershed_workflow.get_raster_on_shape(sources['land cover'], \n",
    "                                                     coweeta.exterior(), crs)\n",
    "\n",
    "# resample the raster to the triangles\n",
    "lc = watershed_workflow.values_from_raster(m2.centroids(), crs, lc_raster, lc_profile)\n",
    "\n",
    "# what land cover types did we get?\n",
    "logging.info('Found land cover dtypes: {}'.format(lc.dtype))\n",
    "logging.info('Found land cover types: {}'.format(set(lc)))\n"
   ]
  },
  {
   "cell_type": "code",
   "execution_count": null,
   "metadata": {},
   "outputs": [],
   "source": [
    "# plot the NLCD data\n",
    "\n",
    "# -- get the NLCD colormap which uses official NLCD colors and labels\n",
    "nlcd_indices, nlcd_cmap, nlcd_norm, nlcd_ticks, nlcd_labels = \\\n",
    "                watershed_workflow.colors.generate_nlcd_colormap(lc)\n",
    "\n",
    "# this is just hacking the label names to make them display a bit neater for a cleaner plot.  Likely it \n",
    "# should get put into the NLCD manager instead of here! See #8\n",
    "nlcd_labels_fw = []\n",
    "for label in nlcd_labels:\n",
    "    label_fw = label\n",
    "    if len(label) > 15:\n",
    "        if ' ' in label:\n",
    "            lsplit = label.split()\n",
    "            if len(lsplit) == 2:\n",
    "                label_fw = '\\n'.join(lsplit)\n",
    "            elif len(lsplit) == 4:\n",
    "                label_fw = '\\n'.join([' '.join(lsplit[0:2]),\n",
    "                                      ' '.join(lsplit[2:])])\n",
    "            elif len(lsplit) == 3:\n",
    "                if len(lsplit[0]) > len(lsplit[-1]):\n",
    "                    label_fw = '\\n'.join([lsplit[0],\n",
    "                                          ' '.join(lsplit[1:])])\n",
    "                else:\n",
    "                    label_fw = '\\n'.join([' '.join(lsplit[:-1]),\n",
    "                                          lsplit[-1]])\n",
    "    nlcd_labels_fw.append(label_fw)\n",
    "\n",
    "# plot the image\n",
    "fig = plt.figure(figsize=figsize)\n",
    "ax = watershed_workflow.plot.get_ax(crs, fig)\n",
    "\n",
    "polys = watershed_workflow.plot.mesh(m2, crs, ax=ax, color=lc, cmap=nlcd_cmap, \n",
    "                                     norm=nlcd_norm, edgecolor='none', \n",
    "                                     facecolor='color', linewidth=0.5)\n",
    "mp = pcm.ScalarMappable(norm=nlcd_norm, cmap=nlcd_cmap)\n",
    "cb = fig.colorbar(mp)\n",
    "cb.set_ticks(nlcd_ticks)\n",
    "cb.set_ticklabels(nlcd_labels_fw)\n",
    "ax.set_title(\"land cover index\")"
   ]
  },
  {
   "cell_type": "markdown",
   "metadata": {},
   "source": [
    "## Subsurface properties\n",
    "\n",
    "Get soil structure from SSURGO.  By soil structure, here we calculate, for each formation identified in SSURGO, a soil depth, porosity, permeability, and percent sand/silt/clay (which are then handed off to Rosetta to get a van Genuchten model). \n",
    "\n",
    "Below this soil we also identify a geologic layer provided by GLHYMPS.  This provides information about the deeper subsurface.\n",
    "\n",
    "### SSURGO Soil Properties"
   ]
  },
  {
   "cell_type": "code",
   "execution_count": null,
   "metadata": {},
   "outputs": [],
   "source": [
    "# download the NRCS soils data as shapes and project it onto the mesh\n",
    "\n",
    "# -- download the shapes\n",
    "soil_profile, soil_survey, soil_survey_props = \\\n",
    "        watershed_workflow.get_shapes(sources['soil structure'], [coweeta.exterior(),],\n",
    "                                      crs, crs, properties=True)\n",
    "\n",
    "\n",
    "# -- determine the NRCS mukey for each soil unit; this uniquely identifies soil \n",
    "#    properties\n",
    "soil_ids = np.array(soil_survey_props['mukey'][:], np.int32)\n",
    "    \n",
    "# -- color a raster by the polygons (this makes identifying a triangle's value much \n",
    "#    more efficient)\n",
    "soil_color_profile, soil_color_raster = watershed_workflow.color_raster_from_shapes(coweeta.exterior().bounds, \n",
    "                                                                                    10, soil_survey, soil_ids, crs, -1)\n",
    "\n",
    "# -- resample the raster to the triangles\n",
    "soil_color = watershed_workflow.values_from_raster(m2.centroids(), crs, \n",
    "                                         soil_color_raster, soil_color_profile)\n"
   ]
  },
  {
   "cell_type": "code",
   "execution_count": null,
   "metadata": {},
   "outputs": [],
   "source": [
    "soil_survey_props"
   ]
  },
  {
   "cell_type": "code",
   "execution_count": null,
   "metadata": {},
   "outputs": [],
   "source": [
    "# plot the soil mukey\n",
    "indices, cmap, norm, ticks, labels = \\\n",
    "        watershed_workflow.colors.generate_indexed_colormap(soil_color, cmap='tab20c')\n",
    "fig, ax = watershed_workflow.plot.get_ax(crs)\n",
    "\n",
    "mp = watershed_workflow.plot.mesh(m2, crs, ax=ax, facecolor='color',\n",
    "                        linewidth=0, color=soil_color, \n",
    "                        cmap=cmap, norm = norm\n",
    "                       )\n",
    "\n",
    "watershed_workflow.colors.colorbar_index(ncolors=len(np.unique(soil_color)), cmap=cmap, labels=labels) \n",
    "\n",
    "ax.set_title('soil type index')\n",
    "ax.axis('off')\n"
   ]
  },
  {
   "cell_type": "code",
   "execution_count": null,
   "metadata": {},
   "outputs": [],
   "source": [
    "# Note this is not just the soil ID, but also soil properties.  \n",
    "print(soil_survey_props.keys())\n",
    "\n",
    "# To demonstrate what we mean by this, plot the porosity of the soil column.\n",
    "porosity_nrcs = np.empty(soil_color.shape, 'd')\n",
    "porosity_rosetta = np.empty(soil_color.shape, 'd')\n",
    "\n",
    "for mukey in soil_survey_props.index:\n",
    "    porosity_nrcs[soil_color == mukey] = soil_survey_props.loc[ mukey,'porosity [-]']\n",
    "    porosity_rosetta[soil_color == mukey] = soil_survey_props.loc[ mukey,'Rosetta porosity [-]']\n",
    "\n",
    "pmin = min(np.nanmin(porosity_nrcs), np.nanmin(porosity_rosetta))\n",
    "pmax = max(np.nanmax(porosity_nrcs), np.nanmax(porosity_rosetta))\n",
    "print('min, max = ', pmin, pmax)\n",
    "\n",
    "\n",
    "fig = plt.figure(figsize=(12,6))\n",
    "ax1 = watershed_workflow.plot.get_ax(crs, fig, nrow=1, ncol=2, index=1)\n",
    "mp = watershed_workflow.plot.triangulation(mesh_points3, mesh_tris, crs, ax=ax1, \n",
    "                                 color=porosity_nrcs, edgecolor='gray', cmap='jet', vmin=pmin, vmax=pmax)\n",
    "cbar = fig.colorbar(mp)\n",
    "ax1.set_title('porosity (NRCS) [-]')\n",
    "ax1.axis('off')\n",
    "\n",
    "\n",
    "ax2 = watershed_workflow.plot.get_ax(crs, fig, nrow=1, ncol=2, index=2)\n",
    "mp = watershed_workflow.plot.triangulation(mesh_points3, mesh_tris, crs, ax=ax2, \n",
    "                                 color=porosity_rosetta, edgecolor='gray', cmap='jet', vmin=pmin, vmax=pmax)\n",
    "cbar = fig.colorbar(mp)\n",
    "ax2.set_title('porosity (Rosetta) [-]')\n",
    "ax2.axis('off')\n"
   ]
  },
  {
   "cell_type": "code",
   "execution_count": null,
   "metadata": {},
   "outputs": [],
   "source": [
    "# averaging permeability is a tricky beast.  we average in log space, check that \n",
    "# unit conversions make sense\n",
    "fig = plt.figure(figsize=(12,6))\n",
    "soil_perm_nrcs = np.empty(soil_color.shape, 'd')\n",
    "soil_perm_rosetta = np.empty(soil_color.shape, 'd')\n",
    "\n",
    "for mukey in soil_survey_props['mukey']:\n",
    "    soil_perm_nrcs[soil_color == mukey] = soil_survey_props.loc[soil_survey_props['mukey'] == mukey, \n",
    "                                                                'permeability [m^2]']\n",
    "    soil_perm_rosetta[soil_color == mukey] = soil_survey_props.loc[soil_survey_props['mukey'] == mukey, \n",
    "                                                                   'Rosetta permeability [m^2]']\n",
    "\n",
    "pmin = min(np.log10(soil_perm_nrcs).min(), np.log10(soil_perm_rosetta).min())\n",
    "pmax = max(np.log10(soil_perm_nrcs).max(), np.log10(soil_perm_rosetta).max())\n",
    "\n",
    "  \n",
    "print(f'min = {pmin}, max = {pmax}')\n",
    "\n",
    "ax1 = watershed_workflow.plot.get_ax(crs, fig, nrow=1, ncol=2, index=1)\n",
    "mp = watershed_workflow.plot.triangulation(mesh_points3, mesh_tris, crs, ax=ax1, \n",
    "                                 color=np.log10(soil_perm_nrcs), edgecolor='gray', cmap='jet',\n",
    "                                vmin=pmin, vmax=pmax)\n",
    "cbar = fig.colorbar(mp)\n",
    "ax1.set_title('log permeability (NRCS) [m^2]')\n",
    "\n",
    "ax2 = watershed_workflow.plot.get_ax(crs, fig, nrow=1, ncol=2, index=2)\n",
    "mp = watershed_workflow.plot.triangulation(mesh_points3, mesh_tris, crs, ax=ax2, \n",
    "                                 color=np.log10(soil_perm_rosetta), edgecolor='gray', cmap='jet',\n",
    "                                vmin=pmin, vmax=pmax)\n",
    "cbar = fig.colorbar(mp)\n",
    "ax2.set_title('log permeability (Rosetta) [m^2]')\n",
    "\n",
    "\n"
   ]
  },
  {
   "cell_type": "code",
   "execution_count": null,
   "metadata": {},
   "outputs": [],
   "source": [
    "# finally, let's look at the soil thickness, which will define the depth of this layer\n",
    "soil_thickness = np.zeros(soil_color.shape, 'd')\n",
    "for mukey in soil_survey_props['mukey']:\n",
    "    soil_thickness[soil_color == mukey] = soil_survey_props.loc[soil_survey_props['mukey'] == mukey,\n",
    "                                                                'thickness [cm]']\n",
    "\n",
    "print(soil_thickness)\n",
    "soil_thickness = soil_thickness / 100\n",
    "fig, ax = watershed_workflow.plot.get_ax(crs)\n",
    "mp = watershed_workflow.plot.triangulation(mesh_points3, mesh_tris, crs, ax=ax, \n",
    "                                 color=soil_thickness, edgecolor='gray', cmap='jet')\n",
    "ax.set_title('soil thickness [m]')\n",
    "cb = fig.colorbar(mp, fraction=0.04, pad=0.04)\n",
    "ax.axis('off')\n",
    "\n",
    "print('Median soil thickness [-] = ', np.nanmedian(soil_thickness))"
   ]
  },
  {
   "cell_type": "markdown",
   "metadata": {},
   "source": [
    "### GLYHMPS geologic layer"
   ]
  },
  {
   "cell_type": "code",
   "execution_count": null,
   "metadata": {},
   "outputs": [],
   "source": [
    "# extract the GLYHMPS geologic structure data as shapes and project it onto the mesh\n",
    "target_bounds = coweeta.exterior().bounds\n",
    "logging.info('target bounds: {}'.format(target_bounds))\n",
    "\n",
    "_, geo_survey, geo_survey_props = \\\n",
    "    watershed_workflow.get_shapes(sources['geologic structure'], target_bounds, \n",
    "                                  crs, crs, properties=True)\n",
    "\n",
    "# -- log the bounds targetted and found\n",
    "logging.info('shape union bounds: {}'.format(\n",
    "    shapely.ops.cascaded_union(geo_survey).bounds))\n",
    "\n",
    "# -- determine the ID for each soil unit; this uniquely identifies formation\n",
    "#    properties\n",
    "geo_ids = np.array([shp.properties['id'] for shp in geo_survey], np.int32)\n",
    "\n",
    "# -- color a raster by the polygons (this makes identifying a triangle's value much \n",
    "#    more efficient)\n",
    "geo_color_profile, geo_color_raster = \\\n",
    "            watershed_workflow.color_raster_from_shapes(target_bounds, 10, geo_survey,\n",
    "                                              geo_ids, crs)\n",
    "\n",
    "# -- resample the raster to the triangles\n",
    "geo_color = watershed_workflow.values_from_raster(m2.centroids(), crs, \n",
    "                                         geo_color_raster, geo_color_profile)\n"
   ]
  },
  {
   "cell_type": "code",
   "execution_count": null,
   "metadata": {},
   "outputs": [],
   "source": [
    "# plot the geologic formation id\n",
    "fig = plt.figure(figsize=figsize)\n",
    "ax = watershed_workflow.plot.get_ax(crs, fig)\n",
    "\n",
    "mp = watershed_workflow.plot.mesh(m2, crs, ax=ax, facecolor='color',\n",
    "                                 linewidth=0, color=geo_color, cmap='tab20c')\n",
    "ax.set_title('soil type index')\n",
    "geo_survey_props\n",
    "\n"
   ]
  },
  {
   "cell_type": "markdown",
   "metadata": {},
   "source": [
    "## Depth-to-bedrock\n",
    "\n",
    "Depth to bedrock is taken from the [SoilGrids](http://globalchange.bnu.edu.cn/research/dtb.jsp) product.  Here we download a US-based, clipped version of this global product, as file sizes are quite large (all products potentially used total over 100GB)."
   ]
  },
  {
   "cell_type": "code",
   "execution_count": null,
   "metadata": {},
   "outputs": [],
   "source": [
    "DTB_profile, DTB_raster = watershed_workflow.get_raster_on_shape(sources['depth to bedrock'], \n",
    "                                                                 coweeta.exterior(), crs, \n",
    "                                                                 nodata=-99999)\n",
    "                                        #, variable='BDTICM') # note, this argument needed for \n",
    "                                        # using the default SoilGrids dataset.\n",
    "\n",
    "# resample the raster to the triangles\n",
    "DTB_raster = DTB_raster/100 #convert from cm to m\n",
    "DTB = watershed_workflow.values_from_raster(m2.centroids(), crs, DTB_raster, DTB_profile, algorithm='piecewise bilinear')\n",
    "DTB = np.where(DTB >= 0, DTB, np.nan)"
   ]
  },
  {
   "cell_type": "code",
   "execution_count": null,
   "metadata": {},
   "outputs": [],
   "source": [
    "# plot the resulting surface mesh\n",
    "fig, ax = watershed_workflow.plot.get_ax(crs)\n",
    "\n",
    "mp = watershed_workflow.plot.triangulation(mesh_points3, mesh_tris, crs, ax=ax, \n",
    "                                 color=DTB, cmap='plasma_r', edgecolor='white', linewidth=0.1)\n",
    "cbar = fig.colorbar(mp)\n",
    "title = ax.set_title('DTB [m]')"
   ]
  },
  {
   "cell_type": "markdown",
   "metadata": {},
   "source": [
    "\n",
    "## Mesh extrusion\n",
    "\n",
    "Given the surface mesh and material IDs on both the surface and subsurface, we can extrude the surface mesh in the vertical to make a 3D mesh.\n",
    "\n",
    "First, all integer IDs in Exodus files must be unique.  This includes Material IDs, side sets, etc.  We create the Material ID map and data frame.  This is used to standardize IDs from multiple data sources.  Traditionally, ATS numbers Material IDs/Side Sets as:\n",
    "\n",
    "* 0-9 : reserved for boundaries, surface/bottom, etc\n",
    "* 10-99 : Land Cover side sets, typically NLCD IDs are used\n",
    "* 100-999 : geologic layer material IDs\n",
    "* 1000-9999 : soil layer material IDs\n",
    "\n",
    "\n"
   ]
  },
  {
   "cell_type": "code",
   "execution_count": null,
   "metadata": {},
   "outputs": [],
   "source": [
    "soil_survey_props['ats_id'] = range(1000, 1000+len(soil_survey_props))\n",
    "soil_survey_props.set_index('ats_id', inplace=True)\n",
    "\n",
    "geo_survey_props['ats_id'] = range(100, 100+len(geo_survey_props))\n",
    "geo_survey_props.set_index('ats_id', inplace=True)\n",
    "\n",
    "subsurface_props = pandas.concat([geo_survey_props,soil_survey_props])"
   ]
  },
  {
   "cell_type": "code",
   "execution_count": null,
   "metadata": {},
   "outputs": [],
   "source": [
    "# must choose properties for geologic media.  Here we choose one that has a similar porosity\n",
    "subsurface_props.loc[100, ['residual saturation [-]', 'van Genuchten alpha [Pa^-1]', 'van Genuchten n [-]']] =  \\\n",
    "      subsurface_props.loc[1024, ['residual saturation [-]', 'van Genuchten alpha [Pa^-1]', 'van Genuchten n [-]']] \n",
    "\n",
    "# save the properties to disk for use in generating input file\n",
    "subsurface_props.to_csv(os.path.join('Coweeta', 'output_data', 'coweeta_subsurface_properties.csv'))\n",
    "\n"
   ]
  },
  {
   "cell_type": "markdown",
   "metadata": {},
   "source": [
    "Next we extrude the DEM to create a 3D mesh.\n",
    "\n",
    "The most difficult aspect of extrusion is creating meshes that:\n",
    "1. aren't huge numbers of cells\n",
    "2. aren't huge cell thicknesses, especially near the surface\n",
    "3. follow implied interfaces, e.g. bottom of soil and bottom of geologic layer\n",
    "\n",
    "This is an iterative process that requires some care and some art."
   ]
  },
  {
   "cell_type": "code",
   "execution_count": null,
   "metadata": {},
   "outputs": [],
   "source": [
    "# Generate a dz structure for the top 2m of soil -- it appears from above that the soil thickness is uniformly 2m\n",
    "#\n",
    "# here we try for 10 cells, starting at 5cm at the top and going to 50cm at the bottom of the 2m thick soil\n",
    "dzs, res = watershed_workflow.mesh.optimize_dzs(0.05, 0.5, 2, 10)\n",
    "print(dzs)"
   ]
  },
  {
   "cell_type": "code",
   "execution_count": null,
   "metadata": {},
   "outputs": [],
   "source": [
    "# this looks like it would work out:\n",
    "dzs = [0.05, 0.05, 0.05, 0.12, 0.23, 0.5, 0.5, 0.5]\n",
    "print(sum(dzs))"
   ]
  },
  {
   "cell_type": "code",
   "execution_count": null,
   "metadata": {},
   "outputs": [],
   "source": [
    "# a 2m soil thickness and a maximum of 20m depth to bedrock suggests a\n",
    "# geologic layer of 18 - 1m cells\n",
    "dzs = dzs + [1.0,]*18"
   ]
  },
  {
   "cell_type": "code",
   "execution_count": null,
   "metadata": {},
   "outputs": [],
   "source": [
    "# layer extrusion\n",
    "# -- data structures needed for extrusion\n",
    "layer_types = []\n",
    "layer_data = []\n",
    "layer_ncells = []\n",
    "layer_mat_ids = []\n",
    "\n",
    "# -- add the layers\n",
    "depth = 0\n",
    "for dz in dzs:\n",
    "    layer_types.append('constant')\n",
    "    layer_data.append(dz)\n",
    "    layer_ncells.append(1)\n",
    "    \n",
    "    # to set the layer type, we check whether it is\n",
    "    #   * above the soil thickness (it is soil)\n",
    "    #   * below the depth to bedrock (it is bedrock)\n",
    "    #   * else it is geologic layer\n",
    "    # -- set the depth as the cell midpoint\n",
    "    depth += 0.5 * dz\n",
    "    \n",
    "    # -- bedrock (999) or geologic layer (from geo_color)\n",
    "    br_or_geo = np.where(depth < DTB, geo_color, 999)\n",
    "    \n",
    "    # -- are we in the soil horizons?\n",
    "    mat_id = np.where(np.bitwise_and(soil_color > 0, depth < soil_thickness),\n",
    "                      soil_color, br_or_geo)\n",
    "\n",
    "    depth += 0.5 * dz\n",
    "    layer_mat_ids.append(mat_id)\n",
    "    \n",
    "# print the summary\n",
    "watershed_workflow.mesh.Mesh3D.summarize_extrusion(layer_types, layer_data, \n",
    "                                            layer_ncells, layer_mat_ids)"
   ]
  },
  {
   "cell_type": "code",
   "execution_count": null,
   "metadata": {},
   "outputs": [],
   "source": [
    "# extrude\n",
    "m3 = watershed_workflow.mesh.Mesh3D.extruded_Mesh2D(m2, layer_types, layer_data, \n",
    "                                             layer_ncells, layer_mat_ids)"
   ]
  },
  {
   "cell_type": "code",
   "execution_count": null,
   "metadata": {},
   "outputs": [],
   "source": [
    "# add back on land cover side sets\n",
    "surf_ss = m3.side_sets[1]\n",
    "\n",
    "for index, name in zip(nlcd_indices, nlcd_labels):\n",
    "    where = np.where(lc == index)[0]\n",
    "    ss = watershed_workflow.mesh.SideSet(name, int(index), \n",
    "                            [surf_ss.elem_list[w] for w in where],\n",
    "                            [surf_ss.side_list[w] for w in where])        \n",
    "    m3.side_sets.append(ss)"
   ]
  },
  {
   "cell_type": "code",
   "execution_count": null,
   "metadata": {},
   "outputs": [],
   "source": [
    "# save to disk\n",
    "try:\n",
    "    os.remove(os.path.join('Coweeta', 'output_data', 'coweeta_basin.exo'))\n",
    "except FileNotFoundError:\n",
    "    pass\n",
    "m3.write_exodus(os.path.join('Coweeta', 'output_data', 'coweeta_basin.exo'))"
   ]
  },
  {
   "cell_type": "code",
   "execution_count": null,
   "metadata": {},
   "outputs": [],
   "source": []
  }
 ],
 "metadata": {
  "kernelspec": {
   "display_name": "Python [conda env:watershed_workflow_DEV-2021-11-10]",
   "language": "python",
   "name": "conda-env-watershed_workflow_DEV-2021-11-10-py"
  },
  "language_info": {
   "codemirror_mode": {
    "name": "ipython",
    "version": 3
   },
   "file_extension": ".py",
   "mimetype": "text/x-python",
   "name": "python",
   "nbconvert_exporter": "python",
   "pygments_lexer": "ipython3",
   "version": "3.9.7"
  }
 },
 "nbformat": 4,
 "nbformat_minor": 4
}
