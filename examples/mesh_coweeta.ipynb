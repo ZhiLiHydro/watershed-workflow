{
 "cells": [
  {
   "cell_type": "markdown",
   "metadata": {},
   "source": [
    "# Example: mesh a delineated watershed\n",
    "\n",
    "Here we mesh the [Coweeta Hydrologic Laboratory](https://www.srs.fs.usda.gov/coweeta/) as an example of how to pull data in from default locations and generate a fully functional ATS mesh.\n",
    "\n",
    "This might be the worst example to use to learn how to use Watershed Workflows.  But it is useful to demonstrate the breadth of problems this project was intended to solve.\n",
    "\n",
    "This includes a range of datasets:\n",
    "\n",
    "* NHD Plus for river network\n",
    "* NRCS soils data for soil types\n",
    "* NLCD for land cover/transpiration/rooting depths\n",
    "* NED for elevation"
   ]
  },
  {
   "cell_type": "code",
   "execution_count": 1,
   "metadata": {},
   "outputs": [],
   "source": [
    "%matplotlib osx"
   ]
  },
  {
   "cell_type": "code",
   "execution_count": 2,
   "metadata": {},
   "outputs": [],
   "source": [
    "import os,sys\n",
    "import numpy as np\n",
    "from matplotlib import pyplot as plt\n",
    "from matplotlib import cm as pcm\n",
    "import shapely\n",
    "import logging\n",
    "\n",
    "import workflow\n",
    "import workflow.source_list\n",
    "import workflow.ui\n",
    "import workflow.colors\n",
    "import workflow.condition\n",
    "import workflow.mesh\n",
    "import workflow.split_hucs\n",
    "\n",
    "workflow.ui.setup_logging(1,None)"
   ]
  },
  {
   "cell_type": "markdown",
   "metadata": {},
   "source": [
    "## Sources and setup\n",
    "\n",
    "Next we set up the source watershed and coordinate system and all data sources for our mesh.  We will use the CRS that is included in the shapefile."
   ]
  },
  {
   "cell_type": "code",
   "execution_count": 3,
   "metadata": {},
   "outputs": [
    {
     "name": "stderr",
     "output_type": "stream",
     "text": [
      "2020-06-23 13:03:45,106 - root - INFO: \n",
      "2020-06-23 13:03:45,108 - root - INFO: Meshing shape: ../data/hydrologic_units/others/Coweeta/coweeta_basin.shp\n",
      "2020-06-23 13:03:45,110 - root - INFO: ==============================\n",
      "2020-06-23 13:03:45,111 - root - INFO: \n",
      "2020-06-23 13:03:45,113 - root - INFO: Preprocessing Shapes\n",
      "2020-06-23 13:03:45,115 - root - INFO: ------------------------------\n",
      "2020-06-23 13:03:45,116 - root - INFO: loading file: \"../data/hydrologic_units/others/Coweeta/coweeta_basin.shp\"\n",
      "/Users/uec/codes/anaconda/3/envs/ats_meshing_20200525/lib/python3.7/site-packages/fiona/collection.py:331: FionaDeprecationWarning: Collection slicing is deprecated and will be disabled in a future version.\n",
      "  return self.session.__getitem__(item)\n"
     ]
    }
   ],
   "source": [
    "# specify the input shapefile and a hint as to what HUC it is in.\n",
    "coweeta_shapefile = '../data/hydrologic_units/others/Coweeta/coweeta_basin.shp'\n",
    "hint = '0601'  # hint: HUC 4 containing this shape.  \n",
    "               # This is necessary to avoid downloading all HUCs to search for this shape\n",
    "simplify = 100 # length scale to target average edge\n",
    "\n",
    "logging.info(\"\")\n",
    "logging.info(\"Meshing shape: {}\".format(coweeta_shapefile))\n",
    "logging.info(\"=\"*30)\n",
    "\n",
    "# get the shape and crs of the shape\n",
    "crs, coweeta = workflow.get_split_form_shapes(coweeta_shapefile)"
   ]
  },
  {
   "cell_type": "markdown",
   "metadata": {},
   "source": [
    "A wide range of data sources are available; here we use the defaults except for using NHD Plus for watershed boundaries and hydrography (the default is NHD, which is lower resolution and therefore smaller download sizes)."
   ]
  },
  {
   "cell_type": "code",
   "execution_count": 4,
   "metadata": {},
   "outputs": [
    {
     "name": "stderr",
     "output_type": "stream",
     "text": [
      "2020-06-23 13:03:53,561 - root - INFO: Using sources:\n",
      "2020-06-23 13:03:53,562 - root - INFO: --------------\n",
      "2020-06-23 13:03:53,564 - root - INFO: HUC: National Hydrography Dataset Plus High Resolution (NHDPlus HR)\n",
      "2020-06-23 13:03:53,565 - root - INFO: hydrography: National Hydrography Dataset Plus High Resolution (NHDPlus HR)\n",
      "2020-06-23 13:03:53,566 - root - INFO: DEM: National Elevation Dataset (NED)\n",
      "2020-06-23 13:03:53,567 - root - INFO: soil type: National Resources Conservation Service Soil Survey (NRCS Soils)\n",
      "2020-06-23 13:03:53,569 - root - INFO: land cover: National Land Cover Database (NLCD) Layer: NLCD_2016_Land_Cover_L48\n",
      "2020-06-23 13:03:53,569 - root - INFO: soil thickness: None\n",
      "2020-06-23 13:03:53,570 - root - INFO: meteorology: DayMet 1km\n"
     ]
    }
   ],
   "source": [
    "# set up a dictionary of source objects\n",
    "sources = workflow.source_list.get_default_sources()\n",
    "sources['HUC'] = workflow.source_list.huc_sources['NHD Plus']\n",
    "sources['hydrography'] = workflow.source_list.hydrography_sources['NHD Plus']\n",
    "workflow.source_list.log_sources(sources)"
   ]
  },
  {
   "cell_type": "markdown",
   "metadata": {},
   "source": [
    "## Generate the surface mesh\n",
    "\n",
    "First we'll generate the flattened, 2D triangulation, which builds on hydrography data.  Then we download a digital elevation map from the National Elevation Dataset, and extrude that 2D triangulation to a 3D surface mesh based on interpolation between pixels of the DEM."
   ]
  },
  {
   "cell_type": "code",
   "execution_count": 5,
   "metadata": {},
   "outputs": [
    {
     "name": "stderr",
     "output_type": "stream",
     "text": [
      "2020-06-23 13:03:54,934 - root - INFO: \n",
      "2020-06-23 13:03:54,935 - root - INFO: Preprocessing Hydrography\n",
      "2020-06-23 13:03:54,941 - root - INFO: ------------------------------\n",
      "2020-06-23 13:03:54,943 - root - INFO: Loading streams in HUC 0601\n",
      "2020-06-23 13:03:54,944 - root - INFO:          and/or bounds (273971.0911428096, 3878839.6361173145, 279140.9150949494, 3883953.7853134344)\n",
      "2020-06-23 13:03:54,945 - root - INFO: Using Hydrography file \"/Users/uec/research/water/data/watershed-workflow/data-master/hydrography/NHDPlus_H_0601_GDB/NHDPlus_H_0601.gdb\"\n",
      "2020-06-23 13:03:57,028 - root - INFO:   found 36 reaches\n",
      "2020-06-23 13:04:01,486 - root - INFO: \n",
      "2020-06-23 13:04:01,487 - root - INFO: Simplifying and pruning\n",
      "2020-06-23 13:04:01,487 - root - INFO: ------------------------------\n",
      "2020-06-23 13:04:01,488 - root - INFO: Filtering rivers outside of the HUC space\n",
      "2020-06-23 13:04:01,489 - root - INFO:   ...filtering\n",
      "2020-06-23 13:04:01,501 - root - INFO:   filtered from 34 to 21 reaches.\n",
      "2020-06-23 13:04:01,501 - root - INFO: Generate the river tree\n",
      "2020-06-23 13:04:01,505 - root - INFO: Removing rivers with fewer than 0 reaches.\n",
      "2020-06-23 13:04:01,506 - root - INFO:   ...keeping river with 21 reaches\n",
      "2020-06-23 13:04:01,507 - root - INFO: simplifying rivers\n",
      "2020-06-23 13:04:01,516 - root - INFO: simplifying HUCs\n",
      "2020-06-23 13:04:01,519 - root - INFO: snapping rivers and HUCs\n",
      "2020-06-23 13:04:01,522 - root - INFO:   snapping polygon segment boundaries to river endpoints\n",
      "2020-06-23 13:04:01,526 - root - INFO:   snapping river endpoints to the polygon\n",
      "2020-06-23 13:04:01,541 - root - INFO:   cutting at crossings\n",
      "2020-06-23 13:04:01,553 - root - INFO:   filtering rivers to HUC\n",
      "2020-06-23 13:04:01,555 - root - INFO:   ...filtering\n",
      "2020-06-23 13:04:01,561 - root - INFO: \n",
      "2020-06-23 13:04:01,562 - root - INFO: Simplification Diagnostics\n",
      "2020-06-23 13:04:01,563 - root - INFO: ------------------------------\n",
      "2020-06-23 13:04:01,566 - root - INFO:   river min seg length: 160.859\n",
      "2020-06-23 13:04:01,569 - root - INFO:   river median seg length: 584.414\n",
      "2020-06-23 13:04:01,571 - root - INFO:   HUC min seg length: 190.265\n",
      "2020-06-23 13:04:01,572 - root - INFO:   HUC median seg length: 292.035\n"
     ]
    }
   ],
   "source": [
    "rivers = True\n",
    "if rivers:\n",
    "    # download/collect the river network within that shape's bounds\n",
    "    _, reaches = workflow.get_reaches(sources['hydrography'], hint, \n",
    "                                      coweeta.exterior().bounds, crs)\n",
    "    # simplify and prune rivers not IN the shape, constructing a tree-like data structure\n",
    "    # for the river network\n",
    "    rivers = workflow.simplify_and_prune(coweeta, reaches, filter=True, simplify=simplify, cut_intersections=True)\n",
    "\n",
    "else:\n",
    "    rivers = list()\n",
    "    workflow.split_hucs.simplify(coweeta, simplify)\n",
    "\n"
   ]
  },
  {
   "cell_type": "code",
   "execution_count": 6,
   "metadata": {},
   "outputs": [
    {
     "name": "stderr",
     "output_type": "stream",
     "text": [
      "2020-06-23 13:04:03,980 - root - INFO: \n",
      "2020-06-23 13:04:03,982 - root - INFO: Meshing\n",
      "2020-06-23 13:04:03,983 - root - INFO: ------------------------------\n",
      "2020-06-23 13:04:03,986 - root - INFO: Triangulating...\n",
      "2020-06-23 13:04:03,989 - root - INFO:    58 points and 58 facets\n",
      "2020-06-23 13:04:03,990 - root - INFO:  checking graph consistency\n",
      "2020-06-23 13:04:03,993 - root - INFO:  building graph data structures\n",
      "2020-06-23 13:04:03,994 - root - INFO:  triangle.build...\n",
      "2020-06-23 13:04:03,995 - root - WARNING: Triangulate: '--enforce-delaunay' option requires a hacked `meshpy.triangle`.  Proceeding without this option because it is not recognized.\n",
      "2020-06-23 13:04:15,442 - root - INFO:   ...built: 8086 mesh points and 15955 triangles\n",
      "2020-06-23 13:04:15,443 - root - INFO: Plotting triangulation diagnostics\n",
      "2020-06-23 13:04:16,807 - root - INFO:   min area = 248.1697998046875\n"
     ]
    }
   ],
   "source": [
    "# form a triangulation on the shape + river network\n",
    "\n",
    "# triangulation refinement:\n",
    "# Refine triangles if their area (in m^2) is greater than A(d), where d is the \n",
    "# distance from the triangle centroid to the nearest stream.\n",
    "# A(d) is a piecewise linear function -- A = A0 if d <= d0, A = A1 if d >= d1, and\n",
    "# linearly interpolates between the two endpoints.\n",
    "d0 = 100; d1 = 500\n",
    "A0 = 1000; A1 = 5000\n",
    "#A0 = 500; A1 = 2500\n",
    "#A0 = 100; A1 = 500\n",
    "\n",
    "# Refine triangles if they get too acute\n",
    "min_angle = 32 # degrees\n",
    "\n",
    "# make 2D mesh\n",
    "mesh_points2, mesh_tris, d = workflow.triangulate(coweeta, rivers, \n",
    "                                               refine_distance=[d0,A0,d1,A1],\n",
    "                                               refine_min_angle=min_angle,\n",
    "                                               enforce_delaunay=True,\n",
    "                                               diagnostics=True)\n",
    "#mesh_points2, mesh_tris, d = workflow.triangulate(coweeta, rivers,\n",
    "#                                                 refine_max_area=100000,\n",
    "#                                                 enforce_delaunay=True,\n",
    "#                                                 diagnostics=True)"
   ]
  },
  {
   "cell_type": "code",
   "execution_count": 7,
   "metadata": {},
   "outputs": [
    {
     "name": "stderr",
     "output_type": "stream",
     "text": [
      "2020-06-23 13:04:17,144 - root - INFO: \n",
      "2020-06-23 13:04:17,145 - root - INFO: Preprocessing Raster\n",
      "2020-06-23 13:04:17,146 - root - INFO: ------------------------------\n",
      "2020-06-23 13:04:17,148 - root - INFO: collecting raster\n",
      "2020-06-23 13:04:17,372 - root - INFO: Collecting DEMs to tile bounds: [-83.48845037186388, 35.01734099944037, -83.41165773504302, 35.08381933600275]\n",
      "2020-06-23 13:04:17,374 - root - INFO:   Need:\n",
      "2020-06-23 13:04:17,375 - root - INFO:     /Users/uec/research/water/data/watershed-workflow/data-master/dem/USGS_NED_1as_n36_w084.img\n",
      "2020-06-23 13:04:17,397 - root - INFO: Got raster of shape: (240, 277)\n",
      "2020-06-23 13:04:17,399 - root - INFO: Raster bounds: (-83.48845037186388, 35.08381933600275, -83.41150592741688, 35.01715266933386)\n",
      "2020-06-23 13:04:17,401 - root - INFO: \n",
      "2020-06-23 13:04:17,403 - root - INFO: Elevating Triangulation to DEM\n",
      "2020-06-23 13:04:17,403 - root - INFO: ------------------------------\n"
     ]
    }
   ],
   "source": [
    "# get a raster for the elevation map\n",
    "dem_profile, dem = workflow.get_raster_on_shape(sources['DEM'], coweeta.exterior(), crs)\n",
    "\n",
    "# elevate the triangle nodes to the dem\n",
    "mesh_points3 = workflow.elevate(mesh_points2, crs, dem, dem_profile)"
   ]
  },
  {
   "cell_type": "markdown",
   "metadata": {},
   "source": [
    "Plotting the resulting mesh can be done in a variety of ways, including both 3D plots and mapview.  We show both here, but hereafter use mapview plots as they are a bit clearer (if not so flashy)..."
   ]
  },
  {
   "cell_type": "code",
   "execution_count": 8,
   "metadata": {},
   "outputs": [],
   "source": [
    "figsize = (6,6)\n",
    "figsize_3d = (8,6)"
   ]
  },
  {
   "cell_type": "code",
   "execution_count": 9,
   "metadata": {},
   "outputs": [
    {
     "data": {
      "text/plain": [
       "[]"
      ]
     },
     "execution_count": 9,
     "metadata": {},
     "output_type": "execute_result"
    }
   ],
   "source": [
    "# plot the resulting surface mesh\n",
    "fig = plt.figure(figsize=figsize_3d)\n",
    "ax = workflow.plot.get_ax('3d', fig, window=[0.0,0.2,1,0.8])\n",
    "cax = fig.add_axes([0.23,0.18,0.58,0.03])\n",
    "\n",
    "mp = ax.plot_trisurf(mesh_points3[:,0], mesh_points3[:,1], mesh_points3[:,2], \n",
    "                     triangles=mesh_tris, cmap='viridis', \n",
    "                     edgecolor=(0,0,0,.2), linewidth=0.5)\n",
    "cb = fig.colorbar(mp, orientation=\"horizontal\", cax=cax)\n",
    "\n",
    "t = cax.set_title('elevation [m]')\n",
    "ax.view_init(55,0)\n",
    "ax.set_xticklabels(list())\n",
    "ax.set_yticklabels(list())\n",
    "\n",
    "#fig.savefig('coweeta_dem_3d')"
   ]
  },
  {
   "cell_type": "code",
   "execution_count": 10,
   "metadata": {},
   "outputs": [
    {
     "data": {
      "text/plain": [
       "Text(0.5, 1.0, 'elevation [m]')"
      ]
     },
     "execution_count": 10,
     "metadata": {},
     "output_type": "execute_result"
    }
   ],
   "source": [
    "# plot the resulting surface mesh\n",
    "fig = plt.figure(figsize=figsize)\n",
    "ax = workflow.plot.get_ax(crs, fig)\n",
    "\n",
    "mp = workflow.plot.triangulation(mesh_points3, mesh_tris, crs, ax=ax, \n",
    "                                 color='elevation', edgecolor='gray', linewidth=0.2)\n",
    "cbar = fig.colorbar(mp, orientation=\"horizontal\", pad=0.05)\n",
    "workflow.plot.hucs(coweeta, crs, ax=ax, color='k', linewidth=1)\n",
    "workflow.plot.rivers(rivers, crs, ax=ax, color='red', linewidth=1)\n",
    "ax.set_aspect('equal', 'datalim')\n",
    "ax.set_title('elevation [m]')\n",
    "cbar.ax.set_title('elevation [m]')\n",
    "#fig.savefig('coweeta_dem')"
   ]
  },
  {
   "cell_type": "code",
   "execution_count": 11,
   "metadata": {},
   "outputs": [],
   "source": [
    "# construct the 2D mesh\n",
    "m2 = workflow.mesh.Mesh2D(mesh_points3.copy(), list(mesh_tris))"
   ]
  },
  {
   "cell_type": "code",
   "execution_count": 12,
   "metadata": {},
   "outputs": [
    {
     "name": "stdout",
     "output_type": "stream",
     "text": [
      "max diff =  35.106056771571275\n"
     ]
    }
   ],
   "source": [
    "# hydrologically condition the mesh\n",
    "workflow.condition.condition(m2)\n",
    "\n",
    "# plot the change between the two meshes\n",
    "diff = np.copy(mesh_points3)\n",
    "diff[:,2] = m2.points[:,2] - mesh_points3[:,2] \n",
    "print(\"max diff = \", np.abs(diff[:,2]).max())\n",
    "fig, ax = workflow.plot.get_ax(crs, figsize=figsize)\n",
    "workflow.plot.triangulation(diff, m2.conn, crs, color='elevation', edgecolors='gray', \n",
    "                            linewidth=0.2, ax=ax)\n",
    "ax.set_title('conditioned dz')\n",
    "plt.show()"
   ]
  },
  {
   "cell_type": "markdown",
   "metadata": {},
   "source": [
    "## Surface properties\n",
    "\n",
    "Meshes interact with data to provide forcing, parameters, and more in the actual simulation.  Specifically, we need vegetation type on the surface to provide information about transpiration and subsurface structure to provide information about water retention curves, etc.\n",
    "\n",
    "We'll start by downloading and collecting land cover from the NLCD dataset, and generate sets for each land cover type that cover the surface.  Likely these will be some combination of grass, deciduous forest, coniferous forest, and mixed."
   ]
  },
  {
   "cell_type": "code",
   "execution_count": 14,
   "metadata": {},
   "outputs": [
    {
     "name": "stderr",
     "output_type": "stream",
     "text": [
      "2020-06-23 13:04:33,113 - root - INFO: \n",
      "2020-06-23 13:04:33,116 - root - INFO: Preprocessing Raster\n",
      "2020-06-23 13:04:33,117 - root - INFO: ------------------------------\n",
      "2020-06-23 13:04:33,118 - root - INFO: collecting raster\n",
      "2020-06-23 13:04:33,129 - root - INFO: CRS: PROJCS[\"Albers_Conical_Equal_Area\",GEOGCS[\"WGS 84\",DATUM[\"WGS_1984\",SPHEROID[\"WGS 84\",6378137,298.257223563,AUTHORITY[\"EPSG\",\"7030\"]],TOWGS84[0,0,0,0,0,0,0],AUTHORITY[\"EPSG\",\"6326\"]],PRIMEM[\"Greenwich\",0,AUTHORITY[\"EPSG\",\"8901\"]],UNIT[\"degree\",0.0174532925199433,AUTHORITY[\"EPSG\",\"9122\"]],AUTHORITY[\"EPSG\",\"4326\"]],PROJECTION[\"Albers_Conic_Equal_Area\"],PARAMETER[\"latitude_of_center\",23],PARAMETER[\"longitude_of_center\",-96],PARAMETER[\"standard_parallel_1\",29.5],PARAMETER[\"standard_parallel_2\",45.5],PARAMETER[\"false_easting\",0],PARAMETER[\"false_northing\",0],UNIT[\"meters\",1],AXIS[\"Easting\",EAST],AXIS[\"Northing\",NORTH]]\n",
      "2020-06-23 13:04:33,425 - root - INFO: Got raster of shape: (199, 192)\n",
      "2020-06-23 13:04:33,426 - root - INFO: Raster bounds: (1128975.0, 1410315.0, 5964675.0, -1722405.0)\n",
      "2020-06-23 13:04:33,950 - root - INFO: Found land cover dtypes: uint8\n",
      "2020-06-23 13:04:33,953 - root - INFO: Found land cover types: {41, 42, 43, 81, 52, 21, 22, 23}\n"
     ]
    }
   ],
   "source": [
    "# download the NLCD raster\n",
    "lc_profile, lc_raster = workflow.get_raster_on_shape(sources['land cover'], \n",
    "                                                     coweeta.exterior(), crs)\n",
    "\n",
    "# resample the raster to the triangles\n",
    "lc = workflow.values_from_raster(m2.centroids(), crs, lc_raster, lc_profile)\n",
    "\n",
    "# what land cover types did we get?\n",
    "logging.info('Found land cover dtypes: {}'.format(lc.dtype))\n",
    "logging.info('Found land cover types: {}'.format(set(lc)))\n"
   ]
  },
  {
   "cell_type": "code",
   "execution_count": 15,
   "metadata": {},
   "outputs": [],
   "source": [
    "# plot the NLCD data\n",
    "\n",
    "# -- get the NLCD colormap which uses official NLCD colors and labels\n",
    "nlcd_indices, nlcd_cmap, nlcd_norm, nlcd_ticks, nlcd_labels = \\\n",
    "                workflow.colors.generate_nlcd_colormap(lc)\n",
    "\n",
    "nlcd_labels_fw = []\n",
    "for label in nlcd_labels:\n",
    "    label_fw = label\n",
    "    if len(label) > 15:\n",
    "        if ' ' in label:\n",
    "            lsplit = label.split()\n",
    "            if len(lsplit) == 2:\n",
    "                label_fw = '\\n'.join(lsplit)\n",
    "            elif len(lsplit) == 4:\n",
    "                label_fw = '\\n'.join([' '.join(lsplit[0:2]),\n",
    "                                      ' '.join(lsplit[2:])])\n",
    "            elif len(lsplit) == 3:\n",
    "                if len(lsplit[0]) > len(lsplit[-1]):\n",
    "                    label_fw = '\\n'.join([lsplit[0],\n",
    "                                          ' '.join(lsplit[1:])])\n",
    "                else:\n",
    "                    label_fw = '\\n'.join([' '.join(lsplit[:-1]),\n",
    "                                          lsplit[-1]])\n",
    "    nlcd_labels_fw.append(label_fw)\n",
    "\n",
    "fig = plt.figure(figsize=figsize)\n",
    "ax = workflow.plot.get_ax(crs, fig)\n",
    "\n",
    "polys = workflow.plot.mesh(m2, crs, ax=ax, color=lc, cmap=nlcd_cmap, norm=nlcd_norm, edgecolor='none', \n",
    "                                     facecolor='color', linewidth=0.5)\n",
    "mp = pcm.ScalarMappable(norm=nlcd_norm, cmap=nlcd_cmap)\n",
    "cb = fig.colorbar(mp)\n",
    "cb.set_ticks(nlcd_ticks)\n",
    "cb.set_ticklabels(nlcd_labels_fw)\n",
    "ax.set_title(\"land cover index\")\n",
    "fig.savefig('coweeta_nlcd')"
   ]
  },
  {
   "cell_type": "markdown",
   "metadata": {},
   "source": [
    "## Subsurface properties\n",
    "\n",
    "Get soil structure from SSURGO"
   ]
  },
  {
   "cell_type": "code",
   "execution_count": 16,
   "metadata": {},
   "outputs": [
    {
     "name": "stderr",
     "output_type": "stream",
     "text": [
      "2020-06-23 13:05:07,169 - root - INFO: \n",
      "2020-06-23 13:05:07,171 - root - INFO: Preprocessing Shapes\n",
      "2020-06-23 13:05:07,172 - root - INFO: ------------------------------\n",
      "2020-06-23 13:05:07,434 - root - INFO:   Using filename: /Users/uec/research/water/data/watershed-workflow/data-master/soil_survey/soil_survey_shape_-83.4790_35.0269_-83.4208_35.0743.gml\n",
      "2020-06-23 13:05:07,554 - root - INFO:   Found 460 shapes.\n",
      "2020-06-23 13:05:07,555 - root - INFO:   and crs: {'init': 'epsg:4326'}\n",
      "2020-06-23 13:06:36,348 - root - INFO: target bounds: (273971.0911428096, 3878839.6361173145, 279140.9150949494, 3883953.7853134344)\n",
      "2020-06-23 13:06:36,928 - root - INFO: shape union bounds: (272780.24915777455, 3877673.460647937, 281292.4084609144, 3887703.9534725407)\n",
      "2020-06-23 13:06:36,930 - root - INFO: Coloring shapes onto raster:\n",
      "2020-06-23 13:06:36,931 - root - INFO:   target_bounds = (273971.0911428096, 3878839.6361173145, 279140.9150949494, 3883953.7853134344)\n",
      "2020-06-23 13:06:36,931 - root - INFO:   out_bounds = [273966.0, 3878839.0, 279146.0, 3883959.0]\n",
      "2020-06-23 13:06:36,932 - root - INFO:   pixel_size = 10\n",
      "2020-06-23 13:06:36,934 - root - INFO:   width = 518, height = 512\n",
      "2020-06-23 13:06:36,935 - root - INFO:   and 43 independent colors of dtype int32\n"
     ]
    }
   ],
   "source": [
    "# download the NRCS soils data as shapes and project it onto the mesh\n",
    "import workflow.sources.manager_nrcs\n",
    "import matplotlib.cm\n",
    "\n",
    "# -- download the shapes\n",
    "target_bounds = coweeta.exterior().bounds\n",
    "_, soil_survey = workflow.get_shapes(sources['soil type'], target_bounds, crs)\n",
    "\n",
    "# -- log the bounds targetted and found\n",
    "logging.info('target bounds: {}'.format(target_bounds))\n",
    "logging.info('shape union bounds: {}'.format(\n",
    "    shapely.ops.cascaded_union(soil_survey).bounds))\n",
    "\n",
    "# -- determine the NRCS mukey for each soil unit; this uniquely identifies soil \n",
    "#    properties\n",
    "soil_ids = np.array([shp.properties['id'] for shp in soil_survey], np.int32)\n",
    "\n",
    "# -- color a raster by the polygons (this makes identifying a triangle's value much \n",
    "#    more efficient)\n",
    "soil_color_raster, soil_color_profile, img_bounds = \\\n",
    "            workflow.color_raster_from_shapes(target_bounds, 10, soil_survey,\n",
    "                                              soil_ids, crs)\n",
    "\n",
    "# -- resample the raster to the triangles\n",
    "soil_color = workflow.values_from_raster(m2.centroids(), crs, \n",
    "                                         soil_color_raster, soil_color_profile)"
   ]
  },
  {
   "cell_type": "code",
   "execution_count": 17,
   "metadata": {},
   "outputs": [],
   "source": [
    "# plot the soil data\n",
    "fig = plt.figure(figsize=figsize)\n",
    "ax = workflow.plot.get_ax(crs, fig)\n",
    "\n",
    "mp = workflow.plot.mesh(m2, crs, ax=ax, facecolor='color',\n",
    "                                 linewidth=0.5, color=soil_color, cmap='copper')\n",
    "ax.set_title('soil type index')\n",
    "\n",
    "fig.savefig('coweeta_soils')"
   ]
  },
  {
   "cell_type": "markdown",
   "metadata": {},
   "source": [
    "## Mesh extrusion\n",
    "\n",
    "Given the surface mesh and material IDs on both the surface and subsurface, we can extrude the surface mesh in the vertical to make a 3D mesh."
   ]
  },
  {
   "cell_type": "code",
   "execution_count": 18,
   "metadata": {},
   "outputs": [
    {
     "name": "stderr",
     "output_type": "stream",
     "text": [
      "2020-06-23 13:09:37,020 - root - INFO: Cell summary:\n",
      "2020-06-23 13:09:37,021 - root - INFO: ------------------------------------------------------------\n",
      "2020-06-23 13:09:37,022 - root - INFO: l_id\t| c_id\t|mat_id\t| dz\t\t| z_top\n",
      "2020-06-23 13:09:37,023 - root - INFO: ------------------------------------------------------------\n",
      "2020-06-23 13:09:37,024 - root - INFO:  00 \t| 00 \t| 545837 \t|   0.050000 \t|   0.000000\n",
      "2020-06-23 13:09:37,025 - root - INFO:  01 \t| 01 \t| 545837 \t|   0.075796 \t|   0.050000\n",
      "2020-06-23 13:09:37,026 - root - INFO:  02 \t| 02 \t| 545837 \t|   0.114899 \t|   0.125796\n",
      "2020-06-23 13:09:37,027 - root - INFO:  03 \t| 03 \t| 545837 \t|   0.174177 \t|   0.240695\n",
      "2020-06-23 13:09:37,028 - root - INFO:  04 \t| 04 \t| 545837 \t|   0.264036 \t|   0.414872\n",
      "2020-06-23 13:09:37,029 - root - INFO:  05 \t| 05 \t| 545837 \t|   0.400255 \t|   0.678908\n",
      "2020-06-23 13:09:37,030 - root - INFO:  06 \t| 06 \t| 545837 \t|   0.606751 \t|   1.079163\n",
      "2020-06-23 13:09:37,031 - root - INFO:  07 \t| 07 \t| 545837 \t|   0.919781 \t|   1.685915\n",
      "2020-06-23 13:09:37,032 - root - INFO:  08 \t| 08 \t| 545837 \t|   1.394305 \t|   2.605695\n",
      "2020-06-23 13:09:37,033 - root - INFO:  09 \t| 09 \t| 545837 \t|   2.000000 \t|   4.000000\n",
      "2020-06-23 13:09:37,035 - root - INFO:  10 \t| 10 \t|  999 \t|   2.000000 \t|   6.000000\n",
      "2020-06-23 13:09:37,036 - root - INFO:  10 \t| 11 \t|  999 \t|   2.000000 \t|   8.000000\n",
      "2020-06-23 13:09:37,036 - root - INFO:  10 \t| 12 \t|  999 \t|   2.000000 \t|  10.000000\n",
      "2020-06-23 13:09:37,038 - root - INFO:  10 \t| 13 \t|  999 \t|   2.000000 \t|  12.000000\n",
      "2020-06-23 13:09:37,040 - root - INFO:  10 \t| 14 \t|  999 \t|   2.000000 \t|  14.000000\n",
      "2020-06-23 13:09:37,041 - root - INFO:  10 \t| 15 \t|  999 \t|   2.000000 \t|  16.000000\n",
      "2020-06-23 13:09:37,044 - root - INFO:  10 \t| 16 \t|  999 \t|   2.000000 \t|  18.000000\n",
      "2020-06-23 13:09:37,045 - root - INFO:  10 \t| 17 \t|  999 \t|   2.000000 \t|  20.000000\n",
      "2020-06-23 13:09:37,046 - root - INFO:  10 \t| 18 \t|  999 \t|   2.000000 \t|  22.000000\n",
      "2020-06-23 13:09:37,047 - root - INFO:  10 \t| 19 \t|  999 \t|   2.000000 \t|  24.000000\n",
      "2020-06-23 13:09:37,048 - root - INFO:  10 \t| 20 \t|  999 \t|   2.000000 \t|  26.000000\n",
      "2020-06-23 13:09:37,050 - root - INFO:  10 \t| 21 \t|  999 \t|   2.000000 \t|  28.000000\n",
      "2020-06-23 13:09:37,051 - root - INFO:  10 \t| 22 \t|  999 \t|   2.000000 \t|  30.000000\n",
      "2020-06-23 13:09:37,052 - root - INFO:  10 \t| 23 \t|  999 \t|   2.000000 \t|  32.000000\n",
      "2020-06-23 13:09:37,053 - root - INFO:  10 \t| 24 \t|  999 \t|   2.000000 \t|  34.000000\n",
      "2020-06-23 13:09:37,055 - root - INFO:  10 \t| 25 \t|  999 \t|   2.000000 \t|  36.000000\n",
      "2020-06-23 13:09:37,056 - root - INFO:  10 \t| 26 \t|  999 \t|   2.000000 \t|  38.000000\n"
     ]
    },
    {
     "name": "stdout",
     "output_type": "stream",
     "text": [
      "Got telescoping factor: 1.515910144611108\n"
     ]
    }
   ],
   "source": [
    "# layer extrusion\n",
    "# -- data structures needed for extrusion\n",
    "layer_types = []\n",
    "layer_data = []\n",
    "layer_ncells = []\n",
    "layer_mat_ids = []\n",
    "z = 0.0\n",
    "\n",
    "# -- soil layer --\n",
    "#  top 6 m\n",
    "#  5 cm initial top cell\n",
    "#  10 cells\n",
    "#  expanding dz, growing with depth\n",
    "ncells = 9\n",
    "dz = 0.05\n",
    "layer_dz = 4\n",
    "\n",
    "tele = workflow.mesh.telescope_factor(ncells, dz, layer_dz)\n",
    "print(\"Got telescoping factor: {}\".format(tele))\n",
    "for i in range(ncells):\n",
    "    layer_types.append('constant')\n",
    "    layer_data.append(dz)\n",
    "    layer_ncells.append(1)\n",
    "    layer_mat_ids.append(soil_color)\n",
    "    z += dz\n",
    "    dz *= tele\n",
    "    \n",
    "# one more 2m layer makes 6m\n",
    "dz = 2.0\n",
    "layer_types.append('constant')\n",
    "layer_data.append(dz)\n",
    "layer_ncells.append(1)\n",
    "layer_mat_ids.append(soil_color)\n",
    "z += dz\n",
    "\n",
    "# -- geologic layer --\n",
    "# keep going for 2m cells until we hit the bottom of\n",
    "# the domain\n",
    "layer_types.append(\"constant\")\n",
    "layer_data.append(40 - z) # depth of bottom of domain is 40 m\n",
    "layer_ncells.append(int(round(layer_data[-1] / dz)))\n",
    "layer_mat_ids.append(999*np.ones_like(soil_color))\n",
    "\n",
    "# print the summary\n",
    "workflow.mesh.Mesh3D.summarize_extrusion(layer_types, layer_data, \n",
    "                                            layer_ncells, layer_mat_ids)"
   ]
  },
  {
   "cell_type": "code",
   "execution_count": 19,
   "metadata": {},
   "outputs": [],
   "source": [
    "# extrude\n",
    "m3 = workflow.mesh.Mesh3D.extruded_Mesh2D(m2, layer_types, layer_data, \n",
    "                                             layer_ncells, layer_mat_ids)"
   ]
  },
  {
   "cell_type": "code",
   "execution_count": 20,
   "metadata": {},
   "outputs": [],
   "source": [
    "# add back on land cover side sets\n",
    "surf_ss = m3.side_sets[1]\n",
    "\n",
    "for index, name in zip(nlcd_indices, nlcd_labels):\n",
    "    where = np.where(lc == index)[0]\n",
    "    ss = workflow.mesh.SideSet(name, int(index), \n",
    "                            [surf_ss.elem_list[w] for w in where],\n",
    "                            [surf_ss.side_list[w] for w in where])        \n",
    "    m3.side_sets.append(ss)"
   ]
  },
  {
   "cell_type": "code",
   "execution_count": 21,
   "metadata": {},
   "outputs": [
    {
     "name": "stdout",
     "output_type": "stream",
     "text": [
      "\n",
      "You are using exodus.py v 1.13 (seacas-beta), a python wrapper of some of the exodus library.\n",
      "\n",
      "Copyright (c) 2013, 2014, 2015, 2016, 2017, 2018, 2019 National Technology &\n",
      "Engineering Solutions of Sandia, LLC (NTESS).  Under the terms of\n",
      "Contract DE-NA0003525 with NTESS, the U.S. Government retains certain\n",
      "rights in this software.\n",
      "\n",
      "Opening exodus file: coweeta_basin.exo\n",
      "Closing exodus file: coweeta_basin.exo\n"
     ]
    }
   ],
   "source": [
    "# save to disk\n",
    "try:\n",
    "    os.remove('coweeta_basin.exo')\n",
    "except FileNotFoundError:\n",
    "    pass\n",
    "m3.write_exodus('coweeta_basin.exo')"
   ]
  },
  {
   "cell_type": "code",
   "execution_count": null,
   "metadata": {},
   "outputs": [],
   "source": []
  }
 ],
 "metadata": {
  "kernelspec": {
   "display_name": "Python [conda env:ats_meshing_20200525]",
   "language": "python",
   "name": "conda-env-ats_meshing_20200525-py"
  },
  "language_info": {
   "codemirror_mode": {
    "name": "ipython",
    "version": 3
   },
   "file_extension": ".py",
   "mimetype": "text/x-python",
   "name": "python",
   "nbconvert_exporter": "python",
   "pygments_lexer": "ipython3",
   "version": "3.7.6"
  }
 },
 "nbformat": 4,
 "nbformat_minor": 2
}
