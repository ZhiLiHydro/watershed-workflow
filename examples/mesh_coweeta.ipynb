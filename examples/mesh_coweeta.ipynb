{
 "cells": [
  {
   "cell_type": "markdown",
   "metadata": {},
   "source": [
    "# Example: mesh a delineated watershed\n",
    "\n",
    "Here we mesh the Coweeta Hydrologic Laboratory as an example of how to pull data in from default locations and generate a fully functional ATS mesh.\n",
    "\n",
    "This includes the full shebang:\n",
    "- NHD Plus for river network\n",
    "- NRCS soils data for soil types\n",
    "- NLCD for land cover/transpiration/rooting depths\n",
    "- NED for elevation"
   ]
  },
  {
   "cell_type": "code",
   "execution_count": 1,
   "metadata": {},
   "outputs": [],
   "source": [
    "#%matplotlib inline\n",
    "%matplotlib OSX"
   ]
  },
  {
   "cell_type": "code",
   "execution_count": 2,
   "metadata": {},
   "outputs": [],
   "source": [
    "import os,sys\n",
    "import numpy as np\n",
    "from matplotlib import pyplot as plt\n",
    "import shapely\n",
    "import logging\n",
    "import math\n",
    "\n",
    "import workflow\n",
    "import workflow.source_list\n",
    "import workflow.ui\n",
    "import workflow.conf\n",
    "import workflow.split_hucs\n",
    "import workflow.extrude\n",
    "import workflow.colors\n",
    "import workflow.condition\n",
    "\n",
    "workflow.ui.setup_logging(1,None)"
   ]
  },
  {
   "cell_type": "markdown",
   "metadata": {},
   "source": [
    "## Sources and setup\n",
    "\n",
    "Next we set up the source watershed and coordinate system and all data sources for our mesh.  We will use the CRS that is included in the shapefile.\n",
    "\n",
    "A wide range of sources are available; here we use the defaults except for using NHD Plus for watershed boundaries and hydrography, just to demonstrate how to change the defaults."
   ]
  },
  {
   "cell_type": "code",
   "execution_count": 3,
   "metadata": {},
   "outputs": [
    {
     "name": "stderr",
     "output_type": "stream",
     "text": [
      "2019-08-16 16:50:31,043 - root - INFO: \n",
      "2019-08-16 16:50:31,044 - root - INFO: Meshing shape: ../data/hydrologic_units/others/coweeta/coweeta_basin.shp\n",
      "2019-08-16 16:50:31,045 - root - INFO: ==============================\n"
     ]
    }
   ],
   "source": [
    "coweeta_shapefile = '../data/hydrologic_units/others/coweeta/coweeta_basin.shp'\n",
    "hint = '0601'  # hint: HUC 4 containing this shape.  \n",
    "    # This is necessary to avoid downloading all HUCs to search for this shape\n",
    "\n",
    "logging.info(\"\")\n",
    "logging.info(\"Meshing shape: {}\".format(coweeta_shapefile))\n",
    "logging.info(\"=\"*30)"
   ]
  },
  {
   "cell_type": "code",
   "execution_count": 4,
   "metadata": {},
   "outputs": [
    {
     "name": "stderr",
     "output_type": "stream",
     "text": [
      "2019-08-16 16:50:31,052 - root - INFO: Using sources:\n",
      "2019-08-16 16:50:31,053 - root - INFO: --------------\n",
      "2019-08-16 16:50:31,054 - root - INFO: HUC: National Hydrography Dataset Plus High Resolution (NHDPlus HR)\n",
      "2019-08-16 16:50:31,055 - root - INFO: hydrography: National Hydrography Dataset Plus High Resolution (NHDPlus HR)\n",
      "2019-08-16 16:50:31,056 - root - INFO: DEM: National Elevation Dataset (NED)\n",
      "2019-08-16 16:50:31,057 - root - INFO: soil type: National Resources Conservation Service Soil Survey (NRCS Soils)\n",
      "2019-08-16 16:50:31,058 - root - INFO: land cover: National Land Cover Database (NLCD) Layer: NLCD_2016_Land_Cover_L48\n",
      "2019-08-16 16:50:31,059 - root - INFO: soil thickness: None\n"
     ]
    }
   ],
   "source": [
    "sources = workflow.source_list.get_default_sources()\n",
    "sources['HUC'] = workflow.source_list.huc_sources['NHD Plus']\n",
    "sources['hydrography'] = workflow.source_list.hydrography_sources['NHD Plus']\n",
    "workflow.source_list.log_sources(sources)"
   ]
  },
  {
   "cell_type": "code",
   "execution_count": 5,
   "metadata": {},
   "outputs": [
    {
     "name": "stderr",
     "output_type": "stream",
     "text": [
      "2019-08-16 16:50:31,065 - root - INFO: \n",
      "2019-08-16 16:50:31,066 - root - INFO: Preprocessing Shapes\n",
      "2019-08-16 16:50:31,067 - root - INFO: ------------------------------\n",
      "2019-08-16 16:50:31,068 - root - INFO: loading file: \"../data/hydrologic_units/others/coweeta/coweeta_basin.shp\"\n"
     ]
    }
   ],
   "source": [
    "# get the shape and crs of the shape\n",
    "coweeta_shapes, crs, _ = workflow.get_shapes(coweeta_shapefile)\n",
    "\n",
    "# the split-form is a useful data structure representation used by some of the \n",
    "# simplification and manipulation routines.  it is more useful for multiple, \n",
    "# nested shapes, but we'll use it here anyway.\n",
    "coweeta_shape_split = workflow.split_hucs.SplitHUCs(coweeta_shapes)\n"
   ]
  },
  {
   "cell_type": "markdown",
   "metadata": {},
   "source": [
    "## Generate the surface mesh\n",
    "\n",
    "First we'll generate the flattened, 2D triangulation, which builds on hydrography data.  Then we download a digital elevation map from the National Elevation Dataset, and extrude that 2D triangulation to a 3D surface mesh based on nearest-neighbor pixels of the DEM."
   ]
  },
  {
   "cell_type": "code",
   "execution_count": 6,
   "metadata": {},
   "outputs": [
    {
     "name": "stderr",
     "output_type": "stream",
     "text": [
      "2019-08-16 16:50:31,116 - root - INFO: \n",
      "2019-08-16 16:50:31,118 - root - INFO: Preprocessing Hydrography\n",
      "2019-08-16 16:50:31,119 - root - INFO: ------------------------------\n",
      "2019-08-16 16:50:31,120 - root - INFO: loading streams in bounds (273971.0911428, 3878839.6361173, 279140.9150949, 3883953.7853134)\n",
      "2019-08-16 16:50:31,122 - root - INFO: Using Hydrography file \"/Users/uec/research/water/data/meshing/data/hydrography/NHDPlus_H_0601_GDB/NHDPlus_H_0601.gdb\"\n",
      "2019-08-16 16:50:36,458 - root - INFO: \n",
      "2019-08-16 16:50:36,459 - root - INFO: Simplifying and pruning\n",
      "2019-08-16 16:50:36,460 - root - INFO: ------------------------------\n",
      "2019-08-16 16:50:36,460 - root - INFO: Filtering rivers outside of the HUC space\n",
      "2019-08-16 16:50:36,462 - root - INFO:   ...filtering\n",
      "2019-08-16 16:50:36,484 - root - INFO: Generate the river tree\n",
      "2019-08-16 16:50:36,490 - root - INFO: Removing rivers with fewer than 0 reaches.\n",
      "2019-08-16 16:50:36,491 - root - INFO:   ...keeping river with 21 reaches\n",
      "2019-08-16 16:50:36,492 - root - INFO: simplifying rivers\n",
      "2019-08-16 16:50:36,506 - root - INFO: simplifying HUCs\n",
      "2019-08-16 16:50:36,511 - root - INFO: snapping rivers and HUCs\n",
      "2019-08-16 16:50:36,515 - root - INFO:   snapping polygon segment boundaries to river endpoints\n",
      "2019-08-16 16:50:36,519 - root - INFO:   snapping river endpoints to the polygon\n",
      "2019-08-16 16:50:36,542 - root - INFO:   cutting at crossings\n",
      "2019-08-16 16:50:36,576 - root - INFO:   filtering rivers to HUC\n",
      "2019-08-16 16:50:36,578 - root - INFO:   ...filtering\n",
      "2019-08-16 16:50:36,586 - root - INFO: \n",
      "2019-08-16 16:50:36,587 - root - INFO: Simplification Diagnostics\n",
      "2019-08-16 16:50:36,588 - root - INFO: ------------------------------\n",
      "2019-08-16 16:50:36,591 - root - INFO:   river min seg length: 38.7145\n",
      "2019-08-16 16:50:36,592 - root - INFO:   river median seg length: 65.1981\n",
      "2019-08-16 16:50:36,596 - root - INFO:   HUC min seg length: 11.4828\n",
      "2019-08-16 16:50:36,597 - root - INFO:   HUC median seg length: 20.9713\n"
     ]
    }
   ],
   "source": [
    "# download/collect the river network within that shape's bounds\n",
    "rivers, centroid = workflow.get_rivers_by_bounds(sources['hydrography'], \n",
    "                                                 coweeta_shape_split.exterior().bounds, crs, hint)\n",
    "\n",
    "# simplify that network a bit, and prune rivers not IN the shape\n",
    "rivers = workflow.simplify_and_prune(coweeta_shape_split, rivers, cut_intersections=True)"
   ]
  },
  {
   "cell_type": "code",
   "execution_count": 7,
   "metadata": {},
   "outputs": [
    {
     "name": "stderr",
     "output_type": "stream",
     "text": [
      "2019-08-16 16:50:36,604 - root - INFO: \n",
      "2019-08-16 16:50:36,606 - root - INFO: Meshing\n",
      "2019-08-16 16:50:36,607 - root - INFO: ------------------------------\n",
      "2019-08-16 16:50:36,617 - root - INFO: Triangulating...\n",
      "2019-08-16 16:50:36,622 - root - INFO:    265 points and 265 facets\n",
      "2019-08-16 16:50:36,623 - root - INFO:  checking graph consistency\n",
      "2019-08-16 16:50:36,628 - root - INFO:  building graph data structures\n",
      "2019-08-16 16:50:36,632 - root - INFO:  triangle.build...\n",
      "2019-08-16 16:51:52,106 - root - INFO:   ...built: 79529 mesh points and 158367 triangles\n",
      "2019-08-16 16:51:52,106 - root - INFO: Plotting triangulation diagnostics\n"
     ]
    }
   ],
   "source": [
    "# do the triangulation\n",
    "args = workflow.ui.default_triangulate_options()\n",
    "args.delaunay = False\n",
    "\n",
    "# triangulation options:\n",
    "# Refine triangles if their area (in m^2) is greater than A(d), where d is the distance from the triangle\n",
    "# centroid to the nearest stream.\n",
    "# A(d) is a piecewise linear function -- A = A0 if d <= d0, A = A1 if d >= d1, and linearly interpolates\n",
    "# between the two endpoints.\n",
    "d0 = 100; d1 = 500\n",
    "#A0 = 500; A1 = 2500\n",
    "A0 = 100; A1 = 500\n",
    "args.refine_distance = [d0,A0,d1,A1]\n",
    "args.refine_min_angle = 32\n",
    "\n",
    "# make 2D mesh\n",
    "mesh_points2, mesh_tris = workflow.triangulate(coweeta_shape_split, rivers, args, diagnostics=True)"
   ]
  },
  {
   "cell_type": "code",
   "execution_count": 27,
   "metadata": {},
   "outputs": [
    {
     "name": "stderr",
     "output_type": "stream",
     "text": [
      "2019-08-16 17:18:53,493 - root - INFO: \n",
      "2019-08-16 17:18:53,501 - root - INFO: Preprocessing Raster\n",
      "2019-08-16 17:18:53,504 - root - INFO: ------------------------------\n",
      "2019-08-16 17:18:53,514 - root - INFO: collecting raster\n",
      "2019-08-16 17:18:53,524 - root - INFO: Collecting DEMs to tile bounds: [-83.48866949496973, 35.01716079147015, -83.41143856645938, 35.08399956885619]\n",
      "2019-08-16 17:18:53,525 - root - INFO:   Need:\n",
      "2019-08-16 17:18:53,527 - root - INFO:     /Users/uec/research/water/data/meshing/data/dem/USGS_NED_1as_n36_w084.img\n",
      "2019-08-16 17:18:53,625 - root - INFO: \n",
      "2019-08-16 17:18:53,626 - root - INFO: Elevating Triangulation to DEM\n",
      "2019-08-16 17:18:53,631 - root - INFO: ------------------------------\n"
     ]
    }
   ],
   "source": [
    "# get a raster for the elevation map\n",
    "dem_profile, dem = workflow.get_raster_on_shape(sources['DEM'], coweeta_shape_split.exterior(), crs)\n",
    "\n",
    "# elevate the triangle nodes to the dem\n",
    "mesh_points3 = workflow.elevate(mesh_points2, crs, dem, dem_profile)"
   ]
  },
  {
   "cell_type": "code",
   "execution_count": 9,
   "metadata": {},
   "outputs": [],
   "source": [
    "# plot the resulting surface mesh\n",
    "fig = plt.figure(figsize=(10,6))\n",
    "ax = workflow.plot.get_ax('3d', fig, window=[0.0,0.2,1,0.8])\n",
    "cax = fig.add_axes([0.23,0.18,0.58,0.03])\n",
    "\n",
    "mp = ax.plot_trisurf(mesh_points3[:,0], mesh_points3[:,1], mesh_points3[:,2], triangles=mesh_tris, \n",
    "                cmap='viridis', edgecolor=(0,0,0,.2), linewidth=0.5)\n",
    "cb = fig.colorbar(mp, orientation=\"horizontal\", cax=cax)\n",
    "\n",
    "rivers_2 = [np.array(r.xy) for riv in rivers for r in riv]\n",
    "rivers_e = [workflow.values_from_raster(r.transpose(), crs, dem, dem_profile) for r in rivers_2]\n",
    "rivers_l3 = [np.array([i[0], i[1], j]).transpose() for i,j in zip(rivers_2, rivers_e)]\n",
    "for r in rivers_l3:\n",
    "    ax.plot(r[:,0]+1, r[:,1], r[:,2]+10, color='red', linewidth=3)\n",
    "\n",
    "t = cax.set_title('elevation [m]')\n",
    "ax.view_init(55,0)\n",
    "\n",
    "fig.savefig('dem_b.png', dpi=600)"
   ]
  },
  {
   "cell_type": "code",
   "execution_count": 10,
   "metadata": {},
   "outputs": [
    {
     "data": {
      "text/plain": [
       "Text(0.5, 1.0, '2D mesh and digital elevation map')"
      ]
     },
     "execution_count": 10,
     "metadata": {},
     "output_type": "execute_result"
    }
   ],
   "source": [
    "# plot the resulting surface mesh\n",
    "fig = plt.figure(figsize=(16,16))\n",
    "ax = workflow.plot.get_ax(crs, fig)\n",
    "\n",
    "mp = workflow.plot.triangulation(mesh_points3, mesh_tris, crs, ax=ax, linewidth=0.5, color='elevation', edgecolor='gray')\n",
    "fig.colorbar(mp, orientation=\"horizontal\", pad=0.1)\n",
    "workflow.plot.hucs(coweeta_shape_split, crs, ax=ax, color='k', linewidth=1)\n",
    "workflow.plot.rivers(rivers, crs, ax=ax, color='red', linewidth=1)\n",
    "ax.set_aspect('equal', 'datalim')\n",
    "ax.set_title('2D mesh and digital elevation map')"
   ]
  },
  {
   "cell_type": "code",
   "execution_count": 11,
   "metadata": {},
   "outputs": [],
   "source": [
    "# construct the 2D mesh\n",
    "m2 = workflow.extrude.Mesh2D(mesh_points3.copy(), list(mesh_tris))"
   ]
  },
  {
   "cell_type": "code",
   "execution_count": 12,
   "metadata": {},
   "outputs": [
    {
     "name": "stdout",
     "output_type": "stream",
     "text": [
      "max diff =  3.5721370183472345\n"
     ]
    }
   ],
   "source": [
    "# hydrologically condition the mesh\n",
    "workflow.condition.condition(m2)\n",
    "ax = workflow.plot.get_ax(crs, figsize=(20,20))\n",
    "workflow.plot.triangulation(m2.points, m2.conn, crs, color='elevation', edgecolors='k', ax=ax)\n",
    "ax.set_title('conditioned mesh')\n",
    "\n",
    "# plot the change between the two meshes\n",
    "diff = np.copy(mesh_points3)\n",
    "diff[:,2] = m2.points[:,2] - mesh_points3[:,2] \n",
    "print(\"max diff = \", np.abs(diff[:,2]).max())\n",
    "ax = workflow.plot.get_ax(crs, figsize=(20,20))\n",
    "workflow.plot.triangulation(diff, m2.conn, crs, color='elevation', edgecolors='k', ax=ax)\n",
    "ax.set_title('conditioned dz')\n",
    "plt.show()"
   ]
  },
  {
   "cell_type": "markdown",
   "metadata": {},
   "source": [
    "## Surface properties\n",
    "\n",
    "Meshes interact with data to provide forcing, parameters, and more in the actual simulation.  Specifically, we need vegetation type on the surface to provide information about transpiration and subsurface structure to provide information about water retention curves, etc.\n",
    "\n",
    "We'll start by downloading and collecting land cover from the NLCD dataset, and generate sets for each land cover type that cover the surface.  Likely these will be some combination of grass, deciduous forest, coniferous forest, and mixed."
   ]
  },
  {
   "cell_type": "code",
   "execution_count": 13,
   "metadata": {},
   "outputs": [
    {
     "name": "stderr",
     "output_type": "stream",
     "text": [
      "2019-08-16 16:52:30,950 - root - INFO: \n",
      "2019-08-16 16:52:30,951 - root - INFO: Preprocessing Raster\n",
      "2019-08-16 16:52:30,951 - root - INFO: ------------------------------\n",
      "2019-08-16 16:52:30,953 - root - INFO: collecting raster\n",
      "2019-08-16 16:52:30,959 - root - INFO: CRS: PROJCS[\"Albers_Conical_Equal_Area\",GEOGCS[\"WGS 84\",DATUM[\"WGS_1984\",SPHEROID[\"WGS 84\",6378137,298.257223563,AUTHORITY[\"EPSG\",\"7030\"]],TOWGS84[0,0,0,-0,-0,-0,0],AUTHORITY[\"EPSG\",\"6326\"]],PRIMEM[\"Greenwich\",0,AUTHORITY[\"EPSG\",\"8901\"]],UNIT[\"degree\",0.0174532925199433,AUTHORITY[\"EPSG\",\"9122\"]],AUTHORITY[\"EPSG\",\"4326\"]],PROJECTION[\"Albers_Conic_Equal_Area\"],PARAMETER[\"standard_parallel_1\",29.5],PARAMETER[\"standard_parallel_2\",45.5],PARAMETER[\"latitude_of_center\",23],PARAMETER[\"longitude_of_center\",-96],PARAMETER[\"false_easting\",0],PARAMETER[\"false_northing\",0],UNIT[\"meters\",1]]\n"
     ]
    },
    {
     "name": "stdout",
     "output_type": "stream",
     "text": [
      "  filename: /Users/uec/research/water/data/meshing/data/land_cover/NLCD_2016_Land_Cover_L48/NLCD_2016_Land_Cover_L48.img\n"
     ]
    },
    {
     "name": "stderr",
     "output_type": "stream",
     "text": [
      "2019-08-16 16:52:33,480 - root - INFO: Found land cover dtypes: uint8\n",
      "2019-08-16 16:52:33,498 - root - INFO: Found land cover types: {41, 42, 43, 81, 52, 21, 22, 23}\n"
     ]
    }
   ],
   "source": [
    "# download the NLCD raster\n",
    "lc_profile, lc_raster = workflow.get_raster_on_shape(sources['land cover'], coweeta_shape_split.exterior(), crs)\n",
    "\n",
    "# resample the raster to the triangles\n",
    "lc = workflow.values_from_raster(m2.centroids(), crs, lc_raster, lc_profile)\n",
    "\n",
    "# what land cover types did we get?\n",
    "logging.info('Found land cover dtypes: {}'.format(lc.dtype))\n",
    "logging.info('Found land cover types: {}'.format(set(lc)))\n"
   ]
  },
  {
   "cell_type": "code",
   "execution_count": 14,
   "metadata": {},
   "outputs": [],
   "source": [
    "import collections\n",
    "import matplotlib.colors\n",
    "nlcd_color_map_values = collections.OrderedDict({\n",
    "    21:    (0.86666666667,  0.78823529412,  0.78823529412),\n",
    "    22:    (0.84705882353,  0.57647058824,  0.50980392157),\n",
    "    23:    (0.92941176471,  0.00000000000,  0.00000000000),\n",
    "    41:    (0.40784313726,  0.66666666667,  0.38823529412),\n",
    "    42:    (0.10980392157,  0.38823529412,  0.18823529412),\n",
    "    43:    (0.70980392157,  0.78823529412,  0.55686274510),\n",
    "    52:    (0.80000000000,  0.72941176471,  0.48627450980),\n",
    "    81:    (0.85882352941,  0.84705882353,  0.23921568628),\n",
    "})\n",
    "\n",
    "_nlcd_labels = collections.OrderedDict({\n",
    "    21: 'Developed, Open',\n",
    "    22: 'Developed, Light',\n",
    "    23: 'Developed, Med.',\n",
    "    41: 'Deciduous Forest',\n",
    "    42: 'Evergreen Forest',\n",
    "    43: 'Mixed Forest',\n",
    "    52: 'Shrub/Scrub',\n",
    "    81: 'Pasture/Hay',\n",
    "})\n",
    "    \n",
    "nlcd_cmap = matplotlib.colors.ListedColormap(list(nlcd_color_map_values.values()))\n",
    "\n",
    "_nlcd_indices = np.array(list(_nlcd_labels.keys()),'d')\n",
    "nlcd_norm = matplotlib.colors.BoundaryNorm(list(_nlcd_labels.keys())+[93,], len(_nlcd_labels))\n",
    "nlcd_ticks = list(_nlcd_labels.keys()) + [93,]\n",
    "nlcd_labels = list(_nlcd_labels.values()) + ['',]\n",
    "\n",
    "\n",
    "\n",
    "# plot the resulting surface mesh\n",
    "fig = plt.figure(figsize=(10,6))\n",
    "ax = workflow.plot.get_ax('3d', fig, window=[0.0,0.2,1,0.8])\n",
    "cax = fig.add_axes([0.23,0.18,0.58,0.03])\n",
    "\n",
    "mp = ax.plot_trisurf(mesh_points3[:,0], mesh_points3[:,1], mesh_points3[:,2], triangles=mesh_tris, \n",
    "                color=lc, cmap=nlcd_cmap, norm=nlcd_norm,\n",
    "                edgecolor=(0,0,0,.2), linewidth=0.5)\n",
    "\n",
    "\n",
    "\n",
    "#mp = workflow.plot.triangulation(mesh_points3, mesh_tris, crs, ax=ax, linewidth=0.5, color='elevation', edgecolor='gray')\n",
    "cb = fig.colorbar(mp, orientation='horizontal', cax=cax)\n",
    "\n",
    "cb.set_ticks(nlcd_ticks)\n",
    "cb.ax.set_xticklabels(nlcd_labels, rotation=45)\n",
    "\n",
    "#rivers_2 = [np.array(r.xy) for riv in rivers for r in riv]\n",
    "#rivers_e = [workflow.values_from_raster(r.transpose(), crs, dem, dem_profile) for r in rivers_2]\n",
    "#rivers_l3 = [np.array([i[0], i[1], j]).transpose() for i,j in zip(rivers_2, rivers_e)]\n",
    "#for r in rivers_l3:\n",
    "#    ax.plot(r[:,0]+1, r[:,1], r[:,2]+1, color='red', linewidth=3)\n",
    "\n",
    "#ax.set_aspect('equal', 'datalim')\n",
    "t = cb.ax.set_title('land cover type')\n",
    "ax.view_init(55,0)\n",
    "\n",
    "fig.savefig('land_cover_b.png', dpi=600)"
   ]
  },
  {
   "cell_type": "code",
   "execution_count": 15,
   "metadata": {},
   "outputs": [],
   "source": [
    "# plot the NLCD data\n",
    "fig = plt.figure(figsize=(16,16))\n",
    "ax = workflow.plot.get_ax(crs, fig)\n",
    "\n",
    "mp = workflow.plot.triangulation(mesh_points3, mesh_tris, crs, ax=ax, linewidth=0.5, color=lc, edgecolor='k',\n",
    "                                 cmap=workflow.colors.nlcd_cmap, norm=workflow.colors.nlcd_norm)\n",
    "cb = fig.colorbar(mp)\n",
    "cb.set_ticks(workflow.colors.nlcd_ticks)\n",
    "cb.set_ticklabels(workflow.colors.nlcd_labels)\n",
    "plt.show()"
   ]
  },
  {
   "cell_type": "markdown",
   "metadata": {},
   "source": [
    "## Subsurface properties\n",
    "\n",
    "Get soil structure from SSURGO"
   ]
  },
  {
   "cell_type": "code",
   "execution_count": 16,
   "metadata": {},
   "outputs": [
    {
     "name": "stderr",
     "output_type": "stream",
     "text": [
      "2019-08-16 16:52:44,019 - root - INFO: target bounds: (273971.0911428, 3878839.6361173, 279140.9150949, 3883953.7853134)\n",
      "2019-08-16 16:52:44,020 - root - INFO: \n",
      "2019-08-16 16:52:44,021 - root - INFO: Preprocessing Shapes\n",
      "2019-08-16 16:52:44,022 - root - INFO: ------------------------------\n",
      "2019-08-16 16:52:44,026 - root - INFO:   Using filename: /Users/uec/research/water/data/meshing/data/soil_survey/soil_survey_shape_-83.4790_35.0269_-83.4208_35.0743.gml\n",
      "2019-08-16 16:52:44,187 - root - INFO:   Found 460 shapes.\n",
      "2019-08-16 16:52:44,738 - root - INFO:   With bounds: (-83.491115, 35.016941, -83.398716, 35.108209)\n",
      "2019-08-16 16:52:44,739 - root - INFO:   and crs: {'init': 'epsg:4326'}\n",
      "2019-08-16 16:52:45,369 - root - INFO: shape union bounds: (272780.3245135138, 3877673.165081467, 281292.5015333445, 3887703.7251368817)\n",
      "2019-08-16 16:52:45,370 - root - INFO: Coloring shapes onto raster:\n",
      "2019-08-16 16:52:45,370 - root - INFO:   target_bounds = (273971.0911428, 3878839.6361173, 279140.9150949, 3883953.7853134)\n",
      "2019-08-16 16:52:45,371 - root - INFO:   img_bounds = [273966.0, 3878839.0, 279146.0, 3883959.0]\n",
      "2019-08-16 16:52:45,371 - root - INFO:   pixel_size = 10\n",
      "2019-08-16 16:52:45,372 - root - INFO:   width = 518, height = 512\n",
      "2019-08-16 16:52:45,372 - root - INFO:   and 43 independent colors of dtype int32\n"
     ]
    }
   ],
   "source": [
    "# download the NRCS soils data as shapes and convert it to raster\n",
    "import workflow.sources.manager_nrcs\n",
    "import matplotlib.cm\n",
    "\n",
    "# -- download the shapes\n",
    "target_bounds = coweeta_shape_split.exterior().bounds\n",
    "logging.info('target bounds: {}'.format(target_bounds))\n",
    "soil_survey, _, soil_ids, _ = workflow.get_shapes_in_bounds(sources['soil type'], target_bounds, crs)\n",
    "logging.info('shape union bounds: {}'.format(shapely.ops.cascaded_union(soil_survey).bounds))\n",
    "soil_ids = np.array(soil_ids, np.int32)\n",
    "\n",
    "# -- color a raster by the polygons (this makes identifying a triangle's value much more efficient)\n",
    "soil_color_raster, soil_color_profile, img_bounds = workflow.color_raster_from_shapes(target_bounds, 10,\n",
    "                                                                soil_survey, soil_ids, crs)\n",
    "\n",
    "# resample the raster to the triangles\n",
    "soil_color = workflow.values_from_raster(m2.centroids(), crs, soil_color_raster, soil_color_profile)"
   ]
  },
  {
   "cell_type": "code",
   "execution_count": 17,
   "metadata": {},
   "outputs": [],
   "source": [
    "# create a cmap for SSURGO\n",
    "import collections\n",
    "import matplotlib.colors\n",
    "ssurgo_ids = list(sorted(set(soil_color)))\n",
    "browns = matplotlib.cm.get_cmap('copper')\n",
    "ssurgo_colors = [browns( (i+1)/len(ssurgo_ids) ) for i in range(len(ssurgo_ids))]\n",
    "ssurgo_cmap = matplotlib.colors.ListedColormap(ssurgo_colors)\n",
    "\n",
    "ssurgo_ticks = ssurgo_ids + [ssurgo_ids[-1]+1,]\n",
    "ssurgo_norm = matplotlib.colors.BoundaryNorm(ssurgo_ticks, len(ssurgo_ids))\n",
    "ssurgo_labels = ssurgo_ids + ['',]\n",
    "\n",
    "# plot the soil on surface mesh\n",
    "fig = plt.figure(figsize=(10,6))\n",
    "ax = workflow.plot.get_ax('3d', fig, window=[0.0,0.2,1,0.8])\n",
    "cax = fig.add_axes([0.23,0.18,0.58,0.03])\n",
    "\n",
    "mp = ax.plot_trisurf(mesh_points3[:,0], mesh_points3[:,1], mesh_points3[:,2], triangles=mesh_tris, \n",
    "                color=soil_color, cmap=ssurgo_cmap, norm=ssurgo_norm,\n",
    "                edgecolor=(0,0,0,.2), linewidth=0.5)\n",
    "cb = fig.colorbar(mp, orientation='horizontal', cax=cax)\n",
    "cb.set_ticks(list())\n",
    "#cb.set_ticks(ssurgo_ticks)\n",
    "#cb.ax.set_xticklabels(ssurgo_labels, rotation=45)\n",
    "cb.ax.set_title('soil type')\n",
    "ax.view_init(55,0)\n",
    "\n",
    "fig.savefig('soil_type_b.png', dpi=600)"
   ]
  },
  {
   "cell_type": "code",
   "execution_count": 18,
   "metadata": {},
   "outputs": [],
   "source": [
    "# plot the soil data\n",
    "fig = plt.figure(figsize=(16,16))\n",
    "ax = workflow.plot.get_ax(crs, fig)\n",
    "\n",
    "mp = workflow.plot.triangulation(mesh_points3, mesh_tris, crs, ax=ax, linewidth=0.5, \n",
    "                                 color=soil_color, cmap='gist_rainbow')\n",
    "#cb = fig.colorbar(mp)\n",
    "#cb.set_ticks(workflow.colors.nlcd_ticks)\n",
    "#cb.set_ticklabels(workflow.colors.nlcd_labels)\n",
    "plt.show()"
   ]
  },
  {
   "cell_type": "markdown",
   "metadata": {},
   "source": [
    "## Mesh extrusion\n",
    "\n",
    "Given the surface mesh and material IDs on both the surface and subsurface, we can extrude the surface mesh in the vertical to make a 3D mesh."
   ]
  },
  {
   "cell_type": "code",
   "execution_count": 19,
   "metadata": {},
   "outputs": [
    {
     "name": "stderr",
     "output_type": "stream",
     "text": [
      "2019-08-16 16:53:01,091 - root - INFO: Got telescoping factor: 1.515910144611108\n",
      "2019-08-16 16:53:01,092 - root - INFO: Cell summary:\n",
      "2019-08-16 16:53:01,093 - root - INFO: ------------------------------------------------------------\n",
      "2019-08-16 16:53:01,094 - root - INFO: l_id\t| c_id\t|mat_id\t| dz\t\t| z_top\n",
      "2019-08-16 16:53:01,095 - root - INFO: ------------------------------------------------------------\n",
      "2019-08-16 16:53:01,096 - root - INFO:  00 \t| 00 \t| 545853 \t|   0.050000 \t|   0.000000\n",
      "2019-08-16 16:53:01,097 - root - INFO:  01 \t| 01 \t| 545853 \t|   0.075796 \t|   0.050000\n",
      "2019-08-16 16:53:01,098 - root - INFO:  02 \t| 02 \t| 545853 \t|   0.114899 \t|   0.125796\n",
      "2019-08-16 16:53:01,099 - root - INFO:  03 \t| 03 \t| 545853 \t|   0.174177 \t|   0.240695\n",
      "2019-08-16 16:53:01,099 - root - INFO:  04 \t| 04 \t| 545853 \t|   0.264036 \t|   0.414872\n",
      "2019-08-16 16:53:01,100 - root - INFO:  05 \t| 05 \t| 545853 \t|   0.400255 \t|   0.678908\n",
      "2019-08-16 16:53:01,101 - root - INFO:  06 \t| 06 \t| 545853 \t|   0.606751 \t|   1.079163\n",
      "2019-08-16 16:53:01,102 - root - INFO:  07 \t| 07 \t| 545853 \t|   0.919781 \t|   1.685915\n",
      "2019-08-16 16:53:01,103 - root - INFO:  08 \t| 08 \t| 545853 \t|   1.394305 \t|   2.605695\n",
      "2019-08-16 16:53:01,104 - root - INFO:  09 \t| 09 \t| 545853 \t|   2.000000 \t|   4.000000\n",
      "2019-08-16 16:53:01,105 - root - INFO:  10 \t| 10 \t|  999 \t|   2.000000 \t|   6.000000\n",
      "2019-08-16 16:53:01,106 - root - INFO:  10 \t| 11 \t|  999 \t|   2.000000 \t|   8.000000\n",
      "2019-08-16 16:53:01,107 - root - INFO:  10 \t| 12 \t|  999 \t|   2.000000 \t|  10.000000\n",
      "2019-08-16 16:53:01,108 - root - INFO:  10 \t| 13 \t|  999 \t|   2.000000 \t|  12.000000\n",
      "2019-08-16 16:53:01,109 - root - INFO:  10 \t| 14 \t|  999 \t|   2.000000 \t|  14.000000\n",
      "2019-08-16 16:53:01,110 - root - INFO:  10 \t| 15 \t|  999 \t|   2.000000 \t|  16.000000\n",
      "2019-08-16 16:53:01,110 - root - INFO:  10 \t| 16 \t|  999 \t|   2.000000 \t|  18.000000\n",
      "2019-08-16 16:53:01,111 - root - INFO:  10 \t| 17 \t|  999 \t|   2.000000 \t|  20.000000\n",
      "2019-08-16 16:53:01,112 - root - INFO:  10 \t| 18 \t|  999 \t|   2.000000 \t|  22.000000\n",
      "2019-08-16 16:53:01,113 - root - INFO:  10 \t| 19 \t|  999 \t|   2.000000 \t|  24.000000\n",
      "2019-08-16 16:53:01,114 - root - INFO:  10 \t| 20 \t|  999 \t|   2.000000 \t|  26.000000\n",
      "2019-08-16 16:53:01,115 - root - INFO:  10 \t| 21 \t|  999 \t|   2.000000 \t|  28.000000\n",
      "2019-08-16 16:53:01,116 - root - INFO:  10 \t| 22 \t|  999 \t|   2.000000 \t|  30.000000\n",
      "2019-08-16 16:53:01,117 - root - INFO:  10 \t| 23 \t|  999 \t|   2.000000 \t|  32.000000\n",
      "2019-08-16 16:53:01,118 - root - INFO:  10 \t| 24 \t|  999 \t|   2.000000 \t|  34.000000\n",
      "2019-08-16 16:53:01,119 - root - INFO:  10 \t| 25 \t|  999 \t|   2.000000 \t|  36.000000\n",
      "2019-08-16 16:53:01,120 - root - INFO:  10 \t| 26 \t|  999 \t|   2.000000 \t|  38.000000\n"
     ]
    }
   ],
   "source": [
    "# layer extrusion\n",
    "# -- data structures needed for extrusion\n",
    "layer_types = []\n",
    "layer_data = []\n",
    "layer_ncells = []\n",
    "layer_mat_ids = []\n",
    "z = 0.0\n",
    "\n",
    "# -- soil layer --\n",
    "#  top 6 m\n",
    "#  5 cm initial top cell\n",
    "#  10 cells\n",
    "#  expanding dz, growing with depth\n",
    "ncells = 9\n",
    "dz = 0.05\n",
    "layer_dz = 4\n",
    "\n",
    "def telescope_factor(ncells, dz, layer_dz):\n",
    "    \"\"\"Calculates a telescoping factor\"\"\"\n",
    "    if ncells * dz > layer_dz:\n",
    "        raise ValueError((\"Cannot telescope {} cells of thickness at least {} \"+\n",
    "                          \"and reach a layer of thickness {}\").format(ncells, dz, layer_dz))\n",
    "\n",
    "    import scipy.optimize\n",
    "    def seq(r):\n",
    "        calc_layer_dz = dz * (1 - r**ncells)/(1-r)\n",
    "        #print('tried: {} got: {}'.format(r, calc_layer_dz))\n",
    "        return layer_dz - calc_layer_dz\n",
    "    res = scipy.optimize.root_scalar(seq, x0=1.0001, x1=2)\n",
    "    return res.root\n",
    "\n",
    "tele = telescope_factor(ncells, dz, layer_dz)\n",
    "logging.info(\"Got telescoping factor: {}\".format(tele))\n",
    "for i in range(ncells):\n",
    "    layer_types.append('constant')\n",
    "    layer_data.append(dz)\n",
    "    layer_ncells.append(1)\n",
    "    layer_mat_ids.append(soil_color)\n",
    "    z += dz\n",
    "    dz *= tele\n",
    "    \n",
    "# one more 2m layer makes 6m\n",
    "dz = 2.0\n",
    "layer_types.append('constant')\n",
    "layer_data.append(dz)\n",
    "layer_ncells.append(1)\n",
    "layer_mat_ids.append(soil_color)\n",
    "z += dz\n",
    "\n",
    "# -- geologic layer --\n",
    "# keep going for 2m cells until we hit the bottom of\n",
    "# the domain\n",
    "layer_types.append(\"constant\")\n",
    "layer_data.append(40 - z) # depth of bottom of domain is 40 m\n",
    "layer_ncells.append(int(round(layer_data[-1] / dz)))\n",
    "layer_mat_ids.append(999*np.ones_like(soil_color))\n",
    "\n",
    "# print the summary\n",
    "workflow.extrude.Mesh3D.summarize_extrusion(layer_types, layer_data, layer_ncells, layer_mat_ids)"
   ]
  },
  {
   "cell_type": "code",
   "execution_count": 20,
   "metadata": {},
   "outputs": [],
   "source": [
    "# extrude\n",
    "m3 = workflow.extrude.Mesh3D.extruded_Mesh2D(m2, layer_types, layer_data, layer_ncells, layer_mat_ids)"
   ]
  },
  {
   "cell_type": "code",
   "execution_count": 21,
   "metadata": {},
   "outputs": [
    {
     "name": "stdout",
     "output_type": "stream",
     "text": [
      "{41, 42, 43, 81, 52, 21, 22, 23}\n"
     ]
    }
   ],
   "source": [
    "# add back on land cover side sets\n",
    "surf_ss = m3.side_sets[1]\n",
    "\n",
    "unique_lc = set(lc)\n",
    "print(unique_lc)\n",
    "for lc_id in unique_lc:\n",
    "    where = np.where(lc == lc_id)[0]\n",
    "    ss = workflow.extrude.SideSet(workflow.colors._nlcd_labels[lc_id], int(lc_id), \n",
    "                                  [surf_ss.elem_list[w] for w in where],\n",
    "                                  [surf_ss.side_list[w] for w in where])        \n",
    "    m3.side_sets.append(ss)"
   ]
  },
  {
   "cell_type": "code",
   "execution_count": 22,
   "metadata": {},
   "outputs": [
    {
     "name": "stdout",
     "output_type": "stream",
     "text": [
      "\n",
      "You are using exodus.py v 1.13 (seacas-beta), a python wrapper of some of the exodus library.\n",
      "\n",
      "Copyright (c) 2013, 2014, 2015, 2016, 2017, 2018, 2019 National Technology &\n",
      "Engineering Solutions of Sandia, LLC (NTESS).  Under the terms of\n",
      "Contract DE-NA0003525 with NTESS, the U.S. Government retains certain\n",
      "rights in this software.\n",
      "\n",
      "Opening exodus file: coweeta_basin3.exo\n",
      "Closing exodus file: coweeta_basin3.exo\n"
     ]
    }
   ],
   "source": [
    "# save to disk\n",
    "m3.write_exodus('coweeta_basin3.exo')"
   ]
  },
  {
   "cell_type": "code",
   "execution_count": 23,
   "metadata": {},
   "outputs": [
    {
     "data": {
      "text/plain": [
       "4275909"
      ]
     },
     "execution_count": 23,
     "metadata": {},
     "output_type": "execute_result"
    }
   ],
   "source": [
    "m3.num_cells()\n"
   ]
  },
  {
   "cell_type": "code",
   "execution_count": 24,
   "metadata": {},
   "outputs": [],
   "source": [
    "import sys,os\n",
    "sys.path.append('/Users/uec/codes/ats/ats_python')"
   ]
  },
  {
   "cell_type": "code",
   "execution_count": 25,
   "metadata": {},
   "outputs": [
    {
     "name": "stdout",
     "output_type": "stream",
     "text": [
      "AMANZI_SRC_DIR not found in env: be sure to call rethink.set_amanzi_source()\n",
      "ATS_SRC_DIR not found in env: be sure to call rethink.set_ats_source()\n"
     ]
    }
   ],
   "source": [
    "import rethink\n",
    "rethink.set_amanzi_source('/Users/uec/codes/ats/amanzi/repos/dev')\n",
    "rethink.set_ats_source('/Users/uec/codes/ats/ats/repos/dev')"
   ]
  },
  {
   "cell_type": "code",
   "execution_count": 26,
   "metadata": {},
   "outputs": [
    {
     "data": {
      "text/plain": [
       "<module 'rethink' from '/Users/uec/codes/ats/ats_python/rethink/__init__.py'>"
      ]
     },
     "execution_count": 26,
     "metadata": {},
     "output_type": "execute_result"
    }
   ],
   "source": [
    "rethink"
   ]
  }
 ],
 "metadata": {
  "kernelspec": {
   "display_name": "Python [conda env:ats_meshing_20190719]",
   "language": "python",
   "name": "conda-env-ats_meshing_20190719-py"
  },
  "language_info": {
   "codemirror_mode": {
    "name": "ipython",
    "version": 3
   },
   "file_extension": ".py",
   "mimetype": "text/x-python",
   "name": "python",
   "nbconvert_exporter": "python",
   "pygments_lexer": "ipython3",
   "version": "3.7.3"
  }
 },
 "nbformat": 4,
 "nbformat_minor": 2
}
