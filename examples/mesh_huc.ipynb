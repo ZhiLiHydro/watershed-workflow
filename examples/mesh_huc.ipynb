{
 "cells": [
  {
   "cell_type": "code",
   "execution_count": 1,
   "metadata": {
    "autoscroll": false,
    "ein.hycell": false,
    "ein.tags": "worksheet-0",
    "slideshow": {
     "slide_type": "-"
    }
   },
   "outputs": [],
   "source": [
    "%matplotlib inline"
   ]
  },
  {
   "cell_type": "code",
   "execution_count": 2,
   "metadata": {
    "autoscroll": false,
    "ein.hycell": false,
    "ein.tags": "worksheet-0",
    "slideshow": {
     "slide_type": "-"
    }
   },
   "outputs": [
    {
     "ename": "ModuleNotFoundError",
     "evalue": "No module named 'workflow.rowcol'",
     "output_type": "error",
     "traceback": [
      "\u001b[0;31m---------------------------------------------------------------------------\u001b[0m",
      "\u001b[0;31mModuleNotFoundError\u001b[0m                       Traceback (most recent call last)",
      "\u001b[0;32m<ipython-input-2-e64788aaac9c>\u001b[0m in \u001b[0;36m<module>\u001b[0;34m\u001b[0m\n\u001b[1;32m     10\u001b[0m \u001b[0;32mimport\u001b[0m \u001b[0mworkflow\u001b[0m\u001b[0;34m.\u001b[0m\u001b[0mconf\u001b[0m\u001b[0;34m\u001b[0m\u001b[0;34m\u001b[0m\u001b[0m\n\u001b[1;32m     11\u001b[0m \u001b[0;32mimport\u001b[0m \u001b[0mworkflow\u001b[0m\u001b[0;34m.\u001b[0m\u001b[0mextrude\u001b[0m\u001b[0;34m\u001b[0m\u001b[0;34m\u001b[0m\u001b[0m\n\u001b[0;32m---> 12\u001b[0;31m \u001b[0;32mimport\u001b[0m \u001b[0mworkflow\u001b[0m\u001b[0;34m.\u001b[0m\u001b[0mrowcol\u001b[0m\u001b[0;34m\u001b[0m\u001b[0;34m\u001b[0m\u001b[0m\n\u001b[0m\u001b[1;32m     13\u001b[0m \u001b[0;34m\u001b[0m\u001b[0m\n\u001b[1;32m     14\u001b[0m \u001b[0;34m\u001b[0m\u001b[0m\n",
      "\u001b[0;31mModuleNotFoundError\u001b[0m: No module named 'workflow.rowcol'"
     ]
    }
   ],
   "source": [
    "import os,sys\n",
    "import numpy as np\n",
    "from matplotlib import pyplot as plt\n",
    "import shapely\n",
    "import logging\n",
    "\n",
    "import workflow\n",
    "import workflow.source_list\n",
    "import workflow.ui\n",
    "import workflow.conf\n",
    "import workflow.extrude\n",
    "import workflow.rowcol\n",
    "\n",
    "\n",
    "workflow.ui.setup_logging(1,None)\n"
   ]
  },
  {
   "cell_type": "code",
   "execution_count": null,
   "metadata": {},
   "outputs": [],
   "source": [
    "HUC = '060102020103'\n",
    "crs = workflow.conf.default_crs()\n",
    "\n",
    "logging.info(\"\")\n",
    "logging.info(\"Meshing HUC: {}\".format(HUC))\n",
    "logging.info(\"=\"*30)\n",
    "logging.info('Target projection: \"{}\"'.format(crs['init']))\n",
    "    "
   ]
  },
  {
   "cell_type": "code",
   "execution_count": null,
   "metadata": {
    "autoscroll": false,
    "ein.hycell": false,
    "ein.tags": "worksheet-0",
    "slideshow": {
     "slide_type": "-"
    }
   },
   "outputs": [],
   "source": [
    "sources = workflow.source_list.get_default_sources()\n",
    "workflow.source_list.log_sources(sources)"
   ]
  },
  {
   "cell_type": "code",
   "execution_count": null,
   "metadata": {
    "autoscroll": false,
    "ein.hycell": false,
    "ein.tags": "worksheet-0",
    "slideshow": {
     "slide_type": "-"
    }
   },
   "outputs": [],
   "source": [
    "# collect datasets\n",
    "huc, centroid = workflow.get_split_form_hucs(sources['HUC'], HUC, crs=crs, centering=False)\n",
    "rivers, centroid = workflow.get_rivers_by_bounds(sources['hydrography'], \n",
    "                                                 huc.exterior().bounds, crs, HUC, centering=centroid)\n",
    "\n",
    "args = workflow.ui.default_simplify_options()\n",
    "args.simplify=50\n",
    "args.prune_reach_size=4\n",
    "rivers = workflow.simplify_and_prune(huc, rivers, args)\n",
    "    "
   ]
  },
  {
   "cell_type": "code",
   "execution_count": null,
   "metadata": {
    "autoscroll": false,
    "ein.hycell": false,
    "ein.tags": "worksheet-0",
    "slideshow": {
     "slide_type": "-"
    }
   },
   "outputs": [],
   "source": [
    "args = workflow.ui.default_triangulate_options()\n",
    "args.delaunay = False\n",
    "\n",
    "# triangulation options:\n",
    "# Refine triangles if their area (in m^2) is greater than A(d), where d is the distance from the triangle\n",
    "# centroid to the nearest stream.\n",
    "# A(d) is a piecewise linear function -- A = A0 if d <= d0, A = A1 if d >= d1, and linearly interpolates\n",
    "# between the two endpoints.\n",
    "d0 = 500; d1 = 2000\n",
    "A0 = 10000; A1 = 50000\n",
    "args.refine_distance = [d0,A0,d1,A1]\n",
    "\n",
    "# make 2D mesh\n",
    "mesh_points2, mesh_tris = workflow.triangulate(huc, rivers, args, diagnostics=True)\n",
    "\n",
    "# get a raster for the elevation map\n",
    "dem_profile, dem = workflow.get_raster_on_shape(sources['DEM'], huc.exterior(), crs)\n",
    "\n",
    "# elevate the triangle nodes to the dem\n",
    "mesh_points3 = workflow.elevate(mesh_points2, crs, dem, dem_profile)"
   ]
  },
  {
   "cell_type": "code",
   "execution_count": null,
   "metadata": {
    "autoscroll": false,
    "ein.hycell": false,
    "ein.tags": "worksheet-0",
    "slideshow": {
     "slide_type": "-"
    }
   },
   "outputs": [],
   "source": [
    "# plot the resulting surface mesh\n",
    "fig = plt.figure(figsize=(16,16))\n",
    "ax = fig.add_subplot(111)\n",
    "mp = workflow.plot.triangulation(mesh_points3, mesh_tris, linewidth=0.5, color='elevation')\n",
    "fig.colorbar(mp, orientation=\"horizontal\", pad=0.1)\n",
    "workflow.plot.hucs(huc, 'k', linewidth=0.7)\n",
    "workflow.plot.rivers(rivers, color='blue', linewidth=0.5)\n",
    "ax.set_aspect('equal', 'datalim')\n",
    "t = ax.set_title('2D mesh and digital elevation map')"
   ]
  },
  {
   "cell_type": "code",
   "execution_count": null,
   "metadata": {
    "autoscroll": false,
    "ein.hycell": false,
    "ein.tags": "worksheet-0",
    "slideshow": {
     "slide_type": "-"
    }
   },
   "outputs": [],
   "source": [
    "# convert the triangulation into a 2D mesh for extrusion\n",
    "m2 = workflow.extrude.Mesh2D(mesh_points3, list(mesh_tris))"
   ]
  },
  {
   "cell_type": "code",
   "execution_count": null,
   "metadata": {},
   "outputs": [],
   "source": [
    "# download the NRCS soils data as shapes and convert it to raster\n",
    "import workflow.sources.manager_nrcs\n",
    "import matplotlib.cm\n",
    "\n",
    "# -- download the shapes\n",
    "target_bounds = huc.exterior().bounds\n",
    "soil_survey, soil_ids, centroid = workflow.get_shapes_in_bounds(sources['soil type'], huc.exterior().bounds, crs)\n",
    "soil_ids = np.array(soil_ids, np.int32)\n",
    "\n",
    "target_filename = os.path.join(workflow.conf.rcParams['data dir'], 'soil_survey', \n",
    "                       'soil_survey_W{0:.0g}_N{3:.0g}.tif')\n",
    "\n",
    "# -- create a map from sane IDs to map unit ids from NRCS\n",
    "#soil_indices = dict((1001+i, v) for (i,v) in enumerate(soil_properties))\n",
    "#soil_ids_new = range(1001,1001+len(soil_ids))\n",
    "\n",
    "# -- color a raster by the polygons (this makes identifying a triangle's value much more efficient)\n",
    "soil_color, soil_profile, img_bounds = workflow.color_raster_from_shapes(target_bounds, 10, target_filename, \n",
    "                                                                soil_survey, soil_ids, crs)\n",
    "\n",
    "geologic_type = 101 * np.ones((len(mesh_tris),),'i')"
   ]
  },
  {
   "cell_type": "code",
   "execution_count": null,
   "metadata": {},
   "outputs": [],
   "source": [
    "# plot the soil survey\n",
    "extent = [img_bounds[0], img_bounds[2], img_bounds[1], img_bounds[3]]\n",
    "\n",
    "soil_color = np.where(soil_color == -1, np.nan, soil_color)\n",
    "current_cmap = matplotlib.cm.get_cmap()\n",
    "current_cmap.set_bad(color='white')\n",
    "\n",
    "vmax = max(soil_ids)\n",
    "vmin = min(soil_ids)\n",
    "plt.imshow(soil_color, vmax=vmax, vmin=vmin, extent=extent)\n",
    "plt.colorbar()\n",
    "\n",
    "workflow.plot.hucs(huc, color='r')\n",
    "\n",
    "plt.show()"
   ]
  },
  {
   "cell_type": "code",
   "execution_count": null,
   "metadata": {},
   "outputs": [],
   "source": [
    "# pick the soil type for triangle centroids\n",
    "tri_centroids = m2.centroids()\n",
    "tri_soil_ids = soil_color[workflow.rowcol.rowcol(soil_profile['transform'], tri_centroids[:,0], tri_centroids[:,1])]\n",
    "\n",
    "soil_labels = dict()\n",
    "soil_label_counter = 1001\n",
    "\n",
    "fig = plt.figure(figsize=(16,16))\n",
    "ax = fig.add_subplot(111)\n",
    "mp = workflow.plot.triangulation(mesh_points3, mesh_tris, linewidth=0.5, color=tri_soil_ids)\n",
    "plt.show()"
   ]
  },
  {
   "cell_type": "code",
   "execution_count": null,
   "metadata": {},
   "outputs": [],
   "source": [
    "# layer extrusion\n",
    "# -- data structures needed for extrusion\n",
    "layer_types = []\n",
    "layer_data = []\n",
    "layer_ncells = []\n",
    "layer_mat_ids = []\n",
    "z = 0.0\n",
    "\n",
    "# -- soil layer --\n",
    "#  top 6 m\n",
    "#  5 cm initial top cell\n",
    "#  10 cells\n",
    "#  expanding dz, growing with depth\n",
    "ncells = 9\n",
    "dz = 0.05\n",
    "layer_dz = 4\n",
    "\n",
    "def telescope_factor(ncells, dz, layer_dz):\n",
    "    \"\"\"Calculates a telescoping factor\"\"\"\n",
    "    if ncells * dz > layer_dz:\n",
    "        raise ValueError((\"Cannot telescope {} cells of thickness at least {} \"+\n",
    "                          \"and reach a layer of thickness {}\").format(ncells, dz, layer_dz))\n",
    "\n",
    "    import scipy.optimize\n",
    "    def seq(r):\n",
    "        calc_layer_dz = dz * (1 - r**ncells)/(1-r)\n",
    "        #print('tried: {} got: {}'.format(r, calc_layer_dz))\n",
    "        return layer_dz - calc_layer_dz\n",
    "    res = scipy.optimize.root_scalar(seq, x0=1.0001, x1=2)\n",
    "    return res.root\n",
    "\n",
    "tele = telescope_factor(ncells, dz, layer_dz)\n",
    "logging.info(\"Got telescoping factor: {}\".format(tele))\n",
    "for i in range(ncells):\n",
    "    layer_types.append('constant')\n",
    "    layer_data.append(dz)\n",
    "    layer_ncells.append(1)\n",
    "    layer_mat_ids.append(tri_soil_ids)\n",
    "    z += dz\n",
    "    dz *= tele\n",
    "    \n",
    "# one more 2m layer makes 6m\n",
    "dz = 2.0\n",
    "layer_types.append('constant')\n",
    "layer_data.append(dz)\n",
    "layer_ncells.append(1)\n",
    "layer_mat_ids.append(tri_soil_ids)\n",
    "z += dz\n",
    "\n",
    "# -- geologic layer --\n",
    "# keep going for 2m cells until we hit the bottom of\n",
    "# the domain\n",
    "layer_types.append(\"constant\")\n",
    "layer_data.append(40 - z) # depth of bottom of domain is 40 m\n",
    "layer_ncells.append(int(round(layer_data[-1] / dz)))\n",
    "layer_mat_ids.append(geologic_type)\n",
    "\n",
    "# print the summary\n",
    "workflow.extrude.Mesh3D.summarize_extrusion(layer_types, layer_data, layer_ncells, layer_mat_ids)"
   ]
  },
  {
   "cell_type": "code",
   "execution_count": null,
   "metadata": {},
   "outputs": [],
   "source": [
    "# extrude\n",
    "m3 = workflow.extrude.Mesh3D.extruded_Mesh2D(m2, layer_types, layer_data, layer_ncells, layer_mat_ids)"
   ]
  },
  {
   "cell_type": "code",
   "execution_count": null,
   "metadata": {},
   "outputs": [],
   "source": [
    "# save to disk\n",
    "m3.write_exodus('mesh_{}.exo'.format(HUC))"
   ]
  },
  {
   "cell_type": "code",
   "execution_count": null,
   "metadata": {},
   "outputs": [],
   "source": [
    "# layer extrusion\n",
    "# -- data structures needed for extrusion\n",
    "layer_types = []\n",
    "layer_data = []\n",
    "layer_ncells = []\n",
    "layer_mat_ids = []\n",
    "z = 0.0\n",
    "\n",
    "# -- soil layer --\n",
    "#  top 6 m\n",
    "#  5 cm initial top cell\n",
    "#  10 cells\n",
    "#  expanding dz, growing with depth\n",
    "ncells = 9\n",
    "dz = 0.05\n",
    "layer_dz = 4\n",
    "\n",
    "def telescope_factor(ncells, dz, layer_dz):\n",
    "    \"\"\"Calculates a telescoping factor\"\"\"\n",
    "    if ncells * dz > layer_dz:\n",
    "        raise ValueError((\"Cannot telescope {} cells of thickness at least {} \"+\n",
    "                          \"and reach a layer of thickness {}\").format(ncells, dz, layer_dz))\n",
    "\n",
    "    import scipy.optimize\n",
    "    def seq(r):\n",
    "        calc_layer_dz = dz * (1 - r**ncells)/(1-r)\n",
    "        #print('tried: {} got: {}'.format(r, calc_layer_dz))\n",
    "        return layer_dz - calc_layer_dz\n",
    "    res = scipy.optimize.root_scalar(seq, x0=1.0001, x1=2)\n",
    "    return res.root\n",
    "\n",
    "tele = telescope_factor(ncells, dz, layer_dz)\n",
    "logging.info(\"Got telescoping factor: {}\".format(tele))\n",
    "for i in range(ncells):\n",
    "    layer_types.append('constant')\n",
    "    layer_data.append(dz)\n",
    "    layer_ncells.append(1)\n",
    "    layer_mat_ids.append(tri_soil_ids)\n",
    "    z += dz\n",
    "    dz *= tele\n",
    "    \n",
    "# one more 2m layer makes 6m\n",
    "dz = 2.0\n",
    "layer_types.append('constant')\n",
    "layer_data.append(dz)\n",
    "layer_ncells.append(1)\n",
    "layer_mat_ids.append(tri_soil_ids)\n",
    "z += dz\n",
    "\n",
    "# -- geologic layer --\n",
    "# keep going for 2m cells until we hit the bottom of\n",
    "# the domain\n",
    "layer_types.append(\"constant\")\n",
    "layer_data.append(40 - z) # depth of bottom of domain is 40 m\n",
    "layer_ncells.append(int(round(layer_data[-1] / dz)))\n",
    "layer_mat_ids.append(geologic_type)\n",
    "\n",
    "# print the summary\n",
    "workflow.extrude.Mesh3D.summarize_extrusion(layer_types, layer_data, layer_ncells, layer_mat_ids)"
   ]
  }
 ],
 "metadata": {
  "kernelspec": {
   "display_name": "Python [conda env:ats_meshing_20190719]",
   "language": "python",
   "name": "conda-env-ats_meshing_20190719-py"
  },
  "language_info": {
   "codemirror_mode": {
    "name": "ipython",
    "version": 3
   },
   "file_extension": ".py",
   "mimetype": "text/x-python",
   "name": "python",
   "nbconvert_exporter": "python",
   "pygments_lexer": "ipython3",
   "version": "3.7.3"
  },
  "name": "workflow_example.ipynb"
 },
 "nbformat": 4,
 "nbformat_minor": 2
}
