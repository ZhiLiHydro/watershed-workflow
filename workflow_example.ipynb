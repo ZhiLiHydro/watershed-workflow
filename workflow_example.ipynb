{
 "cells": [
  {
   "cell_type": "code",
   "execution_count": 1,
   "metadata": {
    "autoscroll": false,
    "collapsed": false,
    "ein.hycell": false,
    "ein.tags": "worksheet-0",
    "slideshow": {
     "slide_type": "-"
    }
   },
   "outputs": [
    {
     "name": "stdout",
     "output_type": "stream",
     "text": [
      "Using matplotlib backend: MacOSX\n"
     ]
    }
   ],
   "source": [
    "%matplotlib"
   ]
  },
  {
   "cell_type": "code",
   "execution_count": 2,
   "metadata": {
    "autoscroll": false,
    "collapsed": false,
    "ein.hycell": false,
    "ein.tags": "worksheet-0",
    "slideshow": {
     "slide_type": "-"
    }
   },
   "outputs": [],
   "source": [
    "import os,sys\n",
    "import numpy as np\n",
    "from matplotlib import pyplot as plt\n",
    "import shapely\n",
    "\n",
    "import workflow.hilev\n",
    "import workflow.ui\n"
   ]
  },
  {
   "cell_type": "code",
   "execution_count": 3,
   "metadata": {
    "autoscroll": false,
    "collapsed": false,
    "ein.hycell": false,
    "ein.tags": "worksheet-0",
    "slideshow": {
     "slide_type": "-"
    }
   },
   "outputs": [],
   "source": [
    "workflow.ui.setup_logging(1,None)"
   ]
  },
  {
   "cell_type": "code",
   "execution_count": 9,
   "metadata": {
    "autoscroll": false,
    "collapsed": false,
    "ein.hycell": false,
    "ein.tags": "worksheet-0",
    "slideshow": {
     "slide_type": "-"
    }
   },
   "outputs": [],
   "source": [
    "class Args:\n",
    "    pass\n",
    "\n",
    "args = Args()\n",
    "args.center = True\n",
    "args.HUC = '0601020802'\n",
    "args.simplify = 20\n",
    "args.refine_distance = [0,10000,1000,50000]\n",
    "#args.refine_distance = None\n",
    "args.refine_max_area = None\n",
    "args.prune_reach_size = 10\n",
    "args.verbosity = 1\n"
   ]
  },
  {
   "cell_type": "code",
   "execution_count": 10,
   "metadata": {
    "autoscroll": false,
    "collapsed": false,
    "ein.hycell": false,
    "ein.tags": "worksheet-0",
    "slideshow": {
     "slide_type": "-"
    }
   },
   "outputs": [
    {
     "name": "stderr",
     "output_type": "stream",
     "text": [
      "2018-07-20 12:40:37,652 - root - INFO: \n"
     ]
    },
    {
     "name": "stderr",
     "output_type": "stream",
     "text": [
      "2018-07-20 12:40:37,653 - root - INFO: Preprocessing HUCs\n"
     ]
    },
    {
     "name": "stderr",
     "output_type": "stream",
     "text": [
      "2018-07-20 12:40:37,655 - root - INFO: =====================\n"
     ]
    },
    {
     "name": "stderr",
     "output_type": "stream",
     "text": [
      "2018-07-20 12:40:37,655 - root - INFO: collecting HUC 06\n"
     ]
    },
    {
     "name": "stderr",
     "output_type": "stream",
     "text": [
      "2018-07-20 12:40:37,656 - root - INFO: loading all 12s\n"
     ]
    },
    {
     "name": "stderr",
     "output_type": "stream",
     "text": [
      "2018-07-20 12:40:37,892 - root - INFO: change coordinates to m\n"
     ]
    },
    {
     "name": "stderr",
     "output_type": "stream",
     "text": [
      "2018-07-20 12:40:37,915 - root - INFO: Split form HUCs\n"
     ]
    },
    {
     "name": "stderr",
     "output_type": "stream",
     "text": [
      "2018-07-20 12:40:38,028 - root - INFO: ...done\n"
     ]
    },
    {
     "name": "stderr",
     "output_type": "stream",
     "text": [
      "2018-07-20 12:40:38,030 - root - INFO: \n"
     ]
    },
    {
     "name": "stderr",
     "output_type": "stream",
     "text": [
      "2018-07-20 12:40:38,031 - root - INFO: Preprocessing hydrography\n"
     ]
    },
    {
     "name": "stderr",
     "output_type": "stream",
     "text": [
      "2018-07-20 12:40:38,032 - root - INFO: ==========================\n"
     ]
    },
    {
     "name": "stderr",
     "output_type": "stream",
     "text": [
      "2018-07-20 12:40:38,032 - root - INFO: collecting Hydrography 0601020802\n"
     ]
    },
    {
     "name": "stderr",
     "output_type": "stream",
     "text": [
      "2018-07-20 12:40:38,033 - root - INFO: loading streams\n"
     ]
    },
    {
     "name": "stderr",
     "output_type": "stream",
     "text": [
      "2018-07-20 12:40:38,471 - root - INFO: change coordinates to m\n"
     ]
    },
    {
     "name": "stderr",
     "output_type": "stream",
     "text": [
      "2018-07-20 12:40:38,793 - root - INFO: merging reaches\n"
     ]
    },
    {
     "name": "stderr",
     "output_type": "stream",
     "text": [
      "2018-07-20 12:40:39,776 - root - INFO: \n"
     ]
    },
    {
     "name": "stderr",
     "output_type": "stream",
     "text": [
      "2018-07-20 12:40:39,777 - root - INFO: Preprocessing DEM\n"
     ]
    },
    {
     "name": "stderr",
     "output_type": "stream",
     "text": [
      "2018-07-20 12:40:39,778 - root - INFO: ==========================\n"
     ]
    },
    {
     "name": "stderr",
     "output_type": "stream",
     "text": [
      "2018-07-20 12:40:39,778 - root - INFO: downloading DEM\n"
     ]
    },
    {
     "name": "stderr",
     "output_type": "stream",
     "text": [
      "2018-07-20 12:40:39,779 - root - INFO: loading HUC 0601020802\n"
     ]
    },
    {
     "name": "stderr",
     "output_type": "stream",
     "text": [
      "2018-07-20 12:40:39,923 - root - INFO: Clipping: \"0601020802\"\n"
     ]
    },
    {
     "name": "stderr",
     "output_type": "stream",
     "text": [
      "2018-07-20 12:40:39,924 - root - INFO: Collecting DEM tiles in: \"[-86, 35, -84, 37]\"\n"
     ]
    },
    {
     "name": "stderr",
     "output_type": "stream",
     "text": [
      "2018-07-20 12:40:39,925 - root - INFO:   including tile: \"/Users/uec/research/water/data/meshing/data/dem/USGS_NED_13_n36w86_IMG.img\"\n"
     ]
    },
    {
     "name": "stderr",
     "output_type": "stream",
     "text": [
      "2018-07-20 12:40:39,927 - root - INFO:     img bounds: [-86.00055555509414, 34.99944444500602, -84.9994444447047, 36.000555555395465]\n"
     ]
    },
    {
     "name": "stderr",
     "output_type": "stream",
     "text": [
      "2018-07-20 12:40:39,928 - root - INFO:     resolution: 0, 0\n"
     ]
    },
    {
     "name": "stderr",
     "output_type": "stream",
     "text": [
      "2018-07-20 12:40:40,085 - root - INFO:   including tile: \"/Users/uec/research/water/data/meshing/data/dem/USGS_NED_13_n37w86_IMG.img\"\n"
     ]
    },
    {
     "name": "stderr",
     "output_type": "stream",
     "text": [
      "2018-07-20 12:40:40,087 - root - INFO:     img bounds: [-86.00055555509414, 35.99944444480616, -84.9994444447047, 37.000555555195604]\n"
     ]
    },
    {
     "name": "stderr",
     "output_type": "stream",
     "text": [
      "2018-07-20 12:40:40,162 - root - INFO:   including tile: \"/Users/uec/research/water/data/meshing/data/dem/USGS_NED_13_n36w85_IMG.img\"\n"
     ]
    },
    {
     "name": "stderr",
     "output_type": "stream",
     "text": [
      "2018-07-20 12:40:40,164 - root - INFO:     img bounds: [-85.000555555294, 34.99944444500602, -83.99944444490455, 36.000555555395465]\n"
     ]
    },
    {
     "name": "stderr",
     "output_type": "stream",
     "text": [
      "2018-07-20 12:40:40,370 - root - INFO:   including tile: \"/Users/uec/research/water/data/meshing/data/dem/USGS_NED_13_n37w85_IMG.img\"\n"
     ]
    },
    {
     "name": "stderr",
     "output_type": "stream",
     "text": [
      "2018-07-20 12:40:40,373 - root - INFO:     img bounds: [-85.000555555294, 35.99944444480616, -83.99944444490455, 37.000555555195604]\n"
     ]
    }
   ],
   "source": [
    "hucs, centroid = workflow.hilev.get_hucs(args.HUC, args.center)\n",
    "rivers = workflow.hilev.get_rivers(args.HUC)\n",
    "dem_profile, dem = workflow.hilev.get_dem(args.HUC)\n"
   ]
  },
  {
   "cell_type": "code",
   "execution_count": 11,
   "metadata": {
    "autoscroll": false,
    "collapsed": false,
    "ein.hycell": false,
    "ein.tags": "worksheet-0",
    "slideshow": {
     "slide_type": "-"
    }
   },
   "outputs": [
    {
     "name": "stderr",
     "output_type": "stream",
     "text": [
      "2018-07-20 12:40:40,788 - root - INFO: \n"
     ]
    },
    {
     "name": "stderr",
     "output_type": "stream",
     "text": [
      "2018-07-20 12:40:40,789 - root - INFO: Simplifying and pruning\n"
     ]
    },
    {
     "name": "stderr",
     "output_type": "stream",
     "text": [
      "2018-07-20 12:40:40,790 - root - INFO: ========================\n"
     ]
    },
    {
     "name": "stderr",
     "output_type": "stream",
     "text": [
      "2018-07-20 12:40:40,790 - root - INFO: filtering rivers outside of the HUC space\n"
     ]
    },
    {
     "name": "stderr",
     "output_type": "stream",
     "text": [
      "2018-07-20 12:40:40,791 - root - INFO:   ...forming union\n"
     ]
    },
    {
     "name": "stderr",
     "output_type": "stream",
     "text": [
      "2018-07-20 12:40:40,825 - root - INFO:   ...filtering\n"
     ]
    },
    {
     "name": "stderr",
     "output_type": "stream",
     "text": [
      "2018-07-20 12:40:42,241 - root - INFO:   ...making global tree\n"
     ]
    },
    {
     "name": "stderr",
     "output_type": "stream",
     "text": [
      "2018-07-20 12:40:42,283 - root - INFO:   ...done\n"
     ]
    },
    {
     "name": "stderr",
     "output_type": "stream",
     "text": [
      "2018-07-20 12:40:42,284 - root - INFO: removing rivers with only a few reaches\n"
     ]
    },
    {
     "name": "stderr",
     "output_type": "stream",
     "text": [
      "2018-07-20 12:40:42,285 - root - INFO:   removing river with 1 reaches\n"
     ]
    },
    {
     "name": "stderr",
     "output_type": "stream",
     "text": [
      "2018-07-20 12:40:42,290 - root - INFO:   keeping river with 1072 reaches\n"
     ]
    },
    {
     "name": "stderr",
     "output_type": "stream",
     "text": [
      "2018-07-20 12:40:42,291 - root - INFO:   removing river with 1 reaches\n"
     ]
    },
    {
     "name": "stderr",
     "output_type": "stream",
     "text": [
      "2018-07-20 12:40:42,292 - root - INFO:   removing river with 1 reaches\n"
     ]
    },
    {
     "name": "stderr",
     "output_type": "stream",
     "text": [
      "2018-07-20 12:40:42,292 - root - INFO:   removing river with 1 reaches\n"
     ]
    },
    {
     "name": "stderr",
     "output_type": "stream",
     "text": [
      "2018-07-20 12:40:42,293 - root - INFO:   removing river with 3 reaches\n"
     ]
    },
    {
     "name": "stderr",
     "output_type": "stream",
     "text": [
      "2018-07-20 12:40:42,294 - root - INFO:   removing river with 1 reaches\n"
     ]
    },
    {
     "name": "stderr",
     "output_type": "stream",
     "text": [
      "2018-07-20 12:40:42,295 - root - INFO:   removing river with 5 reaches\n"
     ]
    },
    {
     "name": "stderr",
     "output_type": "stream",
     "text": [
      "2018-07-20 12:40:42,296 - root - INFO:   removing river with 1 reaches\n"
     ]
    },
    {
     "name": "stderr",
     "output_type": "stream",
     "text": [
      "2018-07-20 12:40:42,296 - root - INFO:   removing river with 1 reaches\n"
     ]
    },
    {
     "name": "stderr",
     "output_type": "stream",
     "text": [
      "2018-07-20 12:40:42,297 - root - INFO:   removing river with 1 reaches\n"
     ]
    },
    {
     "name": "stderr",
     "output_type": "stream",
     "text": [
      "2018-07-20 12:40:42,298 - root - INFO:   removing river with 5 reaches\n"
     ]
    },
    {
     "name": "stderr",
     "output_type": "stream",
     "text": [
      "2018-07-20 12:40:42,300 - root - INFO: simplifying rivers\n"
     ]
    },
    {
     "name": "stderr",
     "output_type": "stream",
     "text": [
      "2018-07-20 12:40:42,405 - root - INFO:     cleaned inner segment of length 15.1474 at centroid (-1907.0323458884377, 3935.9514686686452)\n"
     ]
    },
    {
     "name": "stderr",
     "output_type": "stream",
     "text": [
      "2018-07-20 12:40:42,407 - root - INFO:     cleaned inner segment of length 11.8862 at centroid (-6898.5525557487845, -4212.2604378093965)\n"
     ]
    },
    {
     "name": "stderr",
     "output_type": "stream",
     "text": [
      "2018-07-20 12:40:42,408 - root - INFO:     cleaned inner segment of length 11.5239 at centroid (-11753.930469335639, -4144.655081044184)\n"
     ]
    },
    {
     "name": "stderr",
     "output_type": "stream",
     "text": [
      "2018-07-20 12:40:42,411 - root - INFO:     cleaned inner segment of length 18.1646 at centroid (-11345.77488035179, -14847.07357779087)\n"
     ]
    },
    {
     "name": "stderr",
     "output_type": "stream",
     "text": [
      "2018-07-20 12:40:42,413 - root - INFO:     cleaned inner segment of length 8.3225 at centroid (-10217.038457811868, -11150.783452578122)\n"
     ]
    },
    {
     "name": "stderr",
     "output_type": "stream",
     "text": [
      "2018-07-20 12:40:42,418 - root - INFO: simplify HUCs\n"
     ]
    },
    {
     "name": "stderr",
     "output_type": "stream",
     "text": [
      "2018-07-20 12:40:42,435 - root - INFO: snapping rivers and HUCs\n"
     ]
    },
    {
     "name": "stderr",
     "output_type": "stream",
     "text": [
      "2018-07-20 12:40:42,473 - root - INFO:  Snapping polygon segment boundaries to river endpoints\n"
     ]
    },
    {
     "name": "stderr",
     "output_type": "stream",
     "text": [
      "2018-07-20 12:40:42,542 - root - INFO:  Snapping river endpoints to the polygon\n"
     ]
    },
    {
     "name": "stderr",
     "output_type": "stream",
     "text": [
      "2018-07-20 12:40:42,559 - root - INFO:   - snapped river: (12788.170553272474, 19082.593538597925) to (12784.636814633297, 19064.675252755726)\n"
     ]
    },
    {
     "name": "stderr",
     "output_type": "stream",
     "text": [
      "2018-07-20 12:40:42,560 - root - INFO: angle measured at 2.97284\n"
     ]
    },
    {
     "name": "stderr",
     "output_type": "stream",
     "text": [
      "2018-07-20 12:40:42,561 - root - INFO: angle measured at 0.168752\n"
     ]
    },
    {
     "name": "stderr",
     "output_type": "stream",
     "text": [
      "2018-07-20 12:40:42,562 - root - INFO: nearly parallel river with angle = 9.66879 degrees\n"
     ]
    },
    {
     "name": "stderr",
     "output_type": "stream",
     "text": [
      "2018-07-20 12:40:42,580 - root - INFO:   - snapped river: (12788.170553272474, 19082.593538597925) to (12784.636814633297, 19064.675252755726)\n"
     ]
    },
    {
     "name": "stderr",
     "output_type": "stream",
     "text": [
      "2018-07-20 12:40:42,582 - root - INFO: angle measured at 0.0528405\n"
     ]
    },
    {
     "name": "stderr",
     "output_type": "stream",
     "text": [
      "2018-07-20 12:40:42,583 - root - INFO: nearly parallel river with angle = 3.02754 degrees\n"
     ]
    },
    {
     "name": "stderr",
     "output_type": "stream",
     "text": [
      "2018-07-20 12:40:42,601 - root - INFO:   - snapped river: (12788.170553272474, 19082.593538597925) to (12784.636814633297, 19064.675252755726)\n"
     ]
    },
    {
     "name": "stderr",
     "output_type": "stream",
     "text": [
      "2018-07-20 12:40:42,603 - root - INFO: angle measured at 1.44254\n"
     ]
    },
    {
     "name": "stderr",
     "output_type": "stream",
     "text": [
      "2018-07-20 12:40:42,784 - root - INFO:   - snapped river: (7706.658130924567, 9099.128795485245) to (7709.940448975012, 9101.562042815201)\n"
     ]
    },
    {
     "name": "stderr",
     "output_type": "stream",
     "text": [
      "2018-07-20 12:40:42,785 - root - INFO: angle measured at 1.8712\n"
     ]
    },
    {
     "name": "stderr",
     "output_type": "stream",
     "text": [
      "2018-07-20 12:40:42,787 - root - INFO: angle measured at 1.27039\n"
     ]
    },
    {
     "name": "stderr",
     "output_type": "stream",
     "text": [
      "2018-07-20 12:40:42,795 - root - INFO:   - snapped river: (7706.658130924567, 9099.128795485245) to (7709.940448975012, 9101.562042815201)\n"
     ]
    },
    {
     "name": "stderr",
     "output_type": "stream",
     "text": [
      "2018-07-20 12:40:42,797 - root - INFO: angle measured at 1.58339\n"
     ]
    },
    {
     "name": "stderr",
     "output_type": "stream",
     "text": [
      "2018-07-20 12:40:42,930 - root - INFO:   - snapped river: (1913.936677599093, 1052.3219392457977) to (1908.6007007467135, 1039.4870586008174)\n"
     ]
    },
    {
     "name": "stderr",
     "output_type": "stream",
     "text": [
      "2018-07-20 12:40:42,931 - root - INFO: angle measured at 1.46926\n"
     ]
    },
    {
     "name": "stderr",
     "output_type": "stream",
     "text": [
      "2018-07-20 12:40:42,932 - root - INFO: angle measured at 1.67233\n"
     ]
    },
    {
     "name": "stderr",
     "output_type": "stream",
     "text": [
      "2018-07-20 12:40:42,942 - root - INFO:   - snapped river: (1913.936677599093, 1052.3219392457977) to (1908.6007007467135, 1039.4870586008174)\n"
     ]
    },
    {
     "name": "stderr",
     "output_type": "stream",
     "text": [
      "2018-07-20 12:40:42,944 - root - INFO: angle measured at 0.174577\n"
     ]
    },
    {
     "name": "stderr",
     "output_type": "stream",
     "text": [
      "2018-07-20 12:40:42,944 - root - INFO: nearly parallel river with angle = 10.0025 degrees\n"
     ]
    },
    {
     "name": "stderr",
     "output_type": "stream",
     "text": [
      "2018-07-20 12:40:43,205 - root - INFO:   - snapped river: (1913.936677599093, 1052.3219392457977) to (1908.6007007467135, 1039.4870586008174)\n"
     ]
    },
    {
     "name": "stderr",
     "output_type": "stream",
     "text": [
      "2018-07-20 12:40:43,206 - root - INFO: angle measured at 2.20387\n"
     ]
    },
    {
     "name": "stderr",
     "output_type": "stream",
     "text": [
      "2018-07-20 12:40:43,223 - root - INFO:   - snapped river: (1210.0938089654082, -368.35177286108956) to (1199.9030541260727, -370.0639626821503)\n"
     ]
    },
    {
     "name": "stderr",
     "output_type": "stream",
     "text": [
      "2018-07-20 12:40:43,225 - root - INFO: angle measured at 3.08312\n"
     ]
    },
    {
     "name": "stderr",
     "output_type": "stream",
     "text": [
      "2018-07-20 12:40:43,226 - root - INFO: angle measured at 1.41498\n"
     ]
    },
    {
     "name": "stderr",
     "output_type": "stream",
     "text": [
      "2018-07-20 12:40:43,238 - root - INFO:   - snapped river: (1210.0938089654082, -368.35177286108956) to (1199.9030541260727, -370.0639626821503)\n"
     ]
    },
    {
     "name": "stderr",
     "output_type": "stream",
     "text": [
      "2018-07-20 12:40:43,239 - root - INFO: angle measured at 0.779065\n"
     ]
    },
    {
     "name": "stderr",
     "output_type": "stream",
     "text": [
      "2018-07-20 12:40:43,808 - root - INFO:   - snapped river: (1210.0938089654082, -368.35177286108956) to (1199.9030541260727, -370.0639626821503)\n"
     ]
    },
    {
     "name": "stderr",
     "output_type": "stream",
     "text": [
      "2018-07-20 12:40:43,809 - root - INFO: angle measured at 0.769604\n"
     ]
    },
    {
     "name": "stderr",
     "output_type": "stream",
     "text": [
      "2018-07-20 12:40:43,921 - root - INFO:   - snapped river: (-1019.5656490110559, -3844.5274873252492) to (-1028.9959714171418, -3857.990024548019)\n"
     ]
    },
    {
     "name": "stderr",
     "output_type": "stream",
     "text": [
      "2018-07-20 12:40:43,922 - root - INFO: angle measured at 1.35674\n"
     ]
    },
    {
     "name": "stderr",
     "output_type": "stream",
     "text": [
      "2018-07-20 12:40:43,922 - root - INFO: angle measured at 1.78485\n"
     ]
    },
    {
     "name": "stderr",
     "output_type": "stream",
     "text": [
      "2018-07-20 12:40:43,931 - root - INFO:   - snapped river: (-1019.5656490110559, -3844.5274873252492) to (-1028.9959714171418, -3857.990024548019)\n"
     ]
    },
    {
     "name": "stderr",
     "output_type": "stream",
     "text": [
      "2018-07-20 12:40:43,932 - root - INFO: angle measured at 1.95324\n"
     ]
    },
    {
     "name": "stderr",
     "output_type": "stream",
     "text": [
      "2018-07-20 12:40:44,795 - root - INFO:   - snapped river: (-1019.5656490110559, -3844.5274873252492) to (-1028.9959714171418, -3857.990024548019)\n"
     ]
    },
    {
     "name": "stderr",
     "output_type": "stream",
     "text": [
      "2018-07-20 12:40:44,796 - root - INFO: angle measured at 0.790567\n"
     ]
    },
    {
     "name": "stderr",
     "output_type": "stream",
     "text": [
      "2018-07-20 12:40:45,030 - root - INFO:   - snapped river: (7706.658130924567, 9099.128795485245) to (7709.940448975012, 9101.562042815201)\n"
     ]
    },
    {
     "name": "stderr",
     "output_type": "stream",
     "text": [
      "2018-07-20 12:40:45,031 - root - INFO: angle measured at 0.347447\n"
     ]
    },
    {
     "name": "stderr",
     "output_type": "stream",
     "text": [
      "2018-07-20 12:40:45,439 - root - INFO:  Cutting at crossings\n"
     ]
    },
    {
     "name": "stderr",
     "output_type": "stream",
     "text": [
      "2018-07-20 12:40:45,590 - root - INFO: filtering cut reaches outside the HUC space\n"
     ]
    },
    {
     "name": "stderr",
     "output_type": "stream",
     "text": [
      "2018-07-20 12:40:45,591 - root - INFO:   ...forming union\n"
     ]
    },
    {
     "name": "stderr",
     "output_type": "stream",
     "text": [
      "2018-07-20 12:40:45,606 - root - INFO:   ...filtering\n"
     ]
    },
    {
     "name": "stderr",
     "output_type": "stream",
     "text": [
      "2018-07-20 12:40:45,979 - root - INFO:   ...making global tree\n"
     ]
    },
    {
     "name": "stderr",
     "output_type": "stream",
     "text": [
      "2018-07-20 12:40:46,017 - root - INFO:   ...done\n"
     ]
    },
    {
     "name": "stderr",
     "output_type": "stream",
     "text": [
      "2018-07-20 12:40:46,018 - root - INFO: ...done\n"
     ]
    },
    {
     "name": "stderr",
     "output_type": "stream",
     "text": [
      "2018-07-20 12:40:46,018 - root - INFO: Resulting info\n"
     ]
    },
    {
     "name": "stderr",
     "output_type": "stream",
     "text": [
      "2018-07-20 12:40:46,081 - root - INFO:   river min seg length: 23.4763\n"
     ]
    },
    {
     "name": "stderr",
     "output_type": "stream",
     "text": [
      "2018-07-20 12:40:46,082 - root - INFO:   river median seg length: 102.386\n"
     ]
    },
    {
     "name": "stderr",
     "output_type": "stream",
     "text": [
      "2018-07-20 12:40:46,089 - root - INFO:   HUC min seg length: 29.0815\n"
     ]
    },
    {
     "name": "stderr",
     "output_type": "stream",
     "text": [
      "2018-07-20 12:40:46,089 - root - INFO:   HUC median seg length: 49.3542\n"
     ]
    },
    {
     "name": "stderr",
     "output_type": "stream",
     "text": [
      "2018-07-20 12:40:46,106 - root - INFO: \n"
     ]
    },
    {
     "name": "stderr",
     "output_type": "stream",
     "text": [
      "2018-07-20 12:40:46,107 - root - INFO: Meshing\n"
     ]
    },
    {
     "name": "stderr",
     "output_type": "stream",
     "text": [
      "2018-07-20 12:40:46,108 - root - INFO: ===============\n"
     ]
    },
    {
     "name": "stderr",
     "output_type": "stream",
     "text": [
      "2018-07-20 12:40:46,119 - root - INFO: Triangulating...\n"
     ]
    },
    {
     "name": "stderr",
     "output_type": "stream",
     "text": [
      "2018-07-20 12:40:46,189 - root - INFO:    5133 points and 5145 facets\n"
     ]
    },
    {
     "name": "stderr",
     "output_type": "stream",
     "text": [
      "2018-07-20 12:40:46,190 - root - INFO:  checking graph consistency\n"
     ]
    },
    {
     "name": "stderr",
     "output_type": "stream",
     "text": [
      "2018-07-20 12:40:46,228 - root - INFO:  building graph data structures\n"
     ]
    },
    {
     "name": "stderr",
     "output_type": "stream",
     "text": [
      "2018-07-20 12:40:46,255 - root - INFO:  triangle.build...\n"
     ]
    },
    {
     "name": "stderr",
     "output_type": "stream",
     "text": [
      "2018-07-20 12:41:31,996 - root - INFO:   ...built: 23158 mesh points and 45561 triangles\n"
     ]
    },
    {
     "name": "stderr",
     "output_type": "stream",
     "text": [
      "2018-07-20 12:41:31,999 - root - INFO: triangulation diagnostics\n"
     ]
    }
   ],
   "source": [
    "if args.center:\n",
    "    rivers = [shapely.affinity.translate(r, -centroid.coords[0][0], -centroid.coords[0][1]) for r in rivers]\n",
    "rivers = workflow.hilev.simplify_and_prune(hucs, rivers, args)\n",
    "mesh_points2, mesh_tris = workflow.hilev.triangulate(hucs,rivers, args)\n"
   ]
  },
  {
   "cell_type": "code",
   "execution_count": 12,
   "metadata": {
    "autoscroll": false,
    "collapsed": false,
    "ein.hycell": false,
    "ein.tags": "worksheet-0",
    "slideshow": {
     "slide_type": "-"
    }
   },
   "outputs": [
    {
     "name": "stderr",
     "output_type": "stream",
     "text": [
      "2018-07-20 12:41:49,715 - root - INFO: elevating\n"
     ]
    }
   ],
   "source": [
    "if args.center:\n",
    "    mesh_points2_uncentered = mesh_points2 + np.expand_dims(np.array(centroid.coords[0]),0)\n",
    "else:\n",
    "    mesh_points2_uncentered = mesh_points2\n",
    "\n",
    "mesh_points3_uncentered = workflow.hilev.elevate(mesh_points2_uncentered, dem, dem_profile)\n",
    "\n",
    "if args.center:\n",
    "    mesh_points3 = np.empty(mesh_points3_uncentered.shape,'d')\n",
    "    mesh_points3[:,0:2] = mesh_points2\n",
    "    mesh_points3[:,2] = mesh_points3_uncentered[:,2]\n",
    "else:\n",
    "    mesh_points3 = mesh_ponts3_uncentered\n"
   ]
  },
  {
   "cell_type": "code",
   "execution_count": 13,
   "metadata": {
    "autoscroll": false,
    "collapsed": false,
    "ein.hycell": false,
    "ein.tags": "worksheet-0",
    "slideshow": {
     "slide_type": "-"
    }
   },
   "outputs": [],
   "source": [
    "plt.figure()\n",
    "workflow.plot.triangulation(mesh_points3, mesh_tris, linewidth=0.5)\n",
    "workflow.plot.hucs(hucs, 'k')\n",
    "workflow.plot.rivers(rivers, color='r')\n",
    "plt.gca().set_aspect('equal', 'datalim')    \n",
    "plt.show()\n"
   ]
  },
  {
   "cell_type": "code",
   "execution_count": null,
   "metadata": {
    "autoscroll": false,
    "collapsed": false,
    "ein.hycell": false,
    "ein.tags": "worksheet-0",
    "slideshow": {
     "slide_type": "-"
    }
   },
   "outputs": [],
   "source": []
  }
 ],
 "metadata": {
  "kernelspec": {
   "display_name": "Python 3",
   "name": "python3"
  },
  "name": "workflow_example.ipynb"
 },
 "nbformat": 4,
 "nbformat_minor": 2
}
