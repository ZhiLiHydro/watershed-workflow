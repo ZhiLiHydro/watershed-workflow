{
 "cells": [
  {
   "cell_type": "code",
   "execution_count": 1,
   "metadata": {},
   "outputs": [
    {
     "name": "stdout",
     "output_type": "stream",
     "text": [
      "Using matplotlib backend: MacOSX\n"
     ]
    }
   ],
   "source": [
    "%matplotlib"
   ]
  },
  {
   "cell_type": "code",
   "execution_count": 2,
   "metadata": {},
   "outputs": [],
   "source": [
    "import sys,os\n",
    "import numpy as np\n",
    "from mpl_toolkits.mplot3d.axes3d import Axes3D\n",
    "import matplotlib.pyplot as plt\n",
    "import matplotlib.collections as pltc\n",
    "import logging\n",
    "\n",
    "import shapely\n",
    "import meshpy.triangle\n",
    "\n",
    "import workflow.conf\n",
    "import workflow.download\n",
    "import workflow.triangulate\n",
    "import workflow.warp\n",
    "import workflow.plot\n",
    "import workflow.tree\n",
    "import workflow.hucs\n",
    "import workflow.hydrography\n",
    "\n",
    "import vtk_io # from ATS/tools/meshing_ats\n",
    "\n"
   ]
  },
  {
   "cell_type": "code",
   "execution_count": 3,
   "metadata": {},
   "outputs": [],
   "source": [
    "simplify_distance = 10 # meters\n",
    "\n",
    "myhuc = '06010208'\n",
    "outdir = \"data/meshes/%s/12\"%myhuc\n",
    "if not os.path.isdir(outdir):\n",
    "    os.makedirs(outdir)\n",
    "\n"
   ]
  },
  {
   "cell_type": "code",
   "execution_count": 4,
   "metadata": {},
   "outputs": [],
   "source": [
    "# deal with logging to stdout\n",
    "root = logging.getLogger()\n",
    "root.setLevel(logging.INFO)\n",
    "ch = logging.StreamHandler(sys.stdout)\n",
    "ch.setLevel(logging.INFO)\n",
    "formatter = logging.Formatter('%(asctime)s - %(name)s - %(levelname)s - %(message)s')\n",
    "ch.setFormatter(formatter)\n",
    "root.addHandler(ch)\n",
    " "
   ]
  },
  {
   "cell_type": "code",
   "execution_count": 5,
   "metadata": {},
   "outputs": [
    {
     "name": "stdout",
     "output_type": "stream",
     "text": [
      "2018-07-16 10:51:48,750 - root - INFO - Preprocessing HUCs\n",
      "2018-07-16 10:51:48,753 - root - INFO - =====================\n",
      "2018-07-16 10:51:48,754 - root - INFO - downloading HUC 06\n",
      "2018-07-16 10:51:48,755 - root - INFO - Collecting HUC: \"06\"\n",
      "2018-07-16 10:51:48,763 - root - INFO - loading HUC 06010208\n",
      "2018-07-16 10:51:48,913 - root - INFO - loading all 12s\n",
      "2018-07-16 10:51:49,143 - root - INFO - change coordinates to m\n",
      "2018-07-16 10:51:49,174 - root - INFO - Split form HUCs\n",
      "2018-07-16 10:51:50,349 - root - INFO - ...done\n"
     ]
    }
   ],
   "source": [
    "## === Preprocess HUCs ===\n",
    "logging.info(\"Preprocessing HUCs\")\n",
    "logging.info(\"=====================\")\n",
    "\n",
    "# collect HUC shapefile\n",
    "logging.info(\"downloading HUC %s\"%myhuc[0:2])\n",
    "workflow.download.download_huc(myhuc[0:2])\n",
    "\n",
    "# load shapefiles for the HUC8 of interest\n",
    "logging.info(\"loading HUC %s\"%myhuc)\n",
    "profile, huc8 = workflow.conf.load_huc(myhuc)\n",
    "\n",
    "# load shapefiles for all HUC 12s in the Obed HUC 8.\n",
    "logging.info(\"loading all 12s\")\n",
    "profile, huc12s = workflow.conf.load_hucs_in('06010208', 12)\n",
    "\n",
    "# change coordinates to meters (in place)\n",
    "logging.info(\"change coordinates to m\")\n",
    "for huc12 in huc12s:\n",
    "    workflow.warp.warp_shape(huc12, profile['crs'], workflow.conf.default_crs())\n",
    "\n",
    "# convert to shapely\n",
    "huc_shapes = [shapely.geometry.shape(s['geometry']) for s in huc12s]\n",
    "\n",
    "# split\n",
    "logging.info(\"Split form HUCs\")\n",
    "hucs = workflow.hucs.HUCs(huc_shapes)\n",
    "logging.info(\"...done\")"
   ]
  },
  {
   "cell_type": "code",
   "execution_count": 6,
   "metadata": {},
   "outputs": [
    {
     "name": "stdout",
     "output_type": "stream",
     "text": [
      "2018-07-16 10:51:50,434 - root - INFO - Preprocessing hydrography\n",
      "2018-07-16 10:51:50,437 - root - INFO - ==========================\n",
      "2018-07-16 10:51:50,442 - root - INFO - downloading Hydrography 06010208\n",
      "2018-07-16 10:51:50,446 - root - INFO - Collecting HUC Hydrography: \"06010208\"\n",
      "2018-07-16 10:51:50,447 - root - INFO - loading streams\n",
      "2018-07-16 10:51:50,865 - root - INFO - change coordinates to m\n",
      "2018-07-16 10:51:51,194 - root - INFO - merging reaches\n",
      "2018-07-16 10:51:52,158 - root - INFO - forming global tree\n",
      "2018-07-16 10:51:52,563 - root - INFO - ...done\n"
     ]
    }
   ],
   "source": [
    "## === Preprocess hydrography ===\n",
    "logging.info(\"Preprocessing hydrography\")\n",
    "logging.info(\"==========================\")\n",
    "\n",
    "# collect hydrography\n",
    "logging.info(\"downloading Hydrography %s\"%myhuc)\n",
    "workflow.download.download_hydro(myhuc)\n",
    "\n",
    "# load stream network\n",
    "logging.info(\"loading streams\")\n",
    "rprofile, rivers = workflow.conf.load_hydro('06010208')\n",
    "\n",
    "# change coordinates to meters (in place)\n",
    "logging.info(\"change coordinates to m\")\n",
    "for river in rivers:\n",
    "    workflow.warp.warp_shape(river, rprofile['crs'], workflow.conf.default_crs())\n",
    "\n",
    "# convert to shapely\n",
    "logging.info(\"merging reaches\")\n",
    "rivers_s = shapely.geometry.MultiLineString([shapely.geometry.shape(r['geometry']) for r in rivers])\n",
    "rivers_s2 = shapely.ops.linemerge(rivers_s).simplify(1.e-5)\n",
    "\n",
    "logging.info(\"forming global tree\")\n",
    "rivers = workflow.hydrography.make_global_tree(rivers_s2, tol=0.1)\n",
    "del rivers_s\n",
    "del rivers_s2\n",
    "logging.info(\"...done\")"
   ]
  },
  {
   "cell_type": "code",
   "execution_count": 7,
   "metadata": {},
   "outputs": [
    {
     "name": "stdout",
     "output_type": "stream",
     "text": [
      "keeping one of length 5473\n"
     ]
    }
   ],
   "source": [
    "# a few small trees can be removed\n",
    "for i in reversed(range(len(rivers))):\n",
    "    ltree = len(rivers[i])\n",
    "    if ltree < 10:\n",
    "        rivers.pop(i)\n",
    "    else:\n",
    "        print(\"keeping one of length\", ltree)"
   ]
  },
  {
   "cell_type": "code",
   "execution_count": 8,
   "metadata": {},
   "outputs": [
    {
     "name": "stdout",
     "output_type": "stream",
     "text": [
      "2018-07-16 10:51:52,745 - root - INFO - simplify and prune rivers\n",
      "2018-07-16 10:51:53,287 - root - INFO -     cleaned inner segment of length 9.4836 at centroid (980835.1804743886, 1510148.8389611207)\n",
      "2018-07-16 10:51:53,292 - root - INFO -     cleaned inner segment of length 9.00602 at centroid (986906.9574483884, 1503163.3019694358)\n",
      "2018-07-16 10:51:53,301 - root - INFO -     cleaned inner segment of length 3.67397 at centroid (975519.8083108478, 1490668.9926833385)\n",
      "2018-07-16 10:51:53,311 - root - INFO -     cleaned inner segment of length 8.3225 at centroid (977282.7242552503, 1476609.474854385)\n",
      "2018-07-16 10:51:53,318 - root - INFO -     cleaned inner segment of length 7.76292 at centroid (1008015.8491485287, 1521036.1073649758)\n",
      "2018-07-16 10:51:53,324 - root - INFO -     cleaned inner segment of length 8.61727 at centroid (1002954.0880678874, 1499733.8393994668)\n",
      "2018-07-16 10:51:53,333 - root - INFO - simplify HUCs\n",
      "2018-07-16 10:51:53,430 - root - INFO - ...done\n"
     ]
    }
   ],
   "source": [
    "# simplify and prune\n",
    "logging.info(\"simplify and prune rivers\")\n",
    "workflow.hydrography.cleanup(rivers, simplify_distance, simplify_distance, simplify_distance)\n",
    "logging.info(\"simplify HUCs\")\n",
    "workflow.hucs.simplify(hucs, simplify_distance)\n",
    "logging.info(\"...done\")"
   ]
  },
  {
   "cell_type": "code",
   "execution_count": 9,
   "metadata": {},
   "outputs": [
    {
     "name": "stdout",
     "output_type": "stream",
     "text": [
      "2018-07-16 10:51:53,492 - root - INFO - snap\n",
      "2018-07-16 10:51:53,494 - root - INFO -  Snapping polygon segment boundaries to river endpoints\n",
      "2018-07-16 10:51:53,934 - root - INFO -  Snapping river endpoints to the polygon\n",
      "2018-07-16 10:51:59,587 - root - INFO -   - snapped river: (1010661.231952778, 1507594.537775388) to (1010661.231952778, 1507594.537775388)\n",
      "2018-07-16 10:51:59,595 - root - INFO -   - snapped river: (1010661.231952778, 1507594.537775388) to (1010661.231952778, 1507594.537775388)\n",
      "2018-07-16 10:51:59,600 - root - INFO -   - snapped river: (1010661.231952778, 1507594.537775388) to (1010661.231952778, 1507594.537775388)\n",
      "2018-07-16 10:51:59,630 - root - INFO -   - snapped river: (1010661.231952778, 1507594.537775388) to (1010661.231952778, 1507594.537775388)\n",
      "2018-07-16 10:51:59,646 - root - INFO -   - snapped river: (1010661.231952778, 1507594.537775388) to (1010661.231952778, 1507594.537775388)\n",
      "2018-07-16 10:51:59,657 - root - INFO -   - snapped river: (1010661.231952778, 1507594.537775388) to (1010661.231952778, 1507594.537775388)\n",
      "2018-07-16 10:52:03,761 - root - INFO -   - snapped river: (984113.820469202, 1513426.8823525214) to (984120.5005414865, 1513423.0996146514)\n",
      "2018-07-16 10:52:03,776 - root - INFO -   - snapped river: (984113.820469202, 1513426.8823525214) to (984120.5005414865, 1513423.0996146514)\n",
      "2018-07-16 10:52:04,420 - root - INFO -   - snapped river: (984113.820469202, 1513426.8823525214) to (984120.5005414865, 1513423.0996146514)\n",
      "2018-07-16 10:52:04,712 - root - INFO -   - snapped river: (978563.4249385255, 1512322.6640905372) to (978567.5975091653, 1512331.4117783306)\n",
      "2018-07-16 10:52:04,729 - root - INFO -   - snapped river: (978563.4249385255, 1512322.6640905372) to (978567.5975091653, 1512331.4117783306)\n",
      "2018-07-16 10:52:06,385 - root - INFO -   - snapped river: (978563.4249385255, 1512322.6640905372) to (978567.5975091653, 1512331.4117783306)\n",
      "2018-07-16 10:52:09,839 - root - INFO -   - snapped river: (988665.4997238647, 1504838.528792991) to (988668.9644920263, 1504835.5961578242)\n",
      "2018-07-16 10:52:09,860 - root - INFO -   - snapped river: (988665.4997238647, 1504838.528792991) to (988668.9644920263, 1504835.5961578242)\n",
      "2018-07-16 10:52:12,031 - root - INFO -   - snapped river: (976454.5470594217, 1494602.2529829957) to (976454.5470594217, 1494602.2529829957)\n",
      "2018-07-16 10:52:12,035 - root - INFO -   - snapped river: (976454.5470594217, 1494602.2529829957) to (976454.5470594217, 1494602.2529829957)\n",
      "2018-07-16 10:52:12,045 - root - INFO -   - snapped river: (976454.5470594217, 1494602.2529829957) to (976454.5470594217, 1494602.2529829957)\n",
      "2018-07-16 10:52:12,062 - root - INFO -   - snapped river: (976454.5470594217, 1494602.2529829957) to (976454.5470594217, 1494602.2529829957)\n",
      "2018-07-16 10:52:12,068 - root - INFO -   - snapped river: (976454.5470594217, 1494602.2529829957) to (976454.5470594217, 1494602.2529829957)\n",
      "2018-07-16 10:52:12,078 - root - INFO -   - snapped river: (976454.5470594217, 1494602.2529829957) to (976454.5470594217, 1494602.2529829957)\n",
      "2018-07-16 10:52:14,260 - root - INFO -   - snapped river: (976454.5470594217, 1494602.2529829957) to (976454.5470594217, 1494602.2529829957)\n",
      "2018-07-16 10:52:14,267 - root - INFO -   - snapped river: (976454.5470594217, 1494602.2529829957) to (976454.5470594217, 1494602.2529829957)\n",
      "2018-07-16 10:52:14,275 - root - INFO -   - snapped river: (976454.5470594217, 1494602.2529829957) to (976454.5470594217, 1494602.2529829957)\n",
      "2018-07-16 10:52:16,625 - root - INFO -   - snapped river: (988665.4997238647, 1504838.528792991) to (988668.9644920263, 1504835.5961578242)\n",
      "2018-07-16 10:52:19,420 - root - INFO -   - snapped river: (995206.4208439868, 1496859.3871024484) to (995202.8092876755, 1496856.1030793025)\n",
      "2018-07-16 10:52:19,446 - root - INFO -   - snapped river: (995206.4208439868, 1496859.3871024484) to (995202.8092876755, 1496856.1030793025)\n",
      "2018-07-16 10:52:27,735 - root - INFO -   - snapped river: (995206.4208439868, 1496859.3871024484) to (995202.8092876755, 1496856.1030793025)\n",
      "2018-07-16 10:52:29,811 - root - INFO -   - snapped river: (1010661.231952778, 1507594.537775388) to (1010661.231952778, 1507594.537775388)\n",
      "2018-07-16 10:52:29,822 - root - INFO -   - snapped river: (1010661.231952778, 1507594.537775388) to (1010661.231952778, 1507594.537775388)\n",
      "2018-07-16 10:52:29,828 - root - INFO -   - snapped river: (1010661.231952778, 1507594.537775388) to (1010661.231952778, 1507594.537775388)\n",
      "2018-07-16 10:52:32,233 - root - INFO -   - snapped river: (1015484.8596019776, 1516830.5587592237) to (1015489.0458700532, 1516832.6958533684)\n",
      "2018-07-16 10:52:32,249 - root - INFO -   - snapped river: (1015484.8596019776, 1516830.5587592237) to (1015489.0458700532, 1516832.6958533684)\n",
      "2018-07-16 10:52:32,250 - root - INFO - nearly parallel river with angle = 7.60431 degrees\n",
      "2018-07-16 10:52:32,251 - root - INFO - nearly parallel river with angle = 7.60431 degrees\n",
      "2018-07-16 10:52:33,148 - root - INFO -   - snapped river: (1015484.8596019776, 1516830.5587592237) to (1015489.0458700532, 1516832.6958533684)\n",
      "2018-07-16 10:52:35,245 - root - INFO -   - snapped river: (1009989.0651895985, 1506407.6429893079) to (1009981.7752043252, 1506404.1995229688)\n",
      "2018-07-16 10:52:35,260 - root - INFO -   - snapped river: (1009989.0651895985, 1506407.6429893079) to (1009981.7752043252, 1506404.1995229688)\n",
      "2018-07-16 10:52:36,475 - root - INFO -   - snapped river: (1009989.0651895985, 1506407.6429893079) to (1009981.7752043252, 1506404.1995229688)\n",
      "2018-07-16 10:52:36,476 - root - INFO - nearly parallel river with angle = 1.10515 degrees\n",
      "2018-07-16 10:52:36,477 - root - INFO - nearly parallel river with angle = 1.10515 degrees\n",
      "2018-07-16 10:52:45,109 - root - INFO -  Cutting at crossings\n"
     ]
    },
    {
     "data": {
      "text/plain": [
       "True"
      ]
     },
     "execution_count": 9,
     "metadata": {},
     "output_type": "execute_result"
    }
   ],
   "source": [
    "# snap\n",
    "logging.info(\"snap\")\n",
    "workflow.hydrography.snap(hucs, rivers, simplify_distance, 10*simplify_distance)"
   ]
  },
  {
   "cell_type": "code",
   "execution_count": null,
   "metadata": {},
   "outputs": [],
   "source": [
    "workflow.plot.rivers(rivers, color='g', style='-x')\n",
    "workflow.plot.hucs(hucs, color='k', style='-.x')"
   ]
  },
  {
   "cell_type": "code",
   "execution_count": 10,
   "metadata": {},
   "outputs": [
    {
     "name": "stdout",
     "output_type": "stream",
     "text": [
      "min min: 10.147029616163628\n",
      "median: 60.57112798822514\n"
     ]
    }
   ],
   "source": [
    "mins = []\n",
    "for river in rivers:\n",
    "    for line in river.dfs():\n",
    "        coords = np.array(line.coords[:])\n",
    "        dz = np.linalg.norm(coords[1:] - coords[:-1], 2, -1)\n",
    "        if np.min(dz) < 10:\n",
    "            plt.plot(coords[:,0], coords[:,1], 'r-x')\n",
    "        mins.append(np.min(dz))\n",
    "print(\"min min:\", min(mins))\n",
    "print(\"median:\", np.median(np.array(mins)))\n",
    "\n",
    "plt.show()\n"
   ]
  },
  {
   "cell_type": "code",
   "execution_count": 11,
   "metadata": {},
   "outputs": [
    {
     "name": "stdout",
     "output_type": "stream",
     "text": [
      "min min: 10.816764915509692\n",
      "median: 26.81410863382822\n"
     ]
    }
   ],
   "source": [
    "mins = []\n",
    "for line in hucs.segments:\n",
    "    coords = np.array(line.coords[:])\n",
    "    dz = np.linalg.norm(coords[1:] - coords[:-1], 2, -1)\n",
    "    mins.append(np.min(dz))\n",
    "print(\"min min:\", min(mins))\n",
    "print(\"median:\", np.median(np.array(mins)))    "
   ]
  },
  {
   "cell_type": "code",
   "execution_count": 17,
   "metadata": {},
   "outputs": [
    {
     "data": {
      "text/plain": [
       "<module 'workflow.tree' from '/Users/uec/research/water/data/meshing/workflow/tree.py'>"
      ]
     },
     "execution_count": 17,
     "metadata": {},
     "output_type": "execute_result"
    }
   ],
   "source": [
    "from importlib import reload\n",
    "reload(workflow.triangulate)\n",
    "reload(workflow.tree)"
   ]
  },
  {
   "cell_type": "code",
   "execution_count": null,
   "metadata": {},
   "outputs": [
    {
     "name": "stdout",
     "output_type": "stream",
     "text": [
      "2018-07-16 10:56:57,819 - root - INFO - triangulate\n",
      "2018-07-16 10:56:57,821 - root - INFO - Triangulating...\n",
      "2018-07-16 10:56:58,107 - root - INFO -    37534 points and 38069 facets\n"
     ]
    }
   ],
   "source": [
    "# === triangulate ===\n",
    "logging.info(\"triangulate\")\n",
    "#refine_func = workflow.triangulate.refine_from_river_distance(500, 100, 1000, 500, rivers)\n",
    "refine_func = workflow.triangulate.refine_from_max_area(1.e6)\n",
    "mesh_points, mesh_tris = workflow.triangulate.triangulate(hucs, rivers, verbose=True, refinement_func=refine_func)\n",
    "\n",
    "# plot\n",
    "plt.figure()\n",
    "workflow.plot.tri(mesh_points, mesh_tris)\n",
    "plt.show()"
   ]
  },
  {
   "cell_type": "code",
   "execution_count": null,
   "metadata": {},
   "outputs": [],
   "source": []
  }
 ],
 "metadata": {
  "kernelspec": {
   "display_name": "Python 3",
   "language": "python",
   "name": "python3"
  },
  "language_info": {
   "codemirror_mode": {
    "name": "ipython",
    "version": 3
   },
   "file_extension": ".py",
   "mimetype": "text/x-python",
   "name": "python",
   "nbconvert_exporter": "python",
   "pygments_lexer": "ipython3",
   "version": "3.6.4"
  }
 },
 "nbformat": 4,
 "nbformat_minor": 2
}
